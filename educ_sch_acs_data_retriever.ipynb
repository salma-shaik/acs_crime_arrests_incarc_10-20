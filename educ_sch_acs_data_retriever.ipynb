{
 "cells": [
  {
   "cell_type": "code",
   "execution_count": 1,
   "metadata": {},
   "outputs": [],
   "source": [
    "import pandas as pd\n",
    "import requests\n",
    "import json\n",
    "import csv\n",
    "import os"
   ]
  },
  {
   "cell_type": "code",
   "execution_count": 2,
   "metadata": {},
   "outputs": [
    {
     "data": {
      "text/html": [
       "<style>.container { width:100% !important; }</style>"
      ],
      "text/plain": [
       "<IPython.core.display.HTML object>"
      ]
     },
     "metadata": {},
     "output_type": "display_data"
    }
   ],
   "source": [
    "from IPython.core.display import display, HTML\n",
    "display(HTML(\"<style>.container { width:100% !important; }</style>\"))"
   ]
  },
  {
   "cell_type": "code",
   "execution_count": 15,
   "metadata": {},
   "outputs": [],
   "source": [
    "def get_educ_school_acs_data(base_url, vars_str, fips_df, op_path, op_file, key):\n",
    "    \"\"\"\n",
    "    :param base_url: Different base url for 2000 and 2010 years\n",
    "    :param fips_df: df with state and county fips codes\n",
    "    :param op_file: op file name to which the data needs to be written\n",
    "    :param census_year: year for which decennial census data\n",
    "    :return:\n",
    "    \"\"\"\n",
    "    \n",
    "    # take a count variable to help distinguish 1st request from subsequent requests so that we take the variable\n",
    "    # names only from the 1st call as the header names and skip varibale names from the subsequent calls.\n",
    "    response = ''\n",
    "    count = 0\n",
    "    # open a new file with the required output file name\n",
    "    with open(f'{op_path}/{op_file}', 'w') as file_wrtr:\n",
    "        # take a csv writer object to write to this output file\n",
    "        op_file_writer = csv.writer(file_wrtr)\n",
    "\n",
    "        # Iterate over each row in the state_county fips df\n",
    "        for row in fips_df.itertuples():\n",
    "            print('row: ', row)\n",
    "            # create the request url for each state and fips code to get the data for all county subdivisions under it\n",
    "            try:\n",
    "                \"\"\" Use timer if needed \"\"\"\n",
    "                if count in [20, 40, 60, 80, 100]:\n",
    "                    time.sleep(2000) # milliseconds\n",
    "\n",
    "                st_fips = str(getattr(row, \"state\"))\n",
    "                if st_fips.__len__() < 2:\n",
    "                    st_fips = '0' + st_fips\n",
    "                    \n",
    "                # cnty_fips = str(getattr(row, \"county\"))\n",
    "\n",
    "                # https://api.census.gov/data/2019/acs/acs1?get=NAME,B01001_001E&for=county%20subdivision:*&in=state:36&key=YOUR_KEY_GOES_HERE\n",
    "                # url = f'{base_url}/{year}/acs/acs1?get={vars_str}&for=county%20subdivision:*&in=state:{st_fips}%20county:{cnty_fips}&key=aefa63e9ca460169068f42b9ebc3101db025882f'\n",
    "\n",
    "                url = f'{base_url}/{year}/acs/acs5?get={vars_str}&for=county%20subdivision:*&in=state:{st_fips}%20county:*&key=key'\n",
    "\n",
    "                print(f'url at count{count}: ', url)\n",
    "\n",
    "                headers = requests.utils.default_headers()\n",
    "                headers['User-Agent'] = 'Mozilla/5.0 (Macintosh; Intel Mac OS X 10_14_5) AppleWebKit/537.36 (KHTML, like Gecko) Chrome/75.0.3770.90 Safari/537.36'\n",
    "                response = requests.get(url, headers=headers)\n",
    "                print('response: ', response)\n",
    "                # load the json in to python object which would be list of all entries in the json object\n",
    "                resp = json.loads(response.content)\n",
    "                # If this is the first call(count=0), then write the entire content so that the 1st row with the variable names is the header\n",
    "                if count == 0:\n",
    "                    # iterate over respone python object and write each row to the csv\n",
    "                    for res in resp:\n",
    "                        op_file_writer.writerow(res)\n",
    "                else:\n",
    "                    # skipping 1st row which are the variable names starting from 2nd calls.\n",
    "                    for res in resp[1:]:\n",
    "                        op_file_writer.writerow(res)\n",
    "\n",
    "                count += 1\n",
    "                op_file_writer.writerow([])\n",
    "                print('Total API Calls: ', count)\n",
    "            except Exception as ex:\n",
    "                print('Error code: ', response.status_code)\n",
    "                print('Error Response: ', response.content)\n",
    "                print('Exception: ', ex)\n",
    "                break\n",
    "\n",
    "\n",
    "\n",
    "# final_df = create_final_twnshp_file(\n",
    "#     '/Users/salma/Studies/Research/Criminal_Justice/research_projects/US Crime Analytics/data/census_cities_1990/twnshps_api',\n",
    "#     '/Users/salma/Studies/Research/Criminal_Justice/research_projects/US Crime Analytics/data/census_cities_1990/new_census_townships_90_initial.csv')\n",
    "#\n",
    "# # sort the final df by state, county and then county subdivision to make sure they are in required ascending order. Default is ascending\n",
    "# final_df_sorted = final_df.sort_values(by=['state', 'county', 'county subdivision'])\n",
    "#\n",
    "# # write the final df to a csv\n",
    "# final_df_sorted.to_csv(\n",
    "#     '/Users/salma/Studies/Research/Criminal_Justice/research_projects/US Crime Analytics/data/census_cities_1990/new_census_townships_90.csv',\n",
    "#     index=False)"
   ]
  },
  {
   "cell_type": "code",
   "execution_count": 17,
   "metadata": {},
   "outputs": [
    {
     "name": "stdout",
     "output_type": "stream",
     "text": [
      "row:  Pandas(Index=0, state=1, county=1)\n",
      "url at count0:  https://api.census.gov/data/2009/acs/acs5?get=COUNTY, COUSUB, PLACE, STATE, TRACT, B14001_002E, B14001_006E, B14001_007E, B14001_008E, B14001_009E, B14002_003E, B14002_013E, B14002_016E, B14002_019E, B14002_022E, B14002_027E, B14002_037E, B14002_040E, B14002_043E, B14002_046E, B06009_001E, B06009_002E, B06009_003E, B06009_004E, B06009_005E, B06009_006E, B15001_001E, B15001_002E, B15001_003E, B15001_011E, B15001_043E, B15001_044E, B15001_052E, B15002_001E, B15002_002E, B15002_019E, C15002A_001E, C15002A_002E, C15002A_007E, C15002B_001E, C15002B_002E, C15002B_007E, C15002H_001E, C15002H_002E, C15002H_007E, C15002I_001E, C15002I_002E, C15002I_007E&for=county%20subdivision:*&in=state:01%20county:*&key=aefa63e9ca460169068f42b9ebc3101db025882f\n",
      "response:  <Response [400]>\n",
      "Error code:  400\n",
      "Error Response:  b\"error: error: 'get' is limited to 50 variables\"\n",
      "Exception:  Expecting value: line 1 column 1 (char 0)\n",
      "row:  Pandas(Index=0, state=1, county=1)\n",
      "url at count0:  https://api.census.gov/data/2010/acs/acs5?get=COUNTY, COUSUB, PLACE, STATE, TRACT, B14001_002E, B14001_006E, B14001_007E, B14001_008E, B14001_009E, B14002_003E, B14002_013E, B14002_016E, B14002_019E, B14002_022E, B14002_027E, B14002_037E, B14002_040E, B14002_043E, B14002_046E, B06009_001E, B06009_002E, B06009_003E, B06009_004E, B06009_005E, B06009_006E, B15001_001E, B15001_002E, B15001_003E, B15001_011E, B15001_043E, B15001_044E, B15001_052E, B15002_001E, B15002_002E, B15002_019E, C15002A_001E, C15002A_002E, C15002A_007E, C15002B_001E, C15002B_002E, C15002B_007E, C15002H_001E, C15002H_002E, C15002H_007E, C15002I_001E, C15002I_002E, C15002I_007E&for=county%20subdivision:*&in=state:01%20county:*&key=aefa63e9ca460169068f42b9ebc3101db025882f\n",
      "response:  <Response [400]>\n",
      "Error code:  400\n",
      "Error Response:  b\"error: error: 'get' is limited to 50 variables\"\n",
      "Exception:  Expecting value: line 1 column 1 (char 0)\n",
      "row:  Pandas(Index=0, state=1, county=1)\n",
      "url at count0:  https://api.census.gov/data/2011/acs/acs5?get=COUNTY, COUSUB, PLACE, STATE, TRACT, B14001_002E, B14001_006E, B14001_007E, B14001_008E, B14001_009E, B14002_003E, B14002_013E, B14002_016E, B14002_019E, B14002_022E, B14002_027E, B14002_037E, B14002_040E, B14002_043E, B14002_046E, B06009_001E, B06009_002E, B06009_003E, B06009_004E, B06009_005E, B06009_006E, B15001_001E, B15001_002E, B15001_003E, B15001_011E, B15001_043E, B15001_044E, B15001_052E, B15002_001E, B15002_002E, B15002_019E, C15002A_001E, C15002A_002E, C15002A_007E, C15002B_001E, C15002B_002E, C15002B_007E, C15002H_001E, C15002H_002E, C15002H_007E, C15002I_001E, C15002I_002E, C15002I_007E&for=county%20subdivision:*&in=state:01%20county:*&key=aefa63e9ca460169068f42b9ebc3101db025882f\n",
      "response:  <Response [400]>\n",
      "Error code:  400\n",
      "Error Response:  b\"error: error: 'get' is limited to 50 variables\"\n",
      "Exception:  Expecting value: line 1 column 1 (char 0)\n",
      "row:  Pandas(Index=0, state=1, county=1)\n",
      "url at count0:  https://api.census.gov/data/2012/acs/acs5?get=COUNTY, COUSUB, PLACE, STATE, TRACT, B14001_002E, B14001_006E, B14001_007E, B14001_008E, B14001_009E, B14002_003E, B14002_013E, B14002_016E, B14002_019E, B14002_022E, B14002_027E, B14002_037E, B14002_040E, B14002_043E, B14002_046E, B06009_001E, B06009_002E, B06009_003E, B06009_004E, B06009_005E, B06009_006E, B15001_001E, B15001_002E, B15001_003E, B15001_011E, B15001_043E, B15001_044E, B15001_052E, B15002_001E, B15002_002E, B15002_019E, C15002A_001E, C15002A_002E, C15002A_007E, C15002B_001E, C15002B_002E, C15002B_007E, C15002H_001E, C15002H_002E, C15002H_007E, C15002I_001E, C15002I_002E, C15002I_007E&for=county%20subdivision:*&in=state:01%20county:*&key=aefa63e9ca460169068f42b9ebc3101db025882f\n",
      "response:  <Response [400]>\n",
      "Error code:  400\n",
      "Error Response:  b\"error: error: 'get' is limited to 50 variables\"\n",
      "Exception:  Expecting value: line 1 column 1 (char 0)\n",
      "row:  Pandas(Index=0, state=1, county=1)\n",
      "url at count0:  https://api.census.gov/data/2013/acs/acs5?get=COUNTY, COUSUB, PLACE, STATE, TRACT, B14001_002E, B14001_006E, B14001_007E, B14001_008E, B14001_009E, B14002_003E, B14002_013E, B14002_016E, B14002_019E, B14002_022E, B14002_027E, B14002_037E, B14002_040E, B14002_043E, B14002_046E, B06009_001E, B06009_002E, B06009_003E, B06009_004E, B06009_005E, B06009_006E, B15001_001E, B15001_002E, B15001_003E, B15001_011E, B15001_043E, B15001_044E, B15001_052E, B15002_001E, B15002_002E, B15002_019E, C15002A_001E, C15002A_002E, C15002A_007E, C15002B_001E, C15002B_002E, C15002B_007E, C15002H_001E, C15002H_002E, C15002H_007E, C15002I_001E, C15002I_002E, C15002I_007E&for=county%20subdivision:*&in=state:01%20county:*&key=aefa63e9ca460169068f42b9ebc3101db025882f\n",
      "response:  <Response [400]>\n",
      "Error code:  400\n",
      "Error Response:  b\"error: error: 'get' is limited to 50 variables\"\n",
      "Exception:  Expecting value: line 1 column 1 (char 0)\n",
      "row:  Pandas(Index=0, state=1, county=1)\n",
      "url at count0:  https://api.census.gov/data/2014/acs/acs5?get=COUNTY, COUSUB, PLACE, STATE, TRACT, B14001_002E, B14001_006E, B14001_007E, B14001_008E, B14001_009E, B14002_003E, B14002_013E, B14002_016E, B14002_019E, B14002_022E, B14002_027E, B14002_037E, B14002_040E, B14002_043E, B14002_046E, B06009_001E, B06009_002E, B06009_003E, B06009_004E, B06009_005E, B06009_006E, B15001_001E, B15001_002E, B15001_003E, B15001_011E, B15001_043E, B15001_044E, B15001_052E, B15002_001E, B15002_002E, B15002_019E, C15002A_001E, C15002A_002E, C15002A_007E, C15002B_001E, C15002B_002E, C15002B_007E, C15002H_001E, C15002H_002E, C15002H_007E, C15002I_001E, C15002I_002E, C15002I_007E&for=county%20subdivision:*&in=state:01%20county:*&key=aefa63e9ca460169068f42b9ebc3101db025882f\n",
      "response:  <Response [400]>\n",
      "Error code:  400\n",
      "Error Response:  b\"error: error: 'get' is limited to 50 variables\"\n",
      "Exception:  Expecting value: line 1 column 1 (char 0)\n",
      "row:  Pandas(Index=0, state=1, county=1)\n",
      "url at count0:  https://api.census.gov/data/2015/acs/acs5?get=COUNTY, COUSUB, PLACE, STATE, TRACT, B14001_002E, B14001_006E, B14001_007E, B14001_008E, B14001_009E, B14002_003E, B14002_013E, B14002_016E, B14002_019E, B14002_022E, B14002_027E, B14002_037E, B14002_040E, B14002_043E, B14002_046E, B06009_001E, B06009_002E, B06009_003E, B06009_004E, B06009_005E, B06009_006E, B15001_001E, B15001_002E, B15001_003E, B15001_011E, B15001_043E, B15001_044E, B15001_052E, B15002_001E, B15002_002E, B15002_019E, C15002A_001E, C15002A_002E, C15002A_007E, C15002B_001E, C15002B_002E, C15002B_007E, C15002H_001E, C15002H_002E, C15002H_007E, C15002I_001E, C15002I_002E, C15002I_007E&for=county%20subdivision:*&in=state:01%20county:*&key=aefa63e9ca460169068f42b9ebc3101db025882f\n",
      "response:  <Response [400]>\n",
      "Error code:  400\n",
      "Error Response:  b\"error: error: 'get' is limited to 50 variables\"\n",
      "Exception:  Expecting value: line 1 column 1 (char 0)\n"
     ]
    }
   ],
   "source": [
    "years = [2010, 2011, 2012, 2013, 2014, 2015, 2016, 2017, 2018, 2019, 2020]\n",
    "\n",
    "st_cnty_fips_00 = pd.read_csv('/Users/salma/Library/CloudStorage/OneDrive-UniversityofToledo/Research/dissertation_work/education-schools-crime/data/st_cnty_fips_2000.csv')\n",
    "\n",
    "for year in years:\n",
    "    get_educ_school_acs_data(base_url='https://api.census.gov/data', \n",
    "                             vars_str='COUNTY, COUSUB, PLACE, STATE, TRACT, B14001_002E, B14001_006E, B14001_007E, B14001_008E, B14001_009E, B14002_003E, B14002_013E, B14002_016E, B14002_019E, B14002_022E, B14002_027E, B14002_037E, B14002_040E, B14002_043E, B14002_046E, B06009_001E, B06009_002E, B06009_003E, B06009_004E, B06009_005E, B06009_006E, B15001_001E, B15001_002E, B15001_003E, B15001_011E, B15001_043E, B15001_044E, B15001_052E, B15002_001E, B15002_002E, B15002_019E, C15002A_001E, C15002A_002E, C15002A_007E, C15002B_001E, C15002B_002E, C15002B_007E, C15002H_001E, C15002H_002E, C15002H_007E, C15002I_001E, C15002I_002E, C15002I_007E', \n",
    "                             fips_df=st_cnty_fips_00,\n",
    "                             key='aefa63e9ca460169068f42b9ebc3101db025882f'\n",
    "                             op_path='/Users/salma/Research/dissertation_work/data/educ_schl_acs',\n",
    "                             op_file=f'educ_school_acs_initial_{year}.csv')"
   ]
  },
  {
   "cell_type": "code",
   "execution_count": null,
   "metadata": {},
   "outputs": [],
   "source": []
  }
 ],
 "metadata": {
  "kernelspec": {
   "display_name": "us_crime_data_analysis",
   "language": "python",
   "name": "us_crime_data_analysis"
  },
  "language_info": {
   "codemirror_mode": {
    "name": "ipython",
    "version": 3
   },
   "file_extension": ".py",
   "mimetype": "text/x-python",
   "name": "python",
   "nbconvert_exporter": "python",
   "pygments_lexer": "ipython3",
   "version": "3.8.1"
  }
 },
 "nbformat": 4,
 "nbformat_minor": 4
}
