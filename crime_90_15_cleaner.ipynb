{
 "cells": [
  {
   "cell_type": "code",
   "execution_count": 1,
   "metadata": {},
   "outputs": [],
   "source": [
    "import pandas as pd"
   ]
  },
  {
   "cell_type": "markdown",
   "metadata": {},
   "source": [
    "### Getting the ORIs which have data for all years from 1990 - 2015 ##"
   ]
  },
  {
   "cell_type": "code",
   "execution_count": 11,
   "metadata": {
    "collapsed": true
   },
   "outputs": [
    {
     "name": "stdout",
     "output_type": "stream",
     "text": [
      "4888\n",
      "110381\n",
      "['ORI', 'AGENCY', 'placename', 'Govt_level', 'place_fips', 'STATEFP', 'CNTY', 'YEAR', 'POP100', 'White_count', 'Black_count', 'Hispanic_count', 'Age1524_WhiteM', 'White_Males_All', 'Age1524_WhiteF', 'White_Females_All', 'Age1524_BlackM', 'Black_Males_All', 'Age1524_BlackF', 'Black_Females_All', 'Hispanic_Males_All', 'Age1524_HispanicM', 'Age1524_HispanicF', 'Hispanic_Females_All', 'Pct_WYM', 'Pct_WYF', 'total_count_county', 'population', 'population_mean', 'murder', 'rape', 'robbery', 'agg_assault', 'simple_assault', 'burglary', 'larceny', 'motor_vehicle_theft', 'violent_crime', 'property_crime', 'main_crime', 'total_crime', 'murder_rate', 'rape_rate', 'robbery_rate', 'agg_assault_rate', 'simple_assault_rate', 'burglary_rate', 'larceny_rate', 'motor_vehicle_theft_rate', 'violent_crime_rate', 'total_crime_rate', 'property_crime_rate', 'main_crime_rate', 'murder_tot_arrests', 'murder_tot_arrests_black', 'murder_tot_arrests_white', 'rape_tot_arrests', 'rape_tot_arrests_black', 'rape_tot_arrests_white', 'robbery_tot_arrests', 'robbery_tot_arrests_black', 'robbery_tot_arrests_white', 'agg_assault_tot_arrests', 'agg_assault_tot_arrests_white', 'agg_assault_tot_arrests_black', 'larceny_theft_tot_arrests', 'larceny_theft_tot_arrests_black', 'larceny_theft_tot_arrests_white', 'burglary_tot_arrests', 'burglary_tot_arrests_black', 'burglary_tot_arrests_white', 'mtr_veh_theft_tot_arrests', 'mtr_veh_theft_tot_arrests_black', 'mtr_veh_theft_tot_arrests_white', 'violent_tot_arrests', 'property_tot_arrests', 'main_tot_arrests', 'violent_tot_arrests_black', 'property_tot_arrests_black', 'main_arrests_tot_black', 'violent_tot_arrests_white', 'property_tot_arrests_white', 'main_arrests_tot_white', 'sale_drug_tot_arrests', 'sale_drug_tot_arrests_black', 'sale_drug_tot_arrests_white', 'drug_tot_arrests', 'drug_tot_arrests_black', 'drug_tot_arrests_white', 'poss_drug_tot_arrests', 'poss_drug_tot_arrests_black', 'poss_drug_tot_arrests_white', 'disorder_arrests_tot_index', 'disorder_tot_arrests_black_index', 'disorder_tot_arrests_white_index', 'murder_tot_arrests_rate', 'murder_tot_arrests_black_rate', 'murder_tot_arrests_white_rate', 'rape_tot_arrests_rate', 'rape_tot_arrests_black_rate', 'rape_tot_arrests_white_rate', 'robbery_tot_arrests_rate', 'robbery_tot_arrests_black_rate', 'robbery_tot_arrests_white_rate', 'agg_assault_tot_arrests_rate', 'agg_assault_tot_arrests_white_rate', 'agg_assault_tot_arrests_black_rate', 'larceny_theft_tot_arrests_rate', 'larceny_theft_tot_arrests_black_rate', 'larceny_theft_tot_arrests_white_rate', 'burglary_tot_arrests_rate', 'burglary_tot_arrests_black_rate', 'burglary_tot_arrests_white_rate', 'mtr_veh_theft_tot_arrests_rate', 'mtr_veh_theft_tot_arrests_black_rate', 'mtr_veh_theft_tot_arrests_white_rate', 'violent_tot_arrests_rate', 'property_tot_arrests_rate', 'main_tot_arrests_rate', 'violent_tot_arrests_black_rate', 'property_tot_arrests_black_rate', 'main_arrests_tot_black_rate', 'violent_tot_arrests_white_rate', 'property_tot_arrests_white_rate', 'main_arrests_tot_white_rate', 'sale_drug_tot_arrests_rate', 'sale_drug_tot_arrests_black_rate', 'sale_drug_tot_arrests_white_rate', 'drug_tot_arrests_rate', 'drug_tot_arrests_black_rate', 'drug_tot_arrests_white_rate', 'poss_drug_tot_arrests_rate', 'poss_drug_tot_arrests_black_rate', 'poss_drug_tot_arrests_white_rate', 'disorder_arrests_tot_index_rate', 'disorder_tot_arrests_black_index_rate', 'disorder_tot_arrests_white_index_rate', 'pci_total_pop', 'pci_white', 'pci_black', 'pci_hisp', 'emp_total', 'emp_total_male', 'emp_total_female', 'emp_total_male_white', 'emp_total_female_white', 'emp_total_male_black', 'emp_total_female_black', 'emp_total_male_hisp', 'emp_total_female_hisp', 'emp_total_white', 'emp_total_black', 'emp_total_hisp', 'total_officers', 'total_officers_rate', 'pci_total_pop_rate', 'pci_white_rate', 'pci_black_rate', 'emp_total_rate', 'emp_total_white_rate', 'emp_total_black_rate', 'emp_total_male_rate', 'emp_total_female_rate', 'emp_total_male_white_rate', 'emp_total_female_white_rate', 'emp_total_male_black_rate', 'emp_total_female_black_rate', 'emp_total_male_hisp_rate', 'emp_total_female_hisp_rate', 'tot_felonies_agency', 'tot_misdemeanors_agency', 'perc_felonies', 'perc_misdemeanors', 'prison_occupancy_count', 'jail_occupancy_count', 'prison_occupancy_count_rate', 'jail_occupancy_count_rate', 'ncrp_incarc_rep_code']\n"
     ]
    }
   ],
   "source": [
    "main_df = pd.read_csv('/Users/salma/Research/dissertation_work/data/final/90_15/final_main_gte_10k_core.csv')\n",
    "print(main_df['ORI'].nunique()) # 4888\n",
    "\n",
    "# years - 26\n",
    "print(main_df.shape[0]) # 110381\n",
    "print(list(main_df))\n",
    "# If all ORIs reported data for all years then should have been 127088 rows"
   ]
  },
  {
   "cell_type": "code",
   "execution_count": 14,
   "metadata": {},
   "outputs": [
    {
     "name": "stdout",
     "output_type": "stream",
     "text": [
      "unique ORIs:  1736\n",
      "total records:  45136\n",
      "['ORI', 'agency_name', 'place_fips', 'state_fips', 'county_fips', 'year', 'white_total', 'black_total', 'white_15_24_m', 'white_m_total', 'white_15_24_f', 'white_f_total', 'black_15_24_m', 'black_m_total', 'black_15_24_f', 'black_f_total', 'population', 'population_mean', 'murder', 'rape', 'robbery', 'agg_assault', 'simple_assault', 'burglary', 'larceny', 'motor_vehicle_theft', 'violent_crime', 'property_crime', 'main_crime', 'murder_rate', 'rape_rate', 'robbery_rate', 'agg_assault_rate', 'simple_assault_rate', 'burglary_rate', 'larceny_rate', 'motor_vehicle_theft_rate', 'violent_crime_rate', 'total_crime_rate', 'property_crime_rate', 'main_crime_rate', 'murder_tot_arrests', 'murder_tot_arrests_black', 'murder_tot_arrests_white', 'rape_tot_arrests', 'rape_tot_arrests_black', 'rape_tot_arrests_white', 'robbery_tot_arrests', 'robbery_tot_arrests_black', 'robbery_tot_arrests_white', 'agg_assault_tot_arrests', 'agg_assault_tot_arrests_white', 'agg_assault_tot_arrests_black', 'larceny_theft_tot_arrests', 'larceny_theft_tot_arrests_black', 'larceny_theft_tot_arrests_white', 'burglary_tot_arrests', 'burglary_tot_arrests_black', 'burglary_tot_arrests_white', 'mtr_veh_theft_tot_arrests', 'mtr_veh_theft_tot_arrests_black', 'mtr_veh_theft_tot_arrests_white', 'violent_tot_arrests', 'property_tot_arrests', 'main_tot_arrests', 'violent_tot_arrests_black', 'property_tot_arrests_black', 'main_arrests_tot_black', 'violent_tot_arrests_white', 'property_tot_arrests_white', 'main_arrests_tot_white', 'sale_drug_tot_arrests', 'sale_drug_tot_arrests_black', 'sale_drug_tot_arrests_white', 'drug_tot_arrests', 'drug_tot_arrests_black', 'drug_tot_arrests_white', 'poss_drug_tot_arrests', 'poss_drug_tot_arrests_black', 'poss_drug_tot_arrests_white', 'disorder_arrests_tot_index', 'disorder_tot_arrests_black_index', 'disorder_tot_arrests_white_index', 'murder_tot_arrests_rate', 'murder_tot_arrests_black_rate', 'murder_tot_arrests_white_rate', 'rape_tot_arrests_rate', 'rape_tot_arrests_black_rate', 'rape_tot_arrests_white_rate', 'robbery_tot_arrests_rate', 'robbery_tot_arrests_black_rate', 'robbery_tot_arrests_white_rate', 'agg_assault_tot_arrests_rate', 'agg_assault_tot_arrests_white_rate', 'agg_assault_tot_arrests_black_rate', 'larceny_theft_tot_arrests_rate', 'larceny_theft_tot_arrests_black_rate', 'larceny_theft_tot_arrests_white_rate', 'burglary_tot_arrests_rate', 'burglary_tot_arrests_black_rate', 'burglary_tot_arrests_white_rate', 'mtr_veh_theft_tot_arrests_rate', 'mtr_veh_theft_tot_arrests_black_rate', 'mtr_veh_theft_tot_arrests_white_rate', 'violent_tot_arrests_rate', 'property_tot_arrests_rate', 'main_tot_arrests_rate', 'violent_tot_arrests_black_rate', 'property_tot_arrests_black_rate', 'main_arrests_tot_black_rate', 'violent_tot_arrests_white_rate', 'property_tot_arrests_white_rate', 'main_arrests_tot_white_rate', 'sale_drug_tot_arrests_rate', 'sale_drug_tot_arrests_black_rate', 'sale_drug_tot_arrests_white_rate', 'drug_tot_arrests_rate', 'drug_tot_arrests_black_rate', 'drug_tot_arrests_white_rate', 'poss_drug_tot_arrests_rate', 'poss_drug_tot_arrests_black_rate', 'poss_drug_tot_arrests_white_rate', 'disorder_arrests_tot_index_rate', 'disorder_tot_arrests_black_index_rate', 'disorder_tot_arrests_white_index_rate', 'pci_total_pop', 'pci_white', 'pci_black', 'emp_total', 'emp_total_male', 'emp_total_female', 'emp_total_male_white', 'emp_total_female_white', 'emp_total_male_black', 'emp_total_female_black', 'emp_total_white', 'emp_total_black', 'pci_total_pop_rate', 'pci_white_rate', 'pci_black_rate', 'emp_total_rate', 'emp_total_white_rate', 'emp_total_black_rate', 'emp_total_male_rate', 'emp_total_female_rate', 'emp_total_male_white_rate', 'emp_total_female_white_rate', 'emp_total_male_black_rate', 'emp_total_female_black_rate', 'emp_total_male_hisp_rate', 'emp_total_female_hisp_rate']\n"
     ]
    }
   ],
   "source": [
    "years = [1990, 1991, 1992, 1993, 1994, 1995, 1996, 1997, 1998, 1999,\n",
    "         2000, 2001, 2002, 2003, 2004, 2005, 2006, 2007, 2008, 2009, \n",
    "         2010, 2011, 2012, 2013, 2014, 2015]\n",
    "\n",
    "all_rptd_oris = []\n",
    "\n",
    "for ori in main_df['ORI'].unique():\n",
    "    ori_years = main_df.query(f'ORI == \"{ori}\"')['YEAR'].tolist()\n",
    "    ori_years.sort()\n",
    "    \n",
    "    if ori_years == years:\n",
    "        all_rptd_oris.append(ori)\n",
    "        \n",
    "## Now get only those records for ORIs which are in all_rptd_oris ##\n",
    "main_df_all_rept_oris = main_df.loc[main_df['ORI'].isin(all_rptd_oris)]\n",
    "\n",
    "print('unique ORIs: ', main_df_all_rept_oris['ORI'].nunique())\n",
    "print('total records: ', main_df_all_rept_oris.shape[0])\n",
    "\n",
    "main_df_all_rept_oris_req = main_df_all_rept_oris.drop(['Govt_level', 'POP100', 'placename', 'tot_felonies_agency',\n",
    "                                                        'tot_misdemeanors_agency', 'perc_felonies', 'perc_misdemeanors',\n",
    "                                                        'prison_occupancy_count', 'jail_occupancy_count', 'prison_occupancy_count_rate',\n",
    "                                                        'jail_occupancy_count_rate', 'ncrp_incarc_rep_code', 'Hispanic_count', 'Hispanic_Males_All',\n",
    "                                                        'Hispanic_Males_All', 'Age1524_HispanicM', 'Age1524_HispanicF', 'Hispanic_Females_All', \n",
    "                                                        'Pct_WYM', 'Pct_WYF', 'total_count_county','tot_felonies_agency', \n",
    "                                                        'tot_misdemeanors_agency','perc_felonies', 'perc_misdemeanors', \n",
    "                                                        'prison_occupancy_count', 'jail_occupancy_count', 'prison_occupancy_count_rate', \n",
    "                                                        'jail_occupancy_count_rate', 'ncrp_incarc_rep_code', 'pci_hisp',\n",
    "                                                        'emp_total_male_hisp', 'emp_total_female_hisp', 'emp_total_hisp', \n",
    "                                                        'total_officers', 'total_officers_rate', 'total_crime'], axis=1)\n",
    "\n",
    "main_df_all_rept_oris_req.rename({'AGENCY': 'agency_name', 'STATEFP': 'state_fips', \n",
    "                                  'CNTY': 'county_fips', 'YEAR': 'year',\n",
    "                                 'White_count': 'white_total', 'Black_count': 'black_total',\n",
    "                                 'Age1524_WhiteM': 'white_15_24_m', 'White_Males_All': 'white_m_total',\n",
    "                                 'Age1524_WhiteF': 'white_15_24_f', 'White_Females_All': 'white_f_total',\n",
    "                                  'Age1524_BlackM': 'black_15_24_m', 'Black_Males_All': 'black_m_total',\n",
    "                                  'Age1524_BlackF': 'black_15_24_f', 'Black_Females_All': 'black_f_total'\n",
    "                                 }, axis=1, inplace=True)\n",
    "print(list(main_df_all_rept_oris_req))\n",
    "main_df_all_rept_oris_req.to_csv('/Users/salma/Research/dissertation_work/data/final/final_90_15_all_rep_oris_gte_10k_core.csv')"
   ]
  },
  {
   "cell_type": "markdown",
   "metadata": {},
   "source": [
    "### Create crime percents at agency level based on county level totals to calculate incarceration counts"
   ]
  },
  {
   "cell_type": "code",
   "execution_count": 21,
   "metadata": {
    "scrolled": true
   },
   "outputs": [
    {
     "name": "stdout",
     "output_type": "stream",
     "text": [
      "['ORI', 'agency_name', 'place_fips', 'state_fips', 'county_fips', 'year', 'white_total', 'black_total', 'white_15_24_m', 'white_m_total', 'white_15_24_f', 'white_f_total', 'black_15_24_m', 'black_m_total', 'black_15_24_f', 'black_f_total', 'population', 'population_mean', 'murder', 'rape', 'robbery', 'agg_assault', 'simple_assault', 'burglary', 'larceny', 'motor_vehicle_theft', 'violent_crime', 'property_crime', 'main_crime', 'murder_rate', 'rape_rate', 'robbery_rate', 'agg_assault_rate', 'simple_assault_rate', 'burglary_rate', 'larceny_rate', 'motor_vehicle_theft_rate', 'violent_crime_rate', 'total_crime_rate', 'property_crime_rate', 'main_crime_rate', 'murder_tot_arrests', 'murder_tot_arrests_black', 'murder_tot_arrests_white', 'rape_tot_arrests', 'rape_tot_arrests_black', 'rape_tot_arrests_white', 'robbery_tot_arrests', 'robbery_tot_arrests_black', 'robbery_tot_arrests_white', 'agg_assault_tot_arrests', 'agg_assault_tot_arrests_white', 'agg_assault_tot_arrests_black', 'larceny_theft_tot_arrests', 'larceny_theft_tot_arrests_black', 'larceny_theft_tot_arrests_white', 'burglary_tot_arrests', 'burglary_tot_arrests_black', 'burglary_tot_arrests_white', 'mtr_veh_theft_tot_arrests', 'mtr_veh_theft_tot_arrests_black', 'mtr_veh_theft_tot_arrests_white', 'violent_tot_arrests', 'property_tot_arrests', 'main_tot_arrests', 'violent_tot_arrests_black', 'property_tot_arrests_black', 'main_arrests_tot_black', 'violent_tot_arrests_white', 'property_tot_arrests_white', 'main_arrests_tot_white', 'sale_drug_tot_arrests', 'sale_drug_tot_arrests_black', 'sale_drug_tot_arrests_white', 'drug_tot_arrests', 'drug_tot_arrests_black', 'drug_tot_arrests_white', 'poss_drug_tot_arrests', 'poss_drug_tot_arrests_black', 'poss_drug_tot_arrests_white', 'disorder_arrests_tot_index', 'disorder_tot_arrests_black_index', 'disorder_tot_arrests_white_index', 'murder_tot_arrests_rate', 'murder_tot_arrests_black_rate', 'murder_tot_arrests_white_rate', 'rape_tot_arrests_rate', 'rape_tot_arrests_black_rate', 'rape_tot_arrests_white_rate', 'robbery_tot_arrests_rate', 'robbery_tot_arrests_black_rate', 'robbery_tot_arrests_white_rate', 'agg_assault_tot_arrests_rate', 'agg_assault_tot_arrests_white_rate', 'agg_assault_tot_arrests_black_rate', 'larceny_theft_tot_arrests_rate', 'larceny_theft_tot_arrests_black_rate', 'larceny_theft_tot_arrests_white_rate', 'burglary_tot_arrests_rate', 'burglary_tot_arrests_black_rate', 'burglary_tot_arrests_white_rate', 'mtr_veh_theft_tot_arrests_rate', 'mtr_veh_theft_tot_arrests_black_rate', 'mtr_veh_theft_tot_arrests_white_rate', 'violent_tot_arrests_rate', 'property_tot_arrests_rate', 'main_tot_arrests_rate', 'violent_tot_arrests_black_rate', 'property_tot_arrests_black_rate', 'main_arrests_tot_black_rate', 'violent_tot_arrests_white_rate', 'property_tot_arrests_white_rate', 'main_arrests_tot_white_rate', 'sale_drug_tot_arrests_rate', 'sale_drug_tot_arrests_black_rate', 'sale_drug_tot_arrests_white_rate', 'drug_tot_arrests_rate', 'drug_tot_arrests_black_rate', 'drug_tot_arrests_white_rate', 'poss_drug_tot_arrests_rate', 'poss_drug_tot_arrests_black_rate', 'poss_drug_tot_arrests_white_rate', 'disorder_arrests_tot_index_rate', 'disorder_tot_arrests_black_index_rate', 'disorder_tot_arrests_white_index_rate', 'pci_total_pop', 'pci_white', 'pci_black', 'emp_total', 'emp_total_male', 'emp_total_female', 'emp_total_male_white', 'emp_total_female_white', 'emp_total_male_black', 'emp_total_female_black', 'emp_total_white', 'emp_total_black', 'pci_total_pop_rate', 'pci_white_rate', 'pci_black_rate', 'emp_total_rate', 'emp_total_white_rate', 'emp_total_black_rate', 'emp_total_male_rate', 'emp_total_female_rate', 'emp_total_male_white_rate', 'emp_total_female_white_rate', 'emp_total_male_black_rate', 'emp_total_female_black_rate', 'emp_total_male_hisp_rate', 'emp_total_female_hisp_rate', 'tot_felonies_agency', 'tot_misdemeanors_agency', 'index', 'murder_cnty_total', 'rape_cnty_total', 'robbery_cnty_total', 'agg_assault_cnty_total', 'burglary_cnty_total', 'larceny_cnty_total', 'simple_assault_cnty_total', 'motor_vehicle_theft_cnty_total', 'tot_felonies_cnty', 'tot_misdemeanors_cnty', 'perc_felonies', 'perc_misdemeanors']\n",
      "45136\n"
     ]
    }
   ],
   "source": [
    "### Create tot major offences by adding up all the crime vars to only consider records with non-zero crime. ###\n",
    "    \n",
    "main_df_all_rept_oris_req['tot_felonies_agency'] = main_df_all_rept_oris_req[['murder', 'rape', 'robbery',\n",
    "                                                        'agg_assault', 'burglary', 'motor_vehicle_theft']].sum(axis=1)\n",
    "main_df_all_rept_oris_req['tot_misdemeanors_agency'] = main_df_all_rept_oris_req[['larceny', 'simple_assault']].sum(axis=1)\n",
    "\n",
    "\n",
    "# Group the data frame by fips state and fips county and then calculate the sum of each crime column\n",
    "# The groupby output will have an index or multi-index on rows corresponding to your chosen grouping variables. \n",
    "# To avoid setting this index, pass “as_index=False” to the groupby operation.\n",
    "\n",
    "\n",
    "# creating new representative column for each crime to hold the total counts\n",
    "main_df_all_rept_oris_req_cnty_totals = main_df_all_rept_oris_req.assign(\n",
    "    murder_cnty_total = main_df_all_rept_oris_req['murder'],\n",
    "    rape_cnty_total = main_df_all_rept_oris_req['rape'],\n",
    "    robbery_cnty_total = main_df_all_rept_oris_req['robbery'],\n",
    "    agg_assault_cnty_total = main_df_all_rept_oris_req['agg_assault'],\n",
    "    burglary_cnty_total = main_df_all_rept_oris_req['burglary'],\n",
    "    larceny_cnty_total = main_df_all_rept_oris_req['larceny'],\n",
    "    simple_assault_cnty_total = main_df_all_rept_oris_req['simple_assault'],\n",
    "    motor_vehicle_theft_cnty_total = main_df_all_rept_oris_req['motor_vehicle_theft']\n",
    ").groupby(\n",
    "   ['state_fips', 'county_fips', 'year'], as_index=False\n",
    ").agg(\n",
    "    {\n",
    "        'murder_cnty_total':'sum',\n",
    "        'rape_cnty_total': 'sum',\n",
    "        'robbery_cnty_total':'sum',\n",
    "        'agg_assault_cnty_total': 'sum',\n",
    "        'burglary_cnty_total': 'sum',\n",
    "        'larceny_cnty_total': 'sum',\n",
    "        'simple_assault_cnty_total':'sum',\n",
    "        'motor_vehicle_theft_cnty_total': 'sum'\n",
    "    }\n",
    ").reset_index()  #initially reset_index(drop=True). shouldn't make a diff since we want STATEFP and CNTY to remain as columns.\n",
    "# or may be check the index initially in the previous case and this case. IF it was adding 0 index initially also coz as_index= False might infact not be adding statefp and cnty as indices\n",
    "#################### CHECK ####################\n",
    "\n",
    "\n",
    "\"\"\"\n",
    "# Create the below indexes\n",
    "            o\ttot_felonies_cnty  : murder, rape, robbery (the measure with all the robberies together), agg assault, burglary, auto theft\n",
    "            o\ttot_minor_offences_cnty : simple assault + larceny\n",
    "                tot_major_offences_cnty : tot_felonies_cnty + tot_minor_offences_cnty \n",
    "\"\"\"\n",
    "\n",
    "main_df_all_rept_oris_req_cnty_totals['tot_felonies_cnty'] = main_df_all_rept_oris_req_cnty_totals[['murder_cnty_total', 'rape_cnty_total', 'robbery_cnty_total',\n",
    "                                                                          'agg_assault_cnty_total', 'burglary_cnty_total', 'motor_vehicle_theft_cnty_total']].sum(axis=1)\n",
    "main_df_all_rept_oris_req_cnty_totals['tot_misdemeanors_cnty'] = main_df_all_rept_oris_req_cnty_totals[['larceny_cnty_total', 'simple_assault_cnty_total']].sum(axis=1)\n",
    "#main_df_all_rept_oris_req_cnty_totals['tot_major_offenses_cnty'] = main_df_all_rept_oris_req_cnty_totals[['tot_felonies_cnty', 'tot_misdemeanors_cnty']].sum(axis=1)\n",
    "\n",
    "# merge the county totals group by df with the crime_98_08_1st_rep_yr on state and cnty fips so that county level totals\n",
    "# are assigned to each agency based on state and county fips\n",
    "merged_cr_percents_df = pd.merge(main_df_all_rept_oris_req, main_df_all_rept_oris_req_cnty_totals, on=['state_fips', 'county_fips', 'year'])\n",
    "merged_cr_percents_df['perc_felonies'] = (merged_cr_percents_df['tot_felonies_agency']/merged_cr_percents_df['tot_felonies_cnty'])*100\n",
    "merged_cr_percents_df['perc_misdemeanors'] = (merged_cr_percents_df['tot_misdemeanors_agency']/merged_cr_percents_df['tot_misdemeanors_cnty'])*100\n",
    "\n",
    "print(list(merged_cr_percents_df))\n",
    "print(merged_cr_percents_df.shape[0])"
   ]
  },
  {
   "cell_type": "markdown",
   "metadata": {},
   "source": [
    "### Merge with incarc data from recent obtained file"
   ]
  },
  {
   "cell_type": "code",
   "execution_count": 22,
   "metadata": {},
   "outputs": [
    {
     "name": "stdout",
     "output_type": "stream",
     "text": [
      "91031\n",
      "['year', 'fips', 'total_jail_pop', 'total_prison_pop', 'state_fips', 'county_fips']\n"
     ]
    }
   ],
   "source": [
    "incarc_df = pd.read_csv('/Users/salma/Research/dissertation_work/data/incarceration_vera/incarc_cnty_df_vera_90_20_req.csv')\n",
    "incarc_df_90_15 = incarc_df.query('year > 1989')\n",
    "print(incarc_df_90_15.shape[0])\n",
    "print(list(incarc_df_90_15))"
   ]
  },
  {
   "cell_type": "code",
   "execution_count": 23,
   "metadata": {},
   "outputs": [
    {
     "name": "stdout",
     "output_type": "stream",
     "text": [
      "45136\n",
      "1736\n"
     ]
    }
   ],
   "source": [
    "merged_cr_percents_incarc_df = merged_cr_percents_df.merge(incarc_df_90_15, \n",
    "                                                           on=['state_fips', 'county_fips', 'year'], \n",
    "                                                           how='left')\n",
    "print(merged_cr_percents_incarc_df.shape[0])\n",
    "print(merged_cr_percents_incarc_df['ORI'].nunique())"
   ]
  },
  {
   "cell_type": "code",
   "execution_count": 24,
   "metadata": {
    "collapsed": true
   },
   "outputs": [
    {
     "name": "stdout",
     "output_type": "stream",
     "text": [
      "45136\n",
      "['ORI', 'agency_name', 'place_fips', 'state_fips', 'county_fips', 'year', 'white_total', 'black_total', 'white_15_24_m', 'white_m_total', 'white_15_24_f', 'white_f_total', 'black_15_24_m', 'black_m_total', 'black_15_24_f', 'black_f_total', 'population', 'population_mean', 'murder', 'rape', 'robbery', 'agg_assault', 'simple_assault', 'burglary', 'larceny', 'motor_vehicle_theft', 'violent_crime', 'property_crime', 'main_crime', 'murder_rate', 'rape_rate', 'robbery_rate', 'agg_assault_rate', 'simple_assault_rate', 'burglary_rate', 'larceny_rate', 'motor_vehicle_theft_rate', 'violent_crime_rate', 'total_crime_rate', 'property_crime_rate', 'main_crime_rate', 'murder_tot_arrests', 'murder_tot_arrests_black', 'murder_tot_arrests_white', 'rape_tot_arrests', 'rape_tot_arrests_black', 'rape_tot_arrests_white', 'robbery_tot_arrests', 'robbery_tot_arrests_black', 'robbery_tot_arrests_white', 'agg_assault_tot_arrests', 'agg_assault_tot_arrests_white', 'agg_assault_tot_arrests_black', 'larceny_theft_tot_arrests', 'larceny_theft_tot_arrests_black', 'larceny_theft_tot_arrests_white', 'burglary_tot_arrests', 'burglary_tot_arrests_black', 'burglary_tot_arrests_white', 'mtr_veh_theft_tot_arrests', 'mtr_veh_theft_tot_arrests_black', 'mtr_veh_theft_tot_arrests_white', 'violent_tot_arrests', 'property_tot_arrests', 'main_tot_arrests', 'violent_tot_arrests_black', 'property_tot_arrests_black', 'main_arrests_tot_black', 'violent_tot_arrests_white', 'property_tot_arrests_white', 'main_arrests_tot_white', 'sale_drug_tot_arrests', 'sale_drug_tot_arrests_black', 'sale_drug_tot_arrests_white', 'drug_tot_arrests', 'drug_tot_arrests_black', 'drug_tot_arrests_white', 'poss_drug_tot_arrests', 'poss_drug_tot_arrests_black', 'poss_drug_tot_arrests_white', 'disorder_arrests_tot_index', 'disorder_tot_arrests_black_index', 'disorder_tot_arrests_white_index', 'murder_tot_arrests_rate', 'murder_tot_arrests_black_rate', 'murder_tot_arrests_white_rate', 'rape_tot_arrests_rate', 'rape_tot_arrests_black_rate', 'rape_tot_arrests_white_rate', 'robbery_tot_arrests_rate', 'robbery_tot_arrests_black_rate', 'robbery_tot_arrests_white_rate', 'agg_assault_tot_arrests_rate', 'agg_assault_tot_arrests_white_rate', 'agg_assault_tot_arrests_black_rate', 'larceny_theft_tot_arrests_rate', 'larceny_theft_tot_arrests_black_rate', 'larceny_theft_tot_arrests_white_rate', 'burglary_tot_arrests_rate', 'burglary_tot_arrests_black_rate', 'burglary_tot_arrests_white_rate', 'mtr_veh_theft_tot_arrests_rate', 'mtr_veh_theft_tot_arrests_black_rate', 'mtr_veh_theft_tot_arrests_white_rate', 'violent_tot_arrests_rate', 'property_tot_arrests_rate', 'main_tot_arrests_rate', 'violent_tot_arrests_black_rate', 'property_tot_arrests_black_rate', 'main_arrests_tot_black_rate', 'violent_tot_arrests_white_rate', 'property_tot_arrests_white_rate', 'main_arrests_tot_white_rate', 'sale_drug_tot_arrests_rate', 'sale_drug_tot_arrests_black_rate', 'sale_drug_tot_arrests_white_rate', 'drug_tot_arrests_rate', 'drug_tot_arrests_black_rate', 'drug_tot_arrests_white_rate', 'poss_drug_tot_arrests_rate', 'poss_drug_tot_arrests_black_rate', 'poss_drug_tot_arrests_white_rate', 'disorder_arrests_tot_index_rate', 'disorder_tot_arrests_black_index_rate', 'disorder_tot_arrests_white_index_rate', 'pci_total_pop', 'pci_white', 'pci_black', 'emp_total', 'emp_total_male', 'emp_total_female', 'emp_total_male_white', 'emp_total_female_white', 'emp_total_male_black', 'emp_total_female_black', 'emp_total_white', 'emp_total_black', 'pci_total_pop_rate', 'pci_white_rate', 'pci_black_rate', 'emp_total_rate', 'emp_total_white_rate', 'emp_total_black_rate', 'emp_total_male_rate', 'emp_total_female_rate', 'emp_total_male_white_rate', 'emp_total_female_white_rate', 'emp_total_male_black_rate', 'emp_total_female_black_rate', 'emp_total_male_hisp_rate', 'emp_total_female_hisp_rate', 'tot_felonies_agency', 'tot_misdemeanors_agency', 'tot_felonies_cnty', 'tot_misdemeanors_cnty', 'perc_felonies', 'perc_misdemeanors', 'total_jail_pop', 'total_prison_pop', 'prison_occupancy_count', 'jail_occupancy_count']\n"
     ]
    }
   ],
   "source": [
    "merged_cr_percents_incarc_df['prison_occupancy_count'] = (merged_cr_percents_incarc_df['perc_felonies'] * merged_cr_percents_incarc_df['total_prison_pop']) / 100\n",
    "merged_cr_percents_incarc_df['jail_occupancy_count'] = (merged_cr_percents_incarc_df['perc_misdemeanors'] * merged_cr_percents_incarc_df['total_jail_pop']) / 100\n",
    "merged_cr_percents_incarc_df.sort_values(by=['ORI', 'year'], inplace=True)\n",
    "\n",
    "merged_cr_percents_incarc_df.drop(['index', 'murder_cnty_total', 'rape_cnty_total', \n",
    "                                   'robbery_cnty_total', 'agg_assault_cnty_total', \n",
    "                                   'burglary_cnty_total', 'larceny_cnty_total', \n",
    "                                   'simple_assault_cnty_total', 'fips',\n",
    "                                   'motor_vehicle_theft_cnty_total'], axis=1, inplace=True)\n",
    "\n",
    "merged_cr_percents_incarc_df.to_csv('/Users/salma/Research/dissertation_work/data/final/final_90_15_all_rep_oris_gte_10k_core.csv', index=False)\n",
    "\n",
    "\n",
    "print(merged_cr_percents_incarc_df.shape[0])\n",
    "print(list(merged_cr_percents_incarc_df))"
   ]
  },
  {
   "cell_type": "code",
   "execution_count": null,
   "metadata": {},
   "outputs": [],
   "source": []
  }
 ],
 "metadata": {
  "kernelspec": {
   "display_name": "us_crime_data_analysis",
   "language": "python",
   "name": "us_crime_data_analysis"
  },
  "language_info": {
   "codemirror_mode": {
    "name": "ipython",
    "version": 3
   },
   "file_extension": ".py",
   "mimetype": "text/x-python",
   "name": "python",
   "nbconvert_exporter": "python",
   "pygments_lexer": "ipython3",
   "version": "3.8.1"
  }
 },
 "nbformat": 4,
 "nbformat_minor": 4
}
