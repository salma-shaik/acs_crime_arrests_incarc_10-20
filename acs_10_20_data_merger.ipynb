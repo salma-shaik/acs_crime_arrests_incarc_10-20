{
 "cells": [
  {
   "cell_type": "code",
   "execution_count": 3,
   "metadata": {},
   "outputs": [],
   "source": [
    "import pandas as pd"
   ]
  },
  {
   "cell_type": "code",
   "execution_count": 23,
   "metadata": {},
   "outputs": [],
   "source": [
    "def merge_crime_acs(left_fl, acs_fl, op_path, fl_type, drop_cols=['county_fips', 'place_name'], \n",
    "                    merge_cols=['state_fips', 'place_fips', 'year']):\n",
    "    \n",
    "    crime_df = pd.read_csv(left_fl)\n",
    "    print('###### Left side crime or merged ######')\n",
    "    print(list(crime_df))\n",
    "    print(crime_df.shape[0])\n",
    "    print(crime_df['ORI'].nunique())\n",
    "    print()\n",
    "    \n",
    "    print('###### To be merged ########')\n",
    "    acs_df = pd.read_csv(acs_fl)\n",
    "    print(list(acs_df))\n",
    " \n",
    "    acs_df.drop(drop_cols, axis=1, inplace=True)\n",
    "    print('before dropping duplicates', acs_df.shape[0])\n",
    "\n",
    "    acs_df_nodup = acs_df.drop_duplicates()\n",
    "\n",
    "    print('after dropping duplicates', acs_df_nodup.shape[0])\n",
    "    crime_df = crime_df.merge(acs_df_nodup, on=merge_cols, how='left')\n",
    "    print()\n",
    "    \n",
    "    print('######## After merge ########')\n",
    "    print(list(crime_df))\n",
    "    print('before dropping duplicates: ', crime_df.shape[0])\n",
    "    \n",
    "    crime_df.drop_duplicates(['ORI', 'year'], inplace=True)\n",
    "    print('after dropping duplicates: ', crime_df.shape[0])\n",
    "    \n",
    "    print(crime_df['ORI'].nunique())\n",
    "    \n",
    "    crime_df.to_csv(f'{op_path}/crime_{fl_type}.csv', index=False)"
   ]
  },
  {
   "cell_type": "markdown",
   "metadata": {},
   "source": [
    "### MERGE EDUC SCHL DATA"
   ]
  },
  {
   "cell_type": "code",
   "execution_count": 78,
   "metadata": {
    "collapsed": true
   },
   "outputs": [
    {
     "name": "stdout",
     "output_type": "stream",
     "text": [
      "###### Left side crime or merged ######\n",
      "['ORI', 'agency_name', 'state', 'year', 'state_fips', 'longitude', 'latitude', 'county_fips', 'place_fips', 'population', 'rape', 'robbery', 'simple_assault', 'burglary', 'larceny', 'motor_vehicle_theft', 'agg_assault', 'arson', 'murder']\n",
      "48928\n",
      "4448\n",
      "\n",
      "###### To be merged ########\n",
      "['place_name', 'schl_enrl_tot', 'schl_enrl_grades_5_8', 'schl_enrl_grades_9_12', 'schl_enrl_ugrad', 'schl_enrl_grad', 'schl_enrl_m', 'schl_enrl_grades_m_5_8', 'schl_enrl_grades_m_9_12', 'schl_enrl_m_ugrad', 'schl_enrl_m_grad', 'schl_enrl_f', 'schl_enrl_grades_f_5_8', 'schl_enrl_grades_f_9_12', 'schl_enrl_f_ugrad', 'schl_enrl_f_grad', 'educ_atnmnt_18ao', 'educ_atnmnt_18ao_m', 'educ_atnmnt_18_24_m', 'educ_atnmnt_25_34_m', 'educ_atnmnt_18ao_f', 'educ_atnmnt_18_24_f', 'educ_atnmnt_25_34_f', 'educ_atnmnt_25ao', 'educ_atnmnt_25ao_m', 'educ_atnmnt_25ao_f', 'educ_atnmnt_25ao_b', 'educ_atnmnt_25ao_b_m', 'educ_atnmnt_25ao_b_f', 'educ_atnmnt_25ao_w', 'educ_atnmnt25ao_w_m', 'educ_atnmnt_25ao_w_f', 'educ_atnmnt_25ao_h', 'educ_atnmnt_25ao_h_m', 'educ_atnmnt_25ao_h_f', 'state_fips', 'county_fips', 'year', 'place_fips']\n",
      "741138\n",
      "before dropping duplicates 741138\n",
      "after dropping duplicates 696686\n",
      "\n",
      "######## After merge ########\n",
      "['ORI', 'agency_name', 'state', 'year', 'state_fips', 'longitude', 'latitude', 'county_fips', 'place_fips', 'population', 'rape', 'robbery', 'simple_assault', 'burglary', 'larceny', 'motor_vehicle_theft', 'agg_assault', 'arson', 'murder', 'schl_enrl_tot', 'schl_enrl_grades_5_8', 'schl_enrl_grades_9_12', 'schl_enrl_ugrad', 'schl_enrl_grad', 'schl_enrl_m', 'schl_enrl_grades_m_5_8', 'schl_enrl_grades_m_9_12', 'schl_enrl_m_ugrad', 'schl_enrl_m_grad', 'schl_enrl_f', 'schl_enrl_grades_f_5_8', 'schl_enrl_grades_f_9_12', 'schl_enrl_f_ugrad', 'schl_enrl_f_grad', 'educ_atnmnt_18ao', 'educ_atnmnt_18ao_m', 'educ_atnmnt_18_24_m', 'educ_atnmnt_25_34_m', 'educ_atnmnt_18ao_f', 'educ_atnmnt_18_24_f', 'educ_atnmnt_25_34_f', 'educ_atnmnt_25ao', 'educ_atnmnt_25ao_m', 'educ_atnmnt_25ao_f', 'educ_atnmnt_25ao_b', 'educ_atnmnt_25ao_b_m', 'educ_atnmnt_25ao_b_f', 'educ_atnmnt_25ao_w', 'educ_atnmnt25ao_w_m', 'educ_atnmnt_25ao_w_f', 'educ_atnmnt_25ao_h', 'educ_atnmnt_25ao_h_m', 'educ_atnmnt_25ao_h_f']\n",
      "before dropping duplicates:  49609\n",
      "after dropping duplicates:  48928\n",
      "4448\n"
     ]
    }
   ],
   "source": [
    "merge_crime_acs(left_fl = '/Users/salma/Research/dissertation_work/data/merge/crime_10_20_req_all_rept_oris.csv',\n",
    "                acs_fl = '/Users/salma/Research/dissertation_work/data/educ_schl_acs/educ_schl_acs_10_20.csv',\n",
    "                op_path = '/Users/salma/Research/dissertation_work/data/merge',\n",
    "                fl_type = 'educ_schl_acs'\n",
    "               )"
   ]
  },
  {
   "cell_type": "markdown",
   "metadata": {},
   "source": [
    "### MERGE ECON DATA"
   ]
  },
  {
   "cell_type": "code",
   "execution_count": 82,
   "metadata": {
    "collapsed": true
   },
   "outputs": [
    {
     "name": "stdout",
     "output_type": "stream",
     "text": [
      "###### Left side crime or merged ######\n",
      "['ORI', 'agency_name', 'state', 'year', 'state_fips', 'longitude', 'latitude', 'county_fips', 'place_fips', 'population', 'rape', 'robbery', 'simple_assault', 'burglary', 'larceny', 'motor_vehicle_theft', 'agg_assault', 'arson', 'murder', 'schl_enrl_tot', 'schl_enrl_grades_5_8', 'schl_enrl_grades_9_12', 'schl_enrl_ugrad', 'schl_enrl_grad', 'schl_enrl_m', 'schl_enrl_grades_m_5_8', 'schl_enrl_grades_m_9_12', 'schl_enrl_m_ugrad', 'schl_enrl_m_grad', 'schl_enrl_f', 'schl_enrl_grades_f_5_8', 'schl_enrl_grades_f_9_12', 'schl_enrl_f_ugrad', 'schl_enrl_f_grad', 'educ_atnmnt_18ao', 'educ_atnmnt_18ao_m', 'educ_atnmnt_18_24_m', 'educ_atnmnt_25_34_m', 'educ_atnmnt_18ao_f', 'educ_atnmnt_18_24_f', 'educ_atnmnt_25_34_f', 'educ_atnmnt_25ao', 'educ_atnmnt_25ao_m', 'educ_atnmnt_25ao_f', 'educ_atnmnt_25ao_b', 'educ_atnmnt_25ao_b_m', 'educ_atnmnt_25ao_b_f', 'educ_atnmnt_25ao_w', 'educ_atnmnt25ao_w_m', 'educ_atnmnt_25ao_w_f', 'educ_atnmnt_25ao_h', 'educ_atnmnt_25ao_h_m', 'educ_atnmnt_25ao_h_f']\n",
      "48928\n",
      "4448\n",
      "\n",
      "###### To be merged ########\n",
      "['place_name', 'emp_total', 'emp_total_male', 'emp_total_female', 'emp_total_black', 'emp_total_male_black', 'emp_total_female_black', 'emp_total_white', 'emp_total_male_white', 'emp_total_female_white', 'pci', 'pci_black', 'pci_white', 'state_fips', 'county_fips', 'year', 'place_fips']\n",
      "751688\n",
      "before dropping duplicates 741138\n",
      "after dropping duplicates 704763\n",
      "\n",
      "######## After merge ########\n",
      "['ORI', 'agency_name', 'state', 'year', 'state_fips', 'longitude', 'latitude', 'county_fips', 'place_fips', 'population', 'rape', 'robbery', 'simple_assault', 'burglary', 'larceny', 'motor_vehicle_theft', 'agg_assault', 'arson', 'murder', 'schl_enrl_tot', 'schl_enrl_grades_5_8', 'schl_enrl_grades_9_12', 'schl_enrl_ugrad', 'schl_enrl_grad', 'schl_enrl_m', 'schl_enrl_grades_m_5_8', 'schl_enrl_grades_m_9_12', 'schl_enrl_m_ugrad', 'schl_enrl_m_grad', 'schl_enrl_f', 'schl_enrl_grades_f_5_8', 'schl_enrl_grades_f_9_12', 'schl_enrl_f_ugrad', 'schl_enrl_f_grad', 'educ_atnmnt_18ao', 'educ_atnmnt_18ao_m', 'educ_atnmnt_18_24_m', 'educ_atnmnt_25_34_m', 'educ_atnmnt_18ao_f', 'educ_atnmnt_18_24_f', 'educ_atnmnt_25_34_f', 'educ_atnmnt_25ao', 'educ_atnmnt_25ao_m', 'educ_atnmnt_25ao_f', 'educ_atnmnt_25ao_b', 'educ_atnmnt_25ao_b_m', 'educ_atnmnt_25ao_b_f', 'educ_atnmnt_25ao_w', 'educ_atnmnt25ao_w_m', 'educ_atnmnt_25ao_w_f', 'educ_atnmnt_25ao_h', 'educ_atnmnt_25ao_h_m', 'educ_atnmnt_25ao_h_f', 'emp_total', 'emp_total_male', 'emp_total_female', 'emp_total_black', 'emp_total_male_black', 'emp_total_female_black', 'emp_total_white', 'emp_total_male_white', 'emp_total_female_white', 'pci', 'pci_black', 'pci_white']\n",
      "before dropping duplicates:  49628\n",
      "after dropping duplicates:  48928\n",
      "4448\n"
     ]
    }
   ],
   "source": [
    "merge_crime_acs(left_fl = '/Users/salma/Research/dissertation_work/data/merge/crime_educ_schl_acs.csv',\n",
    "                acs_fl = '/Users/salma/Research/dissertation_work/data/economic/econ_acs_10_20.csv',\n",
    "                op_path = '/Users/salma/Research/dissertation_work/data/merge',\n",
    "                fl_type = 'educ_schl_econ_acs'\n",
    "               )"
   ]
  },
  {
   "cell_type": "markdown",
   "metadata": {},
   "source": [
    "### MERGE DEMO DATA"
   ]
  },
  {
   "cell_type": "code",
   "execution_count": 34,
   "metadata": {
    "collapsed": true
   },
   "outputs": [
    {
     "name": "stdout",
     "output_type": "stream",
     "text": [
      "###### Left side crime or merged ######\n",
      "['ORI', 'agency_name', 'state', 'year', 'state_fips', 'longitude', 'latitude', 'county_fips', 'place_fips', 'population', 'rape', 'robbery', 'simple_assault', 'burglary', 'larceny', 'motor_vehicle_theft', 'agg_assault', 'arson', 'murder', 'schl_enrl_tot', 'schl_enrl_grades_5_8', 'schl_enrl_grades_9_12', 'schl_enrl_ugrad', 'schl_enrl_grad', 'schl_enrl_m', 'schl_enrl_grades_m_5_8', 'schl_enrl_grades_m_9_12', 'schl_enrl_m_ugrad', 'schl_enrl_m_grad', 'schl_enrl_f', 'schl_enrl_grades_f_5_8', 'schl_enrl_grades_f_9_12', 'schl_enrl_f_ugrad', 'schl_enrl_f_grad', 'educ_atnmnt_18ao', 'educ_atnmnt_18ao_m', 'educ_atnmnt_18_24_m', 'educ_atnmnt_25_34_m', 'educ_atnmnt_18ao_f', 'educ_atnmnt_18_24_f', 'educ_atnmnt_25_34_f', 'educ_atnmnt_25ao', 'educ_atnmnt_25ao_m', 'educ_atnmnt_25ao_f', 'educ_atnmnt_25ao_b', 'educ_atnmnt_25ao_b_m', 'educ_atnmnt_25ao_b_f', 'educ_atnmnt_25ao_w', 'educ_atnmnt25ao_w_m', 'educ_atnmnt_25ao_w_f', 'educ_atnmnt_25ao_h', 'educ_atnmnt_25ao_h_m', 'educ_atnmnt_25ao_h_f', 'emp_total', 'emp_total_male', 'emp_total_female', 'emp_total_black', 'emp_total_male_black', 'emp_total_female_black', 'emp_total_white', 'emp_total_male_white', 'emp_total_female_white', 'pci', 'pci_black', 'pci_white']\n",
      "48928\n",
      "4448\n",
      "\n",
      "###### To be merged ########\n",
      "['place_name', 'census_pop', 'male_total', 'female_total', 'black_total', 'black_m_total', 'black_f_total', 'white_total', 'white_m_total', 'white_f_total', 'hispanic_total', 'hispanic_m_total', 'hispanic_f_total', 'state_fips', 'county_fips', 'year', 'place_fips', 'Males_15_24', 'Females_15_24', 'Age1524_BlackM', 'Age1524_BlackF', 'Age1524_WhiteM', 'Age1524_WhiteF', 'Age1524_HispanicM', 'Age1524_HispanicF']\n",
      "before dropping duplicates 751688\n",
      "after dropping duplicates 704762\n",
      "\n",
      "######## After merge ########\n",
      "['ORI', 'agency_name', 'state', 'year', 'state_fips', 'longitude', 'latitude', 'county_fips', 'place_fips', 'population', 'rape', 'robbery', 'simple_assault', 'burglary', 'larceny', 'motor_vehicle_theft', 'agg_assault', 'arson', 'murder', 'schl_enrl_tot', 'schl_enrl_grades_5_8', 'schl_enrl_grades_9_12', 'schl_enrl_ugrad', 'schl_enrl_grad', 'schl_enrl_m', 'schl_enrl_grades_m_5_8', 'schl_enrl_grades_m_9_12', 'schl_enrl_m_ugrad', 'schl_enrl_m_grad', 'schl_enrl_f', 'schl_enrl_grades_f_5_8', 'schl_enrl_grades_f_9_12', 'schl_enrl_f_ugrad', 'schl_enrl_f_grad', 'educ_atnmnt_18ao', 'educ_atnmnt_18ao_m', 'educ_atnmnt_18_24_m', 'educ_atnmnt_25_34_m', 'educ_atnmnt_18ao_f', 'educ_atnmnt_18_24_f', 'educ_atnmnt_25_34_f', 'educ_atnmnt_25ao', 'educ_atnmnt_25ao_m', 'educ_atnmnt_25ao_f', 'educ_atnmnt_25ao_b', 'educ_atnmnt_25ao_b_m', 'educ_atnmnt_25ao_b_f', 'educ_atnmnt_25ao_w', 'educ_atnmnt25ao_w_m', 'educ_atnmnt_25ao_w_f', 'educ_atnmnt_25ao_h', 'educ_atnmnt_25ao_h_m', 'educ_atnmnt_25ao_h_f', 'emp_total', 'emp_total_male', 'emp_total_female', 'emp_total_black', 'emp_total_male_black', 'emp_total_female_black', 'emp_total_white', 'emp_total_male_white', 'emp_total_female_white', 'pci', 'pci_black', 'pci_white', 'census_pop', 'male_total', 'female_total', 'black_total', 'black_m_total', 'black_f_total', 'white_total', 'white_m_total', 'white_f_total', 'hispanic_total', 'hispanic_m_total', 'hispanic_f_total', 'Males_15_24', 'Females_15_24', 'Age1524_BlackM', 'Age1524_BlackF', 'Age1524_WhiteM', 'Age1524_WhiteF', 'Age1524_HispanicM', 'Age1524_HispanicF']\n",
      "before dropping duplicates:  49628\n",
      "after dropping duplicates:  48928\n",
      "4448\n"
     ]
    }
   ],
   "source": [
    "merge_crime_acs(left_fl = '/Users/salma/Research/dissertation_work/data/merge/crime_educ_schl_econ_acs.csv',\n",
    "                acs_fl = '/Users/salma/Research/dissertation_work/data/demo/demo_acs_10_20.csv',\n",
    "                op_path = '/Users/salma/Research/dissertation_work/data/merge',\n",
    "                fl_type = 'educ_schl_econ_demo_acs'\n",
    "               )"
   ]
  },
  {
   "cell_type": "markdown",
   "metadata": {},
   "source": [
    "### MERGE ARRESTS DATA"
   ]
  },
  {
   "cell_type": "code",
   "execution_count": 35,
   "metadata": {
    "collapsed": true
   },
   "outputs": [
    {
     "name": "stdout",
     "output_type": "stream",
     "text": [
      "###### Left side crime or merged ######\n",
      "['ORI', 'agency_name', 'state', 'year', 'state_fips', 'longitude', 'latitude', 'county_fips', 'place_fips', 'population', 'rape', 'robbery', 'simple_assault', 'burglary', 'larceny', 'motor_vehicle_theft', 'agg_assault', 'arson', 'murder', 'schl_enrl_tot', 'schl_enrl_grades_5_8', 'schl_enrl_grades_9_12', 'schl_enrl_ugrad', 'schl_enrl_grad', 'schl_enrl_m', 'schl_enrl_grades_m_5_8', 'schl_enrl_grades_m_9_12', 'schl_enrl_m_ugrad', 'schl_enrl_m_grad', 'schl_enrl_f', 'schl_enrl_grades_f_5_8', 'schl_enrl_grades_f_9_12', 'schl_enrl_f_ugrad', 'schl_enrl_f_grad', 'educ_atnmnt_18ao', 'educ_atnmnt_18ao_m', 'educ_atnmnt_18_24_m', 'educ_atnmnt_25_34_m', 'educ_atnmnt_18ao_f', 'educ_atnmnt_18_24_f', 'educ_atnmnt_25_34_f', 'educ_atnmnt_25ao', 'educ_atnmnt_25ao_m', 'educ_atnmnt_25ao_f', 'educ_atnmnt_25ao_b', 'educ_atnmnt_25ao_b_m', 'educ_atnmnt_25ao_b_f', 'educ_atnmnt_25ao_w', 'educ_atnmnt25ao_w_m', 'educ_atnmnt_25ao_w_f', 'educ_atnmnt_25ao_h', 'educ_atnmnt_25ao_h_m', 'educ_atnmnt_25ao_h_f', 'emp_total', 'emp_total_male', 'emp_total_female', 'emp_total_black', 'emp_total_male_black', 'emp_total_female_black', 'emp_total_white', 'emp_total_male_white', 'emp_total_female_white', 'pci', 'pci_black', 'pci_white', 'census_pop', 'male_total', 'female_total', 'black_total', 'black_m_total', 'black_f_total', 'white_total', 'white_m_total', 'white_f_total', 'hispanic_total', 'hispanic_m_total', 'hispanic_f_total', 'Males_15_24', 'Females_15_24', 'Age1524_BlackM', 'Age1524_BlackF', 'Age1524_WhiteM', 'Age1524_WhiteF', 'Age1524_HispanicM', 'Age1524_HispanicF']\n",
      "48928\n",
      "4448\n",
      "\n",
      "###### To be merged ########\n",
      "['ORI', 'population', 'agency_name', 'year', 'state', 'state_fips', 'county_fips', 'place_fips', 'longitude', 'latitude', 'agg_assault_tot_arrests', 'agg_assault_tot_arrests_male', 'agg_assault_tot_arrests_female', 'agg_assault_tot_arrests_black', 'agg_assault_tot_arrests_white', 'burglary_tot_arrests', 'burglary_tot_arrests_female', 'burglary_tot_arrests_black', 'burglary_tot_arrests_male', 'burglary_tot_arrests_white', 'mtr_veh_theft_tot_arrests', 'mtr_veh_theft_tot_arrests_female', 'mtr_veh_theft_tot_arrests_black', 'mtr_veh_theft_tot_arrests_male', 'mtr_veh_theft_tot_arrests_white', 'murder_tot_arrests', 'murder_tot_arrests_female', 'murder_tot_arrests_black', 'murder_tot_arrests_male', 'murder_tot_arrests_white', 'rape_tot_arrests', 'rape_tot_arrests_female', 'rape_tot_arrests_black', 'rape_tot_arrests_male', 'rape_tot_arrests_white', 'robbery_tot_arrests', 'robbery_tot_arrests_female', 'robbery_tot_arrests_black', 'robbery_tot_arrests_male', 'robbery_tot_arrests_white', 'drug_tot_arrests', 'drug_tot_arrests_female', 'drug_tot_arrests_black', 'drug_tot_arrests_male', 'drug_tot_arrests_white', 'sale_drug_tot_arrests', 'sale_drug_tot_arrests_female', 'sale_drug_tot_arrests_black', 'sale_drug_tot_arrests_male', 'sale_drug_tot_arrests_white', 'poss_drug_tot_arrests', 'poss_drug_tot_arrests_female', 'poss_drug_tot_arrests_black', 'poss_drug_tot_arrests_male', 'poss_drug_tot_arrests_white', 'larceny_theft_tot_arrests', 'larceny_theft_tot_arrests_male', 'larceny_theft_tot_arrests_female', 'larceny_theft_tot_arrests_black', 'larceny_theft_tot_arrests_white', 'disorder_tot_arrests', 'disorder_tot_arrests_male', 'disorder_tot_arrests_female', 'disorder_tot_arrests_black', 'disorder_tot_arrests_white']\n",
      "before dropping duplicates 28160\n",
      "after dropping duplicates 28160\n",
      "\n",
      "######## After merge ########\n",
      "['ORI', 'agency_name', 'state', 'year', 'state_fips', 'longitude', 'latitude', 'county_fips', 'place_fips', 'population', 'rape', 'robbery', 'simple_assault', 'burglary', 'larceny', 'motor_vehicle_theft', 'agg_assault', 'arson', 'murder', 'schl_enrl_tot', 'schl_enrl_grades_5_8', 'schl_enrl_grades_9_12', 'schl_enrl_ugrad', 'schl_enrl_grad', 'schl_enrl_m', 'schl_enrl_grades_m_5_8', 'schl_enrl_grades_m_9_12', 'schl_enrl_m_ugrad', 'schl_enrl_m_grad', 'schl_enrl_f', 'schl_enrl_grades_f_5_8', 'schl_enrl_grades_f_9_12', 'schl_enrl_f_ugrad', 'schl_enrl_f_grad', 'educ_atnmnt_18ao', 'educ_atnmnt_18ao_m', 'educ_atnmnt_18_24_m', 'educ_atnmnt_25_34_m', 'educ_atnmnt_18ao_f', 'educ_atnmnt_18_24_f', 'educ_atnmnt_25_34_f', 'educ_atnmnt_25ao', 'educ_atnmnt_25ao_m', 'educ_atnmnt_25ao_f', 'educ_atnmnt_25ao_b', 'educ_atnmnt_25ao_b_m', 'educ_atnmnt_25ao_b_f', 'educ_atnmnt_25ao_w', 'educ_atnmnt25ao_w_m', 'educ_atnmnt_25ao_w_f', 'educ_atnmnt_25ao_h', 'educ_atnmnt_25ao_h_m', 'educ_atnmnt_25ao_h_f', 'emp_total', 'emp_total_male', 'emp_total_female', 'emp_total_black', 'emp_total_male_black', 'emp_total_female_black', 'emp_total_white', 'emp_total_male_white', 'emp_total_female_white', 'pci', 'pci_black', 'pci_white', 'census_pop', 'male_total', 'female_total', 'black_total', 'black_m_total', 'black_f_total', 'white_total', 'white_m_total', 'white_f_total', 'hispanic_total', 'hispanic_m_total', 'hispanic_f_total', 'Males_15_24', 'Females_15_24', 'Age1524_BlackM', 'Age1524_BlackF', 'Age1524_WhiteM', 'Age1524_WhiteF', 'Age1524_HispanicM', 'Age1524_HispanicF', 'agg_assault_tot_arrests', 'agg_assault_tot_arrests_male', 'agg_assault_tot_arrests_female', 'agg_assault_tot_arrests_black', 'agg_assault_tot_arrests_white', 'burglary_tot_arrests', 'burglary_tot_arrests_female', 'burglary_tot_arrests_black', 'burglary_tot_arrests_male', 'burglary_tot_arrests_white', 'mtr_veh_theft_tot_arrests', 'mtr_veh_theft_tot_arrests_female', 'mtr_veh_theft_tot_arrests_black', 'mtr_veh_theft_tot_arrests_male', 'mtr_veh_theft_tot_arrests_white', 'murder_tot_arrests', 'murder_tot_arrests_female', 'murder_tot_arrests_black', 'murder_tot_arrests_male', 'murder_tot_arrests_white', 'rape_tot_arrests', 'rape_tot_arrests_female', 'rape_tot_arrests_black', 'rape_tot_arrests_male', 'rape_tot_arrests_white', 'robbery_tot_arrests', 'robbery_tot_arrests_female', 'robbery_tot_arrests_black', 'robbery_tot_arrests_male', 'robbery_tot_arrests_white', 'drug_tot_arrests', 'drug_tot_arrests_female', 'drug_tot_arrests_black', 'drug_tot_arrests_male', 'drug_tot_arrests_white', 'sale_drug_tot_arrests', 'sale_drug_tot_arrests_female', 'sale_drug_tot_arrests_black', 'sale_drug_tot_arrests_male', 'sale_drug_tot_arrests_white', 'poss_drug_tot_arrests', 'poss_drug_tot_arrests_female', 'poss_drug_tot_arrests_black', 'poss_drug_tot_arrests_male', 'poss_drug_tot_arrests_white', 'larceny_theft_tot_arrests', 'larceny_theft_tot_arrests_male', 'larceny_theft_tot_arrests_female', 'larceny_theft_tot_arrests_black', 'larceny_theft_tot_arrests_white', 'disorder_tot_arrests', 'disorder_tot_arrests_male', 'disorder_tot_arrests_female', 'disorder_tot_arrests_black', 'disorder_tot_arrests_white']\n",
      "before dropping duplicates:  48928\n",
      "after dropping duplicates:  48928\n",
      "4448\n"
     ]
    }
   ],
   "source": [
    "merge_crime_acs(left_fl = '/Users/salma/Research/dissertation_work/data/merge/crime_educ_schl_econ_demo_acs.csv',\n",
    "                acs_fl = '/Users/salma/Research/dissertation_work/data/arrests_jkap/arrests_10_20_req_all_rept_oris.csv',\n",
    "                op_path = '/Users/salma/Research/dissertation_work/data/merge',\n",
    "                fl_type = 'educ_schl_econ_demo_arrests_acs',\n",
    "                drop_cols=['county_fips', 'agency_name', 'state', 'state_fips', 'place_fips', 'longitude', 'latitude', 'population'],\n",
    "                merge_cols = ['ORI', 'year']\n",
    "               )"
   ]
  },
  {
   "cell_type": "markdown",
   "metadata": {},
   "source": [
    "### MERGE INCARCERATION DATA"
   ]
  },
  {
   "cell_type": "code",
   "execution_count": 40,
   "metadata": {},
   "outputs": [],
   "source": [
    "cr_arrests_mrgd_df = pd.read_csv('/Users/salma/Research/dissertation_work/data/merge/crime_educ_schl_econ_demo_arrests_acs.csv')\n",
    "\n",
    "cr_arrests_mrgd_df_req = cr_arrests_mrgd_df.loc[:, ['ORI', 'agency_name', 'state', 'year', 'state_fips', \n",
    "                                                    'longitude', 'latitude', 'county_fips', 'place_fips', \n",
    "                                                    'population', 'census_pop', 'male_total', 'female_total', \n",
    "                                                    'black_total', 'black_m_total', 'black_f_total', 'white_total',\n",
    "                                                    'white_m_total', 'white_f_total', 'hispanic_total',\n",
    "                                                    'hispanic_m_total', 'hispanic_f_total', 'Males_15_24', \n",
    "                                                    'Females_15_24', 'Age1524_BlackM', 'Age1524_BlackF', 'Age1524_WhiteM', 'Age1524_WhiteF', 'Age1524_HispanicM', \n",
    "                                                    'Age1524_HispanicF', 'rape', 'robbery', 'simple_assault', \n",
    "                                                    'burglary', \n",
    "                                                    'larceny', 'motor_vehicle_theft', 'agg_assault', 'arson', \n",
    "                                                    'murder', 'schl_enrl_tot', 'schl_enrl_ugrad', 'schl_enrl_grad',\n",
    "                                                    'educ_atnmnt_18_24_m','educ_atnmnt_18_24_f', 'educ_atnmnt_25ao_b', \n",
    "                                                    'educ_atnmnt_25ao_w','emp_total','emp_total_black','emp_total_white',\n",
    "                                                    'pci', 'pci_black', 'pci_white', \n",
    "                                                    'agg_assault_tot_arrests', 'agg_assault_tot_arrests_black',\n",
    "                                                    'agg_assault_tot_arrests_white', 'burglary_tot_arrests', \n",
    "                                                    'burglary_tot_arrests_black','burglary_tot_arrests_white', \n",
    "                                                    'mtr_veh_theft_tot_arrests','mtr_veh_theft_tot_arrests_black', \n",
    "                                                    'mtr_veh_theft_tot_arrests_white', 'murder_tot_arrests',\n",
    "                                                    'murder_tot_arrests_black','murder_tot_arrests_white', \n",
    "                                                    'rape_tot_arrests', 'rape_tot_arrests_black', 'rape_tot_arrests_white',\n",
    "                                                    'robbery_tot_arrests', 'robbery_tot_arrests_black', 'robbery_tot_arrests_white',\n",
    "                                                    'drug_tot_arrests', 'drug_tot_arrests_black', 'drug_tot_arrests_white', \n",
    "                                                    'sale_drug_tot_arrests', 'sale_drug_tot_arrests_black',\n",
    "                                                    'sale_drug_tot_arrests_white', 'poss_drug_tot_arrests', \n",
    "                                                    'poss_drug_tot_arrests_black', 'poss_drug_tot_arrests_white', \n",
    "                                                    'larceny_theft_tot_arrests', 'larceny_theft_tot_arrests_black',\n",
    "                                                    'larceny_theft_tot_arrests_white', 'disorder_tot_arrests',\n",
    "                                                    'disorder_tot_arrests_black', 'disorder_tot_arrests_white']]\n",
    "\n",
    "\n",
    "cr_arrests_mrgd_df_req['white_15_24'] = cr_arrests_mrgd_df_req['Age1524_WhiteM'] + cr_arrests_mrgd_df_req['Age1524_WhiteF']\n",
    "cr_arrests_mrgd_df_req['black_15_24'] = cr_arrests_mrgd_df_req['Age1524_BlackM'] + cr_arrests_mrgd_df_req['Age1524_BlackF']\n",
    "\n",
    "cr_arrests_mrgd_df_req['total_15_24'] = cr_arrests_mrgd_df_req['Males_15_24'] + cr_arrests_mrgd_df_req['Females_15_24']\n",
    "\n",
    "cr_arrests_mrgd_df_req.rename({'Males_15_24': 'males_15_24', 'Females_15_24': 'females_15_24', \n",
    "                              'Age1524_BlackM': 'black_15_24_m', 'Age1524_BlackF': 'black_15_24_f',\n",
    "                              'Age1524_WhiteM': 'white_15_24_m', 'Age1524_WhiteF': 'white_15_24_f'}, \n",
    "                              axis=1, inplace=True)\n",
    "\n",
    "cr_arrests_mrgd_df_req.drop(['census_pop', 'Age1524_HispanicM', 'Age1524_HispanicF', 'hispanic_total', \n",
    "                             'hispanic_m_total', 'hispanic_f_total'], axis=1, inplace = True)\n",
    "\n",
    "cr_arrests_mrgd_df_req['educ_atnmnt_18_24_total'] = cr_arrests_mrgd_df_req['educ_atnmnt_18_24_m']+cr_arrests_mrgd_df_req['educ_atnmnt_18_24_f']\n",
    "cr_arrests_mrgd_df_req.drop(['educ_atnmnt_18_24_m', 'educ_atnmnt_18_24_f'], axis=1, inplace=True)\n",
    "\n",
    "cr_arrests_mrgd_df_req.to_csv('/Users/salma/Research/dissertation_work/data/merge/educ_schl_econ_demo_arrests_acs_req.csv', index=False)"
   ]
  },
  {
   "cell_type": "markdown",
   "metadata": {},
   "source": [
    "### Create crime percents at agency level based on county level totals to calculate incarceration counts"
   ]
  },
  {
   "cell_type": "code",
   "execution_count": 41,
   "metadata": {
    "collapsed": true
   },
   "outputs": [
    {
     "name": "stdout",
     "output_type": "stream",
     "text": [
      "['ORI', 'agency_name', 'state', 'year', 'state_fips', 'longitude', 'latitude', 'county_fips', 'place_fips', 'population', 'male_total', 'female_total', 'black_total', 'black_m_total', 'black_f_total', 'white_total', 'white_m_total', 'white_f_total', 'males_15_24', 'females_15_24', 'black_15_24_m', 'black_15_24_f', 'white_15_24_m', 'white_15_24_f', 'rape', 'robbery', 'simple_assault', 'burglary', 'larceny', 'motor_vehicle_theft', 'agg_assault', 'arson', 'murder', 'schl_enrl_tot', 'schl_enrl_ugrad', 'schl_enrl_grad', 'educ_atnmnt_25ao_b', 'educ_atnmnt_25ao_w', 'emp_total', 'emp_total_black', 'emp_total_white', 'pci', 'pci_black', 'pci_white', 'agg_assault_tot_arrests', 'agg_assault_tot_arrests_black', 'agg_assault_tot_arrests_white', 'burglary_tot_arrests', 'burglary_tot_arrests_black', 'burglary_tot_arrests_white', 'mtr_veh_theft_tot_arrests', 'mtr_veh_theft_tot_arrests_black', 'mtr_veh_theft_tot_arrests_white', 'murder_tot_arrests', 'murder_tot_arrests_black', 'murder_tot_arrests_white', 'rape_tot_arrests', 'rape_tot_arrests_black', 'rape_tot_arrests_white', 'robbery_tot_arrests', 'robbery_tot_arrests_black', 'robbery_tot_arrests_white', 'drug_tot_arrests', 'drug_tot_arrests_black', 'drug_tot_arrests_white', 'sale_drug_tot_arrests', 'sale_drug_tot_arrests_black', 'sale_drug_tot_arrests_white', 'poss_drug_tot_arrests', 'poss_drug_tot_arrests_black', 'poss_drug_tot_arrests_white', 'larceny_theft_tot_arrests', 'larceny_theft_tot_arrests_black', 'larceny_theft_tot_arrests_white', 'disorder_tot_arrests', 'disorder_tot_arrests_black', 'disorder_tot_arrests_white', 'white_15_24', 'black_15_24', 'total_15_24', 'educ_atnmnt_18_24_total', 'tot_felonies_agency', 'tot_misdemeanors_agency', 'index', 'murder_cnty_total', 'rape_cnty_total', 'robbery_cnty_total', 'agg_assault_cnty_total', 'burglary_cnty_total', 'larceny_cnty_total', 'simple_assault_cnty_total', 'motor_vehicle_theft_cnty_total', 'tot_felonies_cnty', 'tot_misdemeanors_cnty', 'tot_major_offenses_cnty', 'perc_felonies', 'perc_misdemeanors']\n",
      "48928\n"
     ]
    }
   ],
   "source": [
    "### Create tot major offences by adding up all the crime vars to only consider records with non-zero crime. ###\n",
    "    \n",
    "cr_arrests_mrgd_df_req['tot_felonies_agency'] = cr_arrests_mrgd_df_req[['murder', 'rape', 'robbery',\n",
    "                                                        'agg_assault', 'burglary', 'motor_vehicle_theft']].sum(axis=1)\n",
    "cr_arrests_mrgd_df_req['tot_misdemeanors_agency'] = cr_arrests_mrgd_df_req[['larceny', 'simple_assault']].sum(axis=1)\n",
    "\n",
    "\n",
    "# Group the data frame by fips state and fips county and then calculate the sum of each crime column\n",
    "# The groupby output will have an index or multi-index on rows corresponding to your chosen grouping variables. \n",
    "# To avoid setting this index, pass “as_index=False” to the groupby operation.\n",
    "\n",
    "\n",
    "# creating new representative column for each crime to hold the total counts\n",
    "cr_arrests_mrgd_df_req_cnty_totals = cr_arrests_mrgd_df_req.assign(\n",
    "    murder_cnty_total = cr_arrests_mrgd_df_req['murder'],\n",
    "    rape_cnty_total = cr_arrests_mrgd_df_req['rape'],\n",
    "    robbery_cnty_total = cr_arrests_mrgd_df_req['robbery'],\n",
    "    agg_assault_cnty_total = cr_arrests_mrgd_df_req['agg_assault'],\n",
    "    burglary_cnty_total = cr_arrests_mrgd_df_req['burglary'],\n",
    "    larceny_cnty_total = cr_arrests_mrgd_df_req['larceny'],\n",
    "    simple_assault_cnty_total = cr_arrests_mrgd_df_req['simple_assault'],\n",
    "    motor_vehicle_theft_cnty_total = cr_arrests_mrgd_df_req['motor_vehicle_theft']\n",
    ").groupby(\n",
    "   ['state_fips', 'county_fips', 'year'], as_index=False\n",
    ").agg(\n",
    "    {\n",
    "        'murder_cnty_total':'sum',\n",
    "        'rape_cnty_total': 'sum',\n",
    "        'robbery_cnty_total':'sum',\n",
    "        'agg_assault_cnty_total': 'sum',\n",
    "        'burglary_cnty_total': 'sum',\n",
    "        'larceny_cnty_total': 'sum',\n",
    "        'simple_assault_cnty_total':'sum',\n",
    "        'motor_vehicle_theft_cnty_total': 'sum'\n",
    "    }\n",
    ").reset_index()  #initially reset_index(drop=True). shouldn't make a diff since we want STATEFP and CNTY to remain as columns.\n",
    "# or may be check the index initially in the previous case and this case. IF it was adding 0 index initially also coz as_index= False might infact not be adding statefp and cnty as indices\n",
    "#################### CHECK ####################\n",
    "\n",
    "\n",
    "\"\"\"\n",
    "# Create the below indexes\n",
    "            o\ttot_felonies_cnty  : murder, rape, robbery (the measure with all the robberies together), agg assault, burglary, auto theft\n",
    "            o\ttot_minor_offences_cnty : simple assault + larceny\n",
    "                tot_major_offences_cnty : tot_felonies_cnty + tot_minor_offences_cnty \n",
    "\"\"\"\n",
    "\n",
    "cr_arrests_mrgd_df_req_cnty_totals['tot_felonies_cnty'] = cr_arrests_mrgd_df_req_cnty_totals[['murder_cnty_total', 'rape_cnty_total', 'robbery_cnty_total',\n",
    "                                                                          'agg_assault_cnty_total', 'burglary_cnty_total', 'motor_vehicle_theft_cnty_total']].sum(axis=1)\n",
    "cr_arrests_mrgd_df_req_cnty_totals['tot_misdemeanors_cnty'] = cr_arrests_mrgd_df_req_cnty_totals[['larceny_cnty_total', 'simple_assault_cnty_total']].sum(axis=1)\n",
    "#cr_arrests_mrgd_df_req_cnty_totals['tot_major_offenses_cnty'] = cr_arrests_mrgd_df_req_cnty_totals[['tot_felonies_cnty', 'tot_misdemeanors_cnty']].sum(axis=1)\n",
    "\n",
    "# merge the county totals group by df with the crime_98_08_1st_rep_yr on state and cnty fips so that county level totals\n",
    "# are assigned to each agency based on state and county fips\n",
    "merged_cr_percents_df = pd.merge(cr_arrests_mrgd_df_req, cr_arrests_mrgd_df_req_cnty_totals, on=['state_fips', 'county_fips', 'year'])\n",
    "merged_cr_percents_df['perc_felonies'] = (merged_cr_percents_df['tot_felonies_agency']/merged_cr_percents_df['tot_felonies_cnty'])*100\n",
    "merged_cr_percents_df['perc_misdemeanors'] = (merged_cr_percents_df['tot_misdemeanors_agency']/merged_cr_percents_df['tot_misdemeanors_cnty'])*100\n",
    "\n",
    "print(list(merged_cr_percents_df))\n",
    "print(merged_cr_percents_df.shape[0])"
   ]
  },
  {
   "cell_type": "code",
   "execution_count": 42,
   "metadata": {},
   "outputs": [
    {
     "name": "stdout",
     "output_type": "stream",
     "text": [
      "28251\n",
      "['year', 'fips', 'total_jail_pop', 'total_prison_pop', 'state_fips', 'county_fips']\n"
     ]
    }
   ],
   "source": [
    "incarc_df = pd.read_csv('/Users/salma/Research/dissertation_work/data/incarceration_vera/incarc_cnty_df_vera_90_20_req.csv')\n",
    "incarc_df_req = incarc_df.query('year > 2009')\n",
    "print(incarc_df_req.shape[0])\n",
    "print(list(incarc_df_req))"
   ]
  },
  {
   "cell_type": "code",
   "execution_count": 43,
   "metadata": {},
   "outputs": [
    {
     "name": "stdout",
     "output_type": "stream",
     "text": [
      "48928\n"
     ]
    }
   ],
   "source": [
    "merged_cr_percents_incarc_df = merged_cr_percents_df.merge(incarc_df_req, \n",
    "                                                           on=['state_fips', 'county_fips', 'year'], \n",
    "                                                           how='left')\n",
    "print(merged_cr_percents_incarc_df.shape[0])"
   ]
  },
  {
   "cell_type": "code",
   "execution_count": 44,
   "metadata": {
    "collapsed": true
   },
   "outputs": [
    {
     "name": "stdout",
     "output_type": "stream",
     "text": [
      "48928\n",
      "['ORI', 'agency_name', 'state', 'year', 'state_fips', 'longitude', 'latitude', 'county_fips', 'place_fips', 'population', 'male_total', 'female_total', 'black_total', 'black_m_total', 'black_f_total', 'white_total', 'white_m_total', 'white_f_total', 'males_15_24', 'females_15_24', 'black_15_24_m', 'black_15_24_f', 'white_15_24_m', 'white_15_24_f', 'rape', 'robbery', 'simple_assault', 'burglary', 'larceny', 'motor_vehicle_theft', 'agg_assault', 'arson', 'murder', 'schl_enrl_tot', 'schl_enrl_ugrad', 'schl_enrl_grad', 'educ_atnmnt_25ao_b', 'educ_atnmnt_25ao_w', 'emp_total', 'emp_total_black', 'emp_total_white', 'pci', 'pci_black', 'pci_white', 'agg_assault_tot_arrests', 'agg_assault_tot_arrests_black', 'agg_assault_tot_arrests_white', 'burglary_tot_arrests', 'burglary_tot_arrests_black', 'burglary_tot_arrests_white', 'mtr_veh_theft_tot_arrests', 'mtr_veh_theft_tot_arrests_black', 'mtr_veh_theft_tot_arrests_white', 'murder_tot_arrests', 'murder_tot_arrests_black', 'murder_tot_arrests_white', 'rape_tot_arrests', 'rape_tot_arrests_black', 'rape_tot_arrests_white', 'robbery_tot_arrests', 'robbery_tot_arrests_black', 'robbery_tot_arrests_white', 'drug_tot_arrests', 'drug_tot_arrests_black', 'drug_tot_arrests_white', 'sale_drug_tot_arrests', 'sale_drug_tot_arrests_black', 'sale_drug_tot_arrests_white', 'poss_drug_tot_arrests', 'poss_drug_tot_arrests_black', 'poss_drug_tot_arrests_white', 'larceny_theft_tot_arrests', 'larceny_theft_tot_arrests_black', 'larceny_theft_tot_arrests_white', 'disorder_tot_arrests', 'disorder_tot_arrests_black', 'disorder_tot_arrests_white', 'white_15_24', 'black_15_24', 'total_15_24', 'educ_atnmnt_18_24_total', 'tot_felonies_agency', 'tot_misdemeanors_agency', 'tot_felonies_cnty', 'tot_misdemeanors_cnty', 'tot_major_offenses_cnty', 'perc_felonies', 'perc_misdemeanors', 'total_jail_pop', 'total_prison_pop', 'prison_occupancy_count', 'jail_occupancy_count']\n"
     ]
    }
   ],
   "source": [
    "merged_cr_percents_incarc_df['prison_occupancy_count'] = (merged_cr_percents_incarc_df['perc_felonies'] * merged_cr_percents_incarc_df['total_prison_pop']) / 100\n",
    "merged_cr_percents_incarc_df['jail_occupancy_count'] = (merged_cr_percents_incarc_df['perc_misdemeanors'] * merged_cr_percents_incarc_df['total_jail_pop']) / 100\n",
    "merged_cr_percents_incarc_df.sort_values(by=['ORI', 'year'], inplace=True)\n",
    "\n",
    "merged_cr_percents_incarc_df.drop(['index', 'murder_cnty_total', 'rape_cnty_total', \n",
    "                                   'robbery_cnty_total', 'agg_assault_cnty_total', \n",
    "                                   'burglary_cnty_total', 'larceny_cnty_total', \n",
    "                                   'simple_assault_cnty_total', 'fips',\n",
    "                                   'motor_vehicle_theft_cnty_total'], axis=1, inplace=True)\n",
    "\n",
    "print(merged_cr_percents_incarc_df.shape[0])\n",
    "print(list(merged_cr_percents_incarc_df))"
   ]
  },
  {
   "cell_type": "markdown",
   "metadata": {},
   "source": [
    "### CREATE NEW VARS"
   ]
  },
  {
   "cell_type": "markdown",
   "metadata": {},
   "source": [
    "'rape', 'robbery', 'simple_assault', 'burglary', 'larceny', 'motor_vehicle_theft', 'agg_assault', 'arson', 'murder'\n",
    "\n",
    "\ttotal_crime = sum('rape', 'robbery', 'simple_assault', 'burglary', 'larceny', 'motor_vehicle_theft', 'agg_assault', 'murder')\n",
    "\n",
    "\tviolent_crime = sum(murder,rape,robbery,aggravated_assault)\n",
    "\n",
    "\tproperty_crime = sum(burglary,larceny,auto_theft)"
   ]
  },
  {
   "cell_type": "code",
   "execution_count": 45,
   "metadata": {},
   "outputs": [],
   "source": [
    "merged_cr_percents_incarc_df['violent_crime'] = merged_cr_percents_incarc_df[['rape', 'robbery', 'murder', 'agg_assault']].sum(axis=1)\n",
    "\n",
    "merged_cr_percents_incarc_df['property_crime'] = merged_cr_percents_incarc_df[['burglary', 'larceny', 'motor_vehicle_theft']].sum(axis=1)\n",
    "\n",
    "merged_cr_percents_incarc_df['total_crime'] = merged_cr_percents_incarc_df[['rape', 'robbery', 'simple_assault', 'burglary', 'larceny', 'motor_vehicle_theft', 'agg_assault', 'murder']].sum(axis=1)\n",
    "\n",
    "\n",
    "merged_cr_percents_incarc_df['violent_tot_arrests'] = merged_cr_percents_incarc_df[['agg_assault_tot_arrests', 'robbery_tot_arrests',\n",
    "                                                                                   'murder_tot_arrests', 'rape_tot_arrests']].sum(axis=1)\n",
    "\n",
    "merged_cr_percents_incarc_df['property_tot_arrests'] = merged_cr_percents_incarc_df[['larceny_theft_tot_arrests', 'mtr_veh_theft_tot_arrests',\n",
    "                                                                                    'burglary_tot_arrests']].sum(axis=1)\n",
    "\n",
    "merged_cr_percents_incarc_df['total_crime_tot_arrests'] = merged_cr_percents_incarc_df[['violent_tot_arrests',\n",
    "                                                                                       'property_tot_arrests', 'simple_assault']].sum(axis=1)\n",
    "\n",
    "merged_cr_percents_incarc_df['violent_tot_arrests_black'] = merged_cr_percents_incarc_df[['agg_assault_tot_arrests_black',\n",
    "                                                                                         'murder_tot_arrests_black',\n",
    "                                                                                         'rape_tot_arrests_black',\n",
    "                                                                                         'robbery_tot_arrests_black']].sum(axis=1)\n",
    "\n",
    "merged_cr_percents_incarc_df['property_tot_arrests_black'] = merged_cr_percents_incarc_df[['burglary_tot_arrests_black',\n",
    "                                                                                          'mtr_veh_theft_tot_arrests_black', \n",
    "                                                                                          'larceny_theft_tot_arrests_black']].sum(axis=1)\n",
    "# for race specific, don't have simple assault arrests but just taking what we have\n",
    "merged_cr_percents_incarc_df['total_crime_tot_arrests_black'] = merged_cr_percents_incarc_df[['violent_tot_arrests_black',\n",
    "                                                                                       'property_tot_arrests_black']].sum(axis=1)\n",
    "\n",
    "\n",
    "merged_cr_percents_incarc_df['violent_tot_arrests_white'] = merged_cr_percents_incarc_df[['agg_assault_tot_arrests_white',\n",
    "                                                                                         'murder_tot_arrests_white',\n",
    "                                                                                         'rape_tot_arrests_white',\n",
    "                                                                                         'robbery_tot_arrests_white']].sum(axis=1)\n",
    "\n",
    "merged_cr_percents_incarc_df['property_tot_arrests_white'] = merged_cr_percents_incarc_df[['burglary_tot_arrests_white',\n",
    "                                                                                          'mtr_veh_theft_tot_arrests_white', \n",
    "                                                                                          'larceny_theft_tot_arrests_white']].sum(axis=1)\n",
    "# for race specific, don't have simple assault arrests but just taking what we have\n",
    "merged_cr_percents_incarc_df['total_crime_tot_arrests_white'] = merged_cr_percents_incarc_df[['violent_tot_arrests_white',\n",
    "                                                                                       'property_tot_arrests_white']].sum(axis=1)\n",
    "\n",
    "merged_cr_percents_incarc_df.to_csv('/Users/salma/Research/dissertation_work/data/final/final_10_20_all_rep_oris_gte_10k_core.csv', index=False)"
   ]
  },
  {
   "cell_type": "code",
   "execution_count": 48,
   "metadata": {
    "collapsed": true
   },
   "outputs": [
    {
     "name": "stdout",
     "output_type": "stream",
     "text": [
      "4448\n",
      "['ORI', 'agency_name', 'state', 'year', 'state_fips', 'longitude', 'latitude', 'county_fips', 'place_fips', 'population', 'male_total', 'female_total', 'black_total', 'black_m_total', 'black_f_total', 'white_total', 'white_m_total', 'white_f_total', 'males_15_24', 'females_15_24', 'black_15_24_m', 'black_15_24_f', 'white_15_24_m', 'white_15_24_f', 'rape', 'robbery', 'simple_assault', 'burglary', 'larceny', 'motor_vehicle_theft', 'agg_assault', 'arson', 'murder', 'schl_enrl_tot', 'schl_enrl_ugrad', 'schl_enrl_grad', 'educ_atnmnt_25ao_b', 'educ_atnmnt_25ao_w', 'emp_total', 'emp_total_black', 'emp_total_white', 'pci', 'pci_black', 'pci_white', 'agg_assault_tot_arrests', 'agg_assault_tot_arrests_black', 'agg_assault_tot_arrests_white', 'burglary_tot_arrests', 'burglary_tot_arrests_black', 'burglary_tot_arrests_white', 'mtr_veh_theft_tot_arrests', 'mtr_veh_theft_tot_arrests_black', 'mtr_veh_theft_tot_arrests_white', 'murder_tot_arrests', 'murder_tot_arrests_black', 'murder_tot_arrests_white', 'rape_tot_arrests', 'rape_tot_arrests_black', 'rape_tot_arrests_white', 'robbery_tot_arrests', 'robbery_tot_arrests_black', 'robbery_tot_arrests_white', 'drug_tot_arrests', 'drug_tot_arrests_black', 'drug_tot_arrests_white', 'sale_drug_tot_arrests', 'sale_drug_tot_arrests_black', 'sale_drug_tot_arrests_white', 'poss_drug_tot_arrests', 'poss_drug_tot_arrests_black', 'poss_drug_tot_arrests_white', 'larceny_theft_tot_arrests', 'larceny_theft_tot_arrests_black', 'larceny_theft_tot_arrests_white', 'disorder_tot_arrests', 'disorder_tot_arrests_black', 'disorder_tot_arrests_white', 'white_15_24', 'black_15_24', 'total_15_24', 'educ_atnmnt_18_24_total', 'prison_occupancy_count', 'jail_occupancy_count', 'violent_crime', 'property_crime', 'total_crime', 'violent_tot_arrests', 'property_tot_arrests', 'total_crime_tot_arrests', 'violent_tot_arrests_black', 'property_tot_arrests_black', 'total_crime_tot_arrests_black', 'violent_tot_arrests_white', 'property_tot_arrests_white', 'total_crime_tot_arrests_white']\n"
     ]
    }
   ],
   "source": [
    "merged_cr_percents_incarc_df.drop(['perc_felonies','perc_misdemeanors','total_jail_pop', \n",
    "                                   'total_prison_pop', 'tot_major_offenses_cnty', \n",
    "                                   'tot_felonies_agency', 'tot_misdemeanors_agency', \n",
    "                                   'tot_felonies_cnty', 'tot_misdemeanors_cnty'],\n",
    "                                 axis=1, inplace=True)\n",
    "\n",
    "print(merged_cr_percents_incarc_df['ORI'].nunique())\n",
    "print(list(merged_cr_percents_incarc_df))"
   ]
  },
  {
   "cell_type": "code",
   "execution_count": null,
   "metadata": {},
   "outputs": [],
   "source": []
  },
  {
   "cell_type": "code",
   "execution_count": null,
   "metadata": {},
   "outputs": [],
   "source": []
  },
  {
   "cell_type": "code",
   "execution_count": null,
   "metadata": {},
   "outputs": [],
   "source": []
  },
  {
   "cell_type": "markdown",
   "metadata": {},
   "source": [
    "### TEST"
   ]
  },
  {
   "cell_type": "code",
   "execution_count": null,
   "metadata": {},
   "outputs": [],
   "source": [
    "### To get the difference between 2 dataframes\n",
    "# m = df1.merge(df2, on='Name', how='outer', suffixes=['', '_'], indicator=True)\n",
    "m = crime_df.merge(crime_educ_schl_df, on=['ORI', 'year'], how='outer', suffixes=['', '_'], indicator=True)\n",
    "m.to_csv('/Users/salma/Research/dissertation_work/data/merge/merge_test_diff.csv', index=False)"
   ]
  },
  {
   "cell_type": "code",
   "execution_count": null,
   "metadata": {},
   "outputs": [],
   "source": [
    "### To get the difference between 2 dataframes\n",
    "# m = df1.merge(df2, on='Name', how='outer', suffixes=['', '_'], indicator=True)\n",
    "m = crime_df.merge(crime_educ_schl_df, on=['year', 'state_fips', 'county_fips', 'place_fips'], how='outer', suffixes=['', '_'], indicator=True)\n",
    "m.to_csv('/Users/salma/Research/dissertation_work/data/merge/merge_test_diff_fips.csv', index=False)"
   ]
  },
  {
   "cell_type": "code",
   "execution_count": null,
   "metadata": {},
   "outputs": [],
   "source": [
    "es_csubd_df = pd.read_csv('/Users/salma/Research/dissertation_work/data/educ_schl_acs/all/educ_schl_acs_10_20_csubd.csv')\n",
    "es_place_df = pd.read_csv('/Users/salma/Research/dissertation_work/data/educ_schl_acs/all/educ_schl_acs_10_20_place.csv')\n",
    "\n",
    "es_m = es_csubd_df.merge(es_place_df, left_on=['year', 'state', 'county subdivision'], right_on=['year', 'state', 'place'], how='outer', suffixes=['', '_'], indicator=True)\n",
    "\n",
    "es_m.to_csv('/Users/salma/Research/dissertation_work/data/merge/es_merge_test_diff_fips.csv', index=False)"
   ]
  },
  {
   "cell_type": "code",
   "execution_count": null,
   "metadata": {},
   "outputs": [],
   "source": []
  }
 ],
 "metadata": {
  "kernelspec": {
   "display_name": "us_crime_data_analysis",
   "language": "python",
   "name": "us_crime_data_analysis"
  },
  "language_info": {
   "codemirror_mode": {
    "name": "ipython",
    "version": 3
   },
   "file_extension": ".py",
   "mimetype": "text/x-python",
   "name": "python",
   "nbconvert_exporter": "python",
   "pygments_lexer": "ipython3",
   "version": "3.8.1"
  }
 },
 "nbformat": 4,
 "nbformat_minor": 4
}
