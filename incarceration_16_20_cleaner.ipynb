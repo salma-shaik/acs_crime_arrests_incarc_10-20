{
 "cells": [
  {
   "cell_type": "code",
   "execution_count": 1,
   "metadata": {},
   "outputs": [],
   "source": [
    "import pandas as pd"
   ]
  },
  {
   "cell_type": "code",
   "execution_count": 6,
   "metadata": {
    "collapsed": true
   },
   "outputs": [
    {
     "name": "stdout",
     "output_type": "stream",
     "text": [
      "['yfips', 'year', 'fips', 'state', 'county_name', 'total_pop', 'total_pop_15to64', 'female_pop_15to64', 'male_pop_15to64', 'aapi_pop_15to64', 'black_pop_15to64', 'latinx_pop_15to64', 'native_pop_15to64', 'white_pop_15to64', 'urbanicity', 'region', 'division', 'commuting_zone', 'metro_area', 'land_area', 'total_jail_pop', 'female_jail_pop', 'male_jail_pop', 'female_adult_jail_pop', 'female_juvenile_jail_pop', 'male_adult_jail_pop', 'male_juvenile_jail_pop', 'aapi_jail_pop', 'black_jail_pop', 'latinx_jail_pop', 'native_jail_pop', 'white_jail_pop', 'other_race_jail_pop', 'total_jail_pretrial', 'total_jail_from_prison', 'total_jail_from_other_jail', 'total_jail_from_fed', 'total_jail_from_bia', 'total_jail_from_bop', 'total_jail_from_ice', 'total_jail_from_marshals', 'total_jail_from_other_fed', 'jail_rated_capacity', 'private_jail_flag', 'regional_jail_flag', 'total_jail_adm', 'total_jail_dis', 'total_jail_pop_dcrp', 'female_jail_pop_dcrp', 'male_jail_pop_dcrp', 'total_jail_adm_dcrp', 'female_jail_adm_dcrp', 'male_jail_adm_dcrp', 'total_prison_pop', 'female_prison_pop', 'male_prison_pop', 'aapi_prison_pop', 'black_prison_pop', 'latinx_prison_pop', 'native_prison_pop', 'other_race_prison_pop', 'white_prison_pop', 'aapi_female_prison_pop', 'aapi_male_prison_pop', 'black_female_prison_pop', 'black_male_prison_pop', 'latinx_female_prison_pop', 'latinx_male_prison_pop', 'native_female_prison_pop', 'native_male_prison_pop', 'other_race_female_prison_pop', 'other_race_male_prison_pop', 'white_female_prison_pop', 'white_male_prison_pop', 'total_prison_adm', 'female_prison_adm', 'male_prison_adm', 'aapi_prison_adm', 'black_prison_adm', 'latinx_prison_adm', 'native_prison_adm', 'other_race_prison_adm', 'white_prison_adm', 'aapi_female_prison_adm', 'aapi_male_prison_adm', 'black_female_prison_adm', 'black_male_prison_adm', 'latinx_female_prison_adm', 'latinx_male_prison_adm', 'native_female_prison_adm', 'native_male_prison_adm', 'other_race_female_prison_adm', 'other_race_male_prison_adm', 'white_female_prison_adm', 'white_male_prison_adm', 'total_jail_pop_rate', 'female_jail_pop_rate', 'male_jail_pop_rate', 'aapi_jail_pop_rate', 'black_jail_pop_rate', 'latinx_jail_pop_rate', 'native_jail_pop_rate', 'white_jail_pop_rate', 'total_jail_adm_rate', 'total_jail_pretrial_rate', 'total_prison_pop_rate', 'female_prison_pop_rate', 'male_prison_pop_rate', 'aapi_prison_pop_rate', 'black_prison_pop_rate', 'latinx_prison_pop_rate', 'native_prison_pop_rate', 'white_prison_pop_rate', 'total_prison_adm_rate', 'female_prison_adm_rate', 'male_prison_adm_rate', 'aapi_prison_adm_rate', 'black_prison_adm_rate', 'latinx_prison_adm_rate', 'native_prison_adm_rate', 'white_prison_adm_rate']\n",
      "153811\n"
     ]
    }
   ],
   "source": [
    "cnty_df = pd.read_csv('/Users/salma/Research/dissertation_work/data/incarceration_vera/incarceration_county_70_18.csv')\n",
    "print(list(cnty_df))\n",
    "print(cnty_df.shape[0])"
   ]
  },
  {
   "cell_type": "code",
   "execution_count": 7,
   "metadata": {},
   "outputs": [
    {
     "name": "stdout",
     "output_type": "stream",
     "text": [
      "['yjid', 'jid', 'fips', 'total_jail_pop', 'female_jail_pop', 'male_jail_pop', 'female_juvenile_jail_pop', 'male_juvenile_jail_pop', 'aapi_jail_pop', 'black_jail_pop', 'latinx_jail_pop', 'native_jail_pop', 'white_jail_pop', 'other_race_jail_pop', 'total_jail_pretrial', 'total_jail_from_prison', 'total_jail_from_other_jail', 'total_jail_from_fed', 'total_jail_from_bia', 'total_jail_from_bop', 'total_jail_from_ice', 'total_jail_from_marshals', 'total_jail_from_other_fed', 'jail_rated_capacity', 'private_jail_flag', 'total_jail_adm', 'total_jail_dis', 'year', 'jurisdiction_name']\n",
      "207074\n"
     ]
    }
   ],
   "source": [
    "jail_df = pd.read_csv('/Users/salma/Research/dissertation_work/data/incarceration_vera/incarceration_jail_70_18.csv')\n",
    "print(list(jail_df))\n",
    "print(jail_df.shape[0])"
   ]
  },
  {
   "cell_type": "markdown",
   "metadata": {},
   "source": [
    "### Get Required Range and Vars"
   ]
  },
  {
   "cell_type": "code",
   "execution_count": 12,
   "metadata": {},
   "outputs": [],
   "source": [
    "incarc_cnty_df_req = cnty_df.query('year > 1989')[['year', 'fips', 'total_jail_pop', 'total_prison_pop']]\n",
    "\n",
    "# split state and county code from fips:  STATEFP\tCNTY\n",
    "incarc_cnty_df_req['state_fips'] = [str(x)[:-3] for x in incarc_cnty_df_req['fips']]\n",
    "incarc_cnty_df_req['county_fips'] = [str(x)[-3:] for x in incarc_cnty_df_req['fips']]\n",
    "\n",
    "incarc_cnty_df_req.to_csv('/Users/salma/Research/dissertation_work/data/incarceration_vera/incarc_cnty_df_vera_90_20_req.csv', index=False)"
   ]
  },
  {
   "cell_type": "code",
   "execution_count": null,
   "metadata": {},
   "outputs": [],
   "source": []
  },
  {
   "cell_type": "code",
   "execution_count": null,
   "metadata": {},
   "outputs": [],
   "source": []
  },
  {
   "cell_type": "code",
   "execution_count": null,
   "metadata": {},
   "outputs": [],
   "source": []
  }
 ],
 "metadata": {
  "kernelspec": {
   "display_name": "us_crime_data_analysis",
   "language": "python",
   "name": "us_crime_data_analysis"
  },
  "language_info": {
   "codemirror_mode": {
    "name": "ipython",
    "version": 3
   },
   "file_extension": ".py",
   "mimetype": "text/x-python",
   "name": "python",
   "nbconvert_exporter": "python",
   "pygments_lexer": "ipython3",
   "version": "3.8.1"
  }
 },
 "nbformat": 4,
 "nbformat_minor": 4
}
