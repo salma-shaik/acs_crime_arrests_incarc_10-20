{
 "cells": [
  {
   "cell_type": "code",
   "execution_count": 2,
   "metadata": {},
   "outputs": [],
   "source": [
    "import pandas as pd\n"
   ]
  },
  {
   "cell_type": "code",
   "execution_count": 3,
   "metadata": {
    "scrolled": true
   },
   "outputs": [
    {
     "name": "stdout",
     "output_type": "stream",
     "text": [
      "['ori', 'ori9', 'agency_name', 'state', 'state_abb', 'year', 'number_of_months_missing', 'last_month_reported', 'arson_number_of_months_missing', 'arson_last_month_reported', 'fips_state_code', 'fips_county_code', 'fips_state_county_code', 'fips_place_code', 'agency_type', 'crosswalk_agency_name', 'census_name', 'longitude', 'latitude', 'address_name', 'address_street_line_1', 'address_street_line_2', 'address_city', 'address_state', 'address_zip_code', 'population_group', 'population_1', 'population_1_county', 'population_2', 'population_2_county', 'population_3', 'population_3_county', 'population', 'country_division', 'juvenile_age', 'core_city_indication', 'fbi_field_office', 'followup_indication', 'zip_code', 'month_included_in', 'covered_by_ori', 'agency_count', 'special_mailing_group', 'special_mailing_address', 'first_line_of_mailing_address', 'second_line_of_mailing_address', 'third_line_of_mailing_address', 'fourth_line_of_mailing_address', 'officers_killed_by_felony', 'officers_killed_by_accident', 'officers_assaulted', 'actual_murder', 'actual_manslaughter', 'actual_rape_total', 'actual_rape_by_force', 'actual_rape_attempted', 'actual_robbery_total', 'actual_robbery_with_a_gun', 'actual_robbery_with_a_knife', 'actual_robbery_other_weapon', 'actual_robbery_unarmed', 'actual_assault_total', 'actual_assault_with_a_gun', 'actual_assault_with_a_knife', 'actual_assault_other_weapon', 'actual_assault_unarmed', 'actual_assault_simple', 'actual_burg_total', 'actual_burg_force_entry', 'actual_burg_nonforce_entry', 'actual_burg_attempted', 'actual_theft_total', 'actual_mtr_veh_theft_total', 'actual_mtr_veh_theft_car', 'actual_mtr_veh_theft_truck', 'actual_mtr_veh_theft_other', 'actual_all_crimes', 'actual_assault_aggravated', 'actual_index_violent', 'actual_index_property', 'actual_index_total', 'actual_arson_single_occupancy', 'actual_arson_other_residential', 'actual_arson_storage', 'actual_arson_industrial', 'actual_arson_other_commercial', 'actual_arson_community_public', 'actual_arson_all_oth_structures', 'actual_arson_total_structures', 'actual_arson_motor_vehicles', 'actual_arson_other_mobile', 'actual_arson_total_mobile', 'actual_arson_all_other', 'actual_arson_grand_total', 'tot_clr_murder', 'tot_clr_manslaughter', 'tot_clr_rape_total', 'tot_clr_rape_by_force', 'tot_clr_rape_attempted', 'tot_clr_robbery_total', 'tot_clr_robbery_with_a_gun', 'tot_clr_robbery_with_a_knife', 'tot_clr_robbery_other_weapon', 'tot_clr_robbery_unarmed', 'tot_clr_assault_total', 'tot_clr_assault_with_a_gun', 'tot_clr_assault_with_a_knife', 'tot_clr_assault_other_weapon', 'tot_clr_assault_unarmed', 'tot_clr_assault_simple', 'tot_clr_burg_total', 'tot_clr_burg_force_entry', 'tot_clr_burg_nonforce_entry', 'tot_clr_burg_attempted', 'tot_clr_theft_total', 'tot_clr_mtr_veh_theft_total', 'tot_clr_mtr_veh_theft_car', 'tot_clr_mtr_veh_theft_truck', 'tot_clr_mtr_veh_theft_other', 'tot_clr_all_crimes', 'tot_clr_assault_aggravated', 'tot_clr_index_violent', 'tot_clr_index_property', 'tot_clr_index_total', 'tot_clr_arson_single_occupancy', 'tot_clr_arson_other_residential', 'tot_clr_arson_storage', 'tot_clr_arson_industrial', 'tot_clr_arson_other_commercial', 'tot_clr_arson_community_public', 'tot_clr_arson_all_oth_structures', 'tot_clr_arson_total_structures', 'tot_clr_arson_motor_vehicles', 'tot_clr_arson_other_mobile', 'tot_clr_arson_total_mobile', 'tot_clr_arson_all_other', 'tot_clr_arson_grand_total', 'clr_18_murder', 'clr_18_manslaughter', 'clr_18_rape_total', 'clr_18_rape_by_force', 'clr_18_rape_attempted', 'clr_18_robbery_total', 'clr_18_robbery_with_a_gun', 'clr_18_robbery_with_a_knife', 'clr_18_robbery_other_weapon', 'clr_18_robbery_unarmed', 'clr_18_assault_total', 'clr_18_assault_with_a_gun', 'clr_18_assault_with_a_knife', 'clr_18_assault_other_weapon', 'clr_18_assault_unarmed', 'clr_18_assault_simple', 'clr_18_burg_total', 'clr_18_burg_force_entry', 'clr_18_burg_nonforce_entry', 'clr_18_burg_attempted', 'clr_18_theft_total', 'clr_18_mtr_veh_theft_total', 'clr_18_mtr_veh_theft_car', 'clr_18_mtr_veh_theft_truck', 'clr_18_mtr_veh_theft_other', 'clr_18_all_crimes', 'clr_18_assault_aggravated', 'clr_18_index_violent', 'clr_18_index_property', 'clr_18_index_total', 'clr_18_arson_single_occupancy', 'clr_18_arson_other_residential', 'clr_18_arson_storage', 'clr_18_arson_industrial', 'clr_18_arson_other_commercial', 'clr_18_arson_community_public', 'clr_18_arson_all_oth_structures', 'clr_18_arson_total_structures', 'clr_18_arson_motor_vehicles', 'clr_18_arson_other_mobile', 'clr_18_arson_total_mobile', 'clr_18_arson_all_other', 'clr_18_arson_grand_total', 'unfound_murder', 'unfound_manslaughter', 'unfound_rape_total', 'unfound_rape_by_force', 'unfound_rape_attempted', 'unfound_robbery_total', 'unfound_robbery_with_a_gun', 'unfound_robbery_with_a_knife', 'unfound_robbery_other_weapon', 'unfound_robbery_unarmed', 'unfound_assault_total', 'unfound_assault_with_a_gun', 'unfound_assault_with_a_knife', 'unfound_assault_other_weapon', 'unfound_assault_unarmed', 'unfound_assault_simple', 'unfound_burg_total', 'unfound_burg_force_entry', 'unfound_burg_nonforce_entry', 'unfound_burg_attempted', 'unfound_theft_total', 'unfound_mtr_veh_theft_total', 'unfound_mtr_veh_theft_car', 'unfound_mtr_veh_theft_truck', 'unfound_mtr_veh_theft_other', 'unfound_all_crimes', 'unfound_assault_aggravated', 'unfound_index_violent', 'unfound_index_property', 'unfound_index_total', 'unfound_arson_single_occupancy', 'unfound_arson_other_residential', 'unfound_arson_storage', 'unfound_arson_industrial', 'unfound_arson_other_commercial', 'unfound_arson_community_public', 'unfound_arson_all_oth_structures', 'unfound_arson_total_structures', 'unfound_arson_motor_vehicles', 'unfound_arson_other_mobile', 'unfound_arson_total_mobile', 'unfound_arson_all_other', 'unfound_arson_grand_total']\n",
      "5810\n"
     ]
    }
   ],
   "source": [
    "crime_df = pd.read_stata('/Users/salma/Research/dissertation_work/data/crime_jkap/ucr_offenses_known_yearly_1960_2020_dta/offenses_known_yearly_1960_2020.dta')\n",
    "print(list(crime_df))\n",
    "## Get the data after 2010 for agencies with pop > 10,000 and reported data for all months\n",
    "crime_df_10_20  = crime_df.query('year > 2009 and population > 10000 and number_of_months_missing == 0')\n",
    "print(crime_df_10_20['ori'].nunique())"
   ]
  },
  {
   "cell_type": "code",
   "execution_count": 5,
   "metadata": {},
   "outputs": [
    {
     "name": "stdout",
     "output_type": "stream",
     "text": [
      "5810\n",
      "58897\n"
     ]
    }
   ],
   "source": [
    "## Get the required columns ##\n",
    "crime_df_10_20_req = crime_df_10_20.loc[:, ['ori', 'agency_name', 'state', 'year', 'fips_state_code', 'longitude', 'latitude',\n",
    "                                            'fips_county_code', 'fips_place_code', 'population', 'actual_murder', \n",
    "                                            'actual_manslaughter', 'actual_rape_total', 'actual_robbery_total',\n",
    "                                            'actual_assault_simple', 'actual_burg_total', 'actual_theft_total',\n",
    "                                            'actual_mtr_veh_theft_total', \n",
    "                                            'actual_assault_aggravated', 'actual_arson_grand_total']]\n",
    "\n",
    "## Create new columns ##\n",
    "crime_df_10_20_req['murder'] = crime_df_10_20_req['actual_murder'] + crime_df_10_20_req['actual_manslaughter']\n",
    "\n",
    "crime_df_10_20_req.drop(['actual_murder', 'actual_manslaughter'], axis=1, inplace=True)\n",
    "\n",
    "crime_df_10_20_req.rename({'ori': 'ORI','fips_state_code': 'state_fips',\n",
    "                          'fips_county_code': 'county_fips', 'fips_place_code': 'place_fips', \n",
    "                          'actual_rape_total': 'rape', 'actual_robbery_total': 'robbery', \n",
    "                          'actual_assault_simple': 'simple_assault', 'actual_burg_total': 'burglary',\n",
    "                          'actual_theft_total': 'larceny',\n",
    "                          'actual_mtr_veh_theft_total': 'motor_vehicle_theft', 'actual_assault_aggravated': 'agg_assault',\n",
    "                          'actual_arson_grand_total': 'arson'\n",
    "                          }, axis=1, inplace=True)\n",
    "\n",
    "num = crime_df_10_20_req._get_numeric_data()\n",
    "\n",
    "num[num < 0] = 0\n",
    "\n",
    "crime_df_10_20_req.fillna(0, inplace=True)\n",
    "\n",
    "print(crime_df_10_20_req['ORI'].nunique())\n",
    "\n",
    "print(crime_df_10_20_req.shape[0])"
   ]
  },
  {
   "cell_type": "code",
   "execution_count": 95,
   "metadata": {},
   "outputs": [],
   "source": [
    "crime_df_10_20_req.to_csv('/Users/salma/Research/dissertation_work/data/crime_jkap/crime_10_20_req.csv', index=False)"
   ]
  },
  {
   "cell_type": "markdown",
   "metadata": {},
   "source": [
    "### Getting the ORIs which have data for all years from 2016 - 2020 ##"
   ]
  },
  {
   "cell_type": "code",
   "execution_count": 6,
   "metadata": {},
   "outputs": [
    {
     "name": "stdout",
     "output_type": "stream",
     "text": [
      "4448\n",
      "48928\n"
     ]
    }
   ],
   "source": [
    "years = [2010, 2011, 2012, 2013, 2014, 2015, 2016, 2017, 2018, 2019, 2020]\n",
    "all_rptd_oris = []\n",
    "\n",
    "for ori in crime_df_10_20_req['ORI'].unique():\n",
    "    ori_years = crime_df_10_20_req.query(f'ORI == \"{ori}\"')['year'].tolist()\n",
    "    ori_years.sort()\n",
    "    \n",
    "    if ori_years == years:\n",
    "        all_rptd_oris.append(ori)\n",
    "        \n",
    "## Now get only those records for ORIs which are in all_rptd_oris ##\n",
    "crime_df_10_20_req_all_rept_oris = crime_df_10_20_req.loc[crime_df_10_20_req['ORI'].isin(all_rptd_oris)]\n",
    "\n",
    "print(crime_df_10_20_req_all_rept_oris['ORI'].nunique())\n",
    "print(crime_df_10_20_req_all_rept_oris.shape[0])\n",
    "\n",
    "crime_df_10_20_req_all_rept_oris.to_csv('/Users/salma/Research/dissertation_work/data/crime_jkap/crime_10_20_req_all_rept_oris.csv',\n",
    "                                       index = False)"
   ]
  },
  {
   "cell_type": "markdown",
   "metadata": {},
   "source": [
    "### Does each ORI have multiple fips under it? Multiple states under each ORI unlikely but may be multiple counties or places?"
   ]
  },
  {
   "cell_type": "code",
   "execution_count": null,
   "metadata": {},
   "outputs": [],
   "source": [
    "### Let's check with the crime_df_10_20_req_all_rept_oris df\n",
    "print(list(crime_df_10_20_req_all_rept_oris))"
   ]
  },
  {
   "cell_type": "code",
   "execution_count": null,
   "metadata": {},
   "outputs": [],
   "source": [
    "test_df_1ori = crime_df_10_20_req_all_rept_oris.query('ORI == \"AK00101\"')[['AGENCY', 'state', 'YEAR', 'STATEFP', 'CNTY', 'place_fips', 'longitude', 'latitude', 'population']]\n",
    "test_df_1ori\n",
    "\n",
    "### Each ORI has corresponding FIPS – so assigning the corresponding all values to that ORI"
   ]
  },
  {
   "cell_type": "code",
   "execution_count": null,
   "metadata": {},
   "outputs": [],
   "source": []
  },
  {
   "cell_type": "code",
   "execution_count": null,
   "metadata": {},
   "outputs": [],
   "source": []
  },
  {
   "cell_type": "code",
   "execution_count": null,
   "metadata": {},
   "outputs": [],
   "source": []
  },
  {
   "cell_type": "code",
   "execution_count": null,
   "metadata": {},
   "outputs": [],
   "source": []
  },
  {
   "cell_type": "code",
   "execution_count": null,
   "metadata": {},
   "outputs": [],
   "source": []
  },
  {
   "cell_type": "code",
   "execution_count": null,
   "metadata": {},
   "outputs": [],
   "source": []
  },
  {
   "cell_type": "code",
   "execution_count": null,
   "metadata": {},
   "outputs": [],
   "source": []
  },
  {
   "cell_type": "code",
   "execution_count": null,
   "metadata": {},
   "outputs": [],
   "source": []
  },
  {
   "cell_type": "code",
   "execution_count": null,
   "metadata": {},
   "outputs": [],
   "source": []
  },
  {
   "cell_type": "code",
   "execution_count": null,
   "metadata": {},
   "outputs": [],
   "source": []
  },
  {
   "cell_type": "code",
   "execution_count": null,
   "metadata": {},
   "outputs": [],
   "source": []
  }
 ],
 "metadata": {
  "kernelspec": {
   "display_name": "us_crime_data_analysis",
   "language": "python",
   "name": "us_crime_data_analysis"
  },
  "language_info": {
   "codemirror_mode": {
    "name": "ipython",
    "version": 3
   },
   "file_extension": ".py",
   "mimetype": "text/x-python",
   "name": "python",
   "nbconvert_exporter": "python",
   "pygments_lexer": "ipython3",
   "version": "3.8.1"
  }
 },
 "nbformat": 4,
 "nbformat_minor": 4
}
