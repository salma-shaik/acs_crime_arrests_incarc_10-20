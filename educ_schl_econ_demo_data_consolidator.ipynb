{
 "cells": [
  {
   "cell_type": "code",
   "execution_count": 154,
   "metadata": {},
   "outputs": [],
   "source": [
    "import pandas as pd\n",
    "import os"
   ]
  },
  {
   "cell_type": "code",
   "execution_count": 155,
   "metadata": {},
   "outputs": [],
   "source": [
    "def read_create_yr_combine_files(ip_dir_path, gtype, op_dir_path, op_fl_nme, cols_list, fl_yr_idx):\n",
    "    os.chdir(ip_dir_path)\n",
    "    final_df = pd.DataFrame(columns=cols_list)\n",
    "    for fl in os.listdir():\n",
    "        if fl != '.DS_Store':\n",
    "            fl_df = pd.read_csv(f'{ip_dir_path}/{fl}')\n",
    "            \n",
    "            # year = fl.split('_')[4] --> for educ, schl\n",
    "            year = fl.split('_')[fl_yr_idx]\n",
    "            \n",
    "            ## getting year.csv so splitting again\n",
    "            js_year = year.split('.')[0]\n",
    "            fl_df['year'] = js_year\n",
    "            \n",
    "            final_df = final_df.append(fl_df)\n",
    "            \n",
    "    final_df.to_csv(f'{op_dir_path}/{op_fl_nme}_{gtype}.csv', index=False)"
   ]
  },
  {
   "cell_type": "markdown",
   "metadata": {},
   "source": [
    "### EDUC, SCHL DATA"
   ]
  },
  {
   "cell_type": "markdown",
   "metadata": {},
   "source": [
    "### Consolidate by gtype"
   ]
  },
  {
   "cell_type": "code",
   "execution_count": 156,
   "metadata": {},
   "outputs": [],
   "source": [
    "## county_subd files\n",
    "read_create_yr_combine_files(ip_dir_path = '/Users/salma/Research/dissertation_work/data/educ_schl_acs/c_subd',\n",
    "                      gtype = 'csubd',\n",
    "                      fl_yr_idx = 4,\n",
    "                      op_fl_nme = 'educ_schl_acs_10_20',\n",
    "                      op_dir_path = '/Users/salma/Research/dissertation_work/data/educ_schl_acs/all',\n",
    "                      cols_list = ['NAME', 'B14001_002E', 'B14001_006E', 'B14001_007E', 'B14001_008E', \n",
    "                               'B14001_009E', 'B14002_003E', 'B14002_013E', 'B14002_016E', 'B14002_019E', \n",
    "                               'B14002_022E', 'B14002_027E', 'B14002_037E', 'B14002_040E', 'B14002_043E', \n",
    "                               'B14002_046E', 'B15001_001E', 'B15001_002E', 'B15001_003E', 'B15001_011E', \n",
    "                               'B15001_043E', 'B15001_044E', 'B15001_052E', 'B15002_001E', 'B15002_002E', \n",
    "                               'B15002_019E', 'C15002A_001E', 'C15002A_002E', 'C15002A_007E', 'C15002B_001E', \n",
    "                               'C15002B_002E', 'C15002B_007E', 'C15002H_001E', 'C15002H_002E', 'C15002H_007E',\n",
    "                               'C15002I_001E', 'C15002I_002E', 'C15002I_007E', \n",
    "                               'state', 'county', 'county subdivision', 'year'])"
   ]
  },
  {
   "cell_type": "code",
   "execution_count": 157,
   "metadata": {},
   "outputs": [],
   "source": [
    "## county files\n",
    "read_create_yr_combine_files(ip_dir_path = '/Users/salma/Research/dissertation_work/data/educ_schl_acs/cnty',\n",
    "                      gtype = 'county',\n",
    "                      fl_yr_idx = 4,\n",
    "                      op_fl_nme = 'educ_schl_acs_10_20',\n",
    "                      op_dir_path = '/Users/salma/Research/dissertation_work/data/educ_schl_acs/all',\n",
    "                      cols_list = ['NAME', 'B14001_002E', 'B14001_006E', 'B14001_007E', 'B14001_008E', \n",
    "                                   'B14001_009E', 'B14002_003E', 'B14002_013E', 'B14002_016E', 'B14002_019E', \n",
    "                                   'B14002_022E', 'B14002_027E', 'B14002_037E', 'B14002_040E', 'B14002_043E', \n",
    "                                   'B14002_046E', 'B15001_001E', 'B15001_002E', 'B15001_003E', 'B15001_011E', \n",
    "                                   'B15001_043E', 'B15001_044E', 'B15001_052E', 'B15002_001E', 'B15002_002E', \n",
    "                                   'B15002_019E', 'C15002A_001E', 'C15002A_002E', 'C15002A_007E', 'C15002B_001E', \n",
    "                                   'C15002B_002E', 'C15002B_007E', 'C15002H_001E', 'C15002H_002E', 'C15002H_007E',\n",
    "                                   'C15002I_001E', 'C15002I_002E', 'C15002I_007E', \n",
    "                                   'state', 'county', 'year'])"
   ]
  },
  {
   "cell_type": "code",
   "execution_count": 158,
   "metadata": {},
   "outputs": [],
   "source": [
    "## place files\n",
    "read_create_yr_combine_files(ip_dir_path = '/Users/salma/Research/dissertation_work/data/educ_schl_acs/place',\n",
    "                      gtype = 'place',\n",
    "                      fl_yr_idx = 4,\n",
    "                      op_fl_nme = 'educ_schl_acs_10_20',\n",
    "                      op_dir_path = '/Users/salma/Research/dissertation_work/data/educ_schl_acs/all',\n",
    "                      cols_list = ['NAME', 'B14001_002E', 'B14001_006E', 'B14001_007E', 'B14001_008E', \n",
    "                                   'B14001_009E', 'B14002_003E', 'B14002_013E', 'B14002_016E', 'B14002_019E', \n",
    "                                   'B14002_022E', 'B14002_027E', 'B14002_037E', 'B14002_040E', 'B14002_043E', \n",
    "                                   'B14002_046E', 'B15001_001E', 'B15001_002E', 'B15001_003E', 'B15001_011E', \n",
    "                                   'B15001_043E', 'B15001_044E', 'B15001_052E', 'B15002_001E', 'B15002_002E', \n",
    "                                   'B15002_019E', 'C15002A_001E', 'C15002A_002E', 'C15002A_007E', 'C15002B_001E', \n",
    "                                   'C15002B_002E', 'C15002B_007E', 'C15002H_001E', 'C15002H_002E', 'C15002H_007E',\n",
    "                                   'C15002I_001E', 'C15002I_002E', 'C15002I_007E', \n",
    "                                   'state', 'place', 'year'])"
   ]
  },
  {
   "cell_type": "markdown",
   "metadata": {},
   "source": [
    "### Create FIPS columns for county file"
   ]
  },
  {
   "cell_type": "code",
   "execution_count": 159,
   "metadata": {},
   "outputs": [],
   "source": [
    "# utility function to update fips column values as per the required length\n",
    "def update_fips_code_len(fips_code, fp_type):\n",
    "    \n",
    "    # placeholder to assign required code length based on whether it is a city, county or state fips code.\n",
    "    # For now cnty and placefips ar of reqd len coz considered as strings. but can have below code for future use\n",
    "    \n",
    "    req_code_len = 0  \n",
    "\n",
    "    fp_code_len = fips_code.__len__()\n",
    "\n",
    "    if fp_type == 'city':\n",
    "        req_code_len = 5\n",
    "    elif fp_type == 'county':\n",
    "        req_code_len = 3\n",
    "    elif fp_type == 'state':\n",
    "        req_code_len = 2\n",
    "\n",
    "    if fp_code_len < req_code_len:\n",
    "        while fips_code.__len__() < req_code_len:\n",
    "            fips_code = '0'*(req_code_len-fp_code_len) + fips_code\n",
    "            return fips_code\n",
    "    else:\n",
    "        return fips_code\n"
   ]
  },
  {
   "cell_type": "markdown",
   "metadata": {},
   "source": [
    "#### County file"
   ]
  },
  {
   "cell_type": "code",
   "execution_count": 160,
   "metadata": {},
   "outputs": [
    {
     "name": "stdout",
     "output_type": "stream",
     "text": [
      "cnty_df:  34589\n"
     ]
    }
   ],
   "source": [
    "cnty_df = pd.read_csv('/Users/salma/Research/dissertation_work/data/educ_schl_acs/all/educ_schl_acs_10_20_county.csv')\n",
    "\n",
    "## county subdivision column in place fips. For now, we wil just create place fips and place under it.\n",
    "## Later after everything is appended, we will rename at once\n",
    "\n",
    "cnty_df['county'] = cnty_df['county'].astype(str).apply(update_fips_code_len, args=('county',))\n",
    "cnty_df['county subdivision'] = '99' + cnty_df['county']\n",
    "cnty_df.rename({'county subdivision': 'place_fips'}, axis=1, inplace=True)\n",
    "print('cnty_df: ', cnty_df.shape[0])"
   ]
  },
  {
   "cell_type": "markdown",
   "metadata": {},
   "source": [
    "### Append all three"
   ]
  },
  {
   "cell_type": "code",
   "execution_count": 161,
   "metadata": {},
   "outputs": [
    {
     "name": "stdout",
     "output_type": "stream",
     "text": [
      "csubd_df:  405263\n",
      "place_df:  321995\n"
     ]
    }
   ],
   "source": [
    "## Read csubd and place ##\n",
    "csubd_df = pd.read_csv('/Users/salma/Research/dissertation_work/data/educ_schl_acs/all/educ_schl_acs_10_20_csubd.csv')\n",
    "csubd_df.rename({'county subdivision': 'place_fips'}, axis=1, inplace=True)\n",
    "print('csubd_df: ', csubd_df.shape[0])\n",
    "\n",
    "place_df = pd.read_csv('/Users/salma/Research/dissertation_work/data/educ_schl_acs/all/educ_schl_acs_10_20_place.csv')\n",
    "#place_df.drop(['county subdivision'], axis=1, inplace=True)\n",
    "place_df.rename({'place': 'place_fips'}, axis=1, inplace=True)\n",
    "print('place_df: ', place_df.shape[0])"
   ]
  },
  {
   "cell_type": "code",
   "execution_count": 162,
   "metadata": {},
   "outputs": [
    {
     "name": "stdout",
     "output_type": "stream",
     "text": [
      "educ_schl_acs_10_20:  761847\n",
      "['NAME', 'B14001_002E', 'B14001_006E', 'B14001_007E', 'B14001_008E', 'B14001_009E', 'B14002_003E', 'B14002_013E', 'B14002_016E', 'B14002_019E', 'B14002_022E', 'B14002_027E', 'B14002_037E', 'B14002_040E', 'B14002_043E', 'B14002_046E', 'B15001_001E', 'B15001_002E', 'B15001_003E', 'B15001_011E', 'B15001_043E', 'B15001_044E', 'B15001_052E', 'B15002_001E', 'B15002_002E', 'B15002_019E', 'C15002A_001E', 'C15002A_002E', 'C15002A_007E', 'C15002B_001E', 'C15002B_002E', 'C15002B_007E', 'C15002H_001E', 'C15002H_002E', 'C15002H_007E', 'C15002I_001E', 'C15002I_002E', 'C15002I_007E', 'state', 'county', 'year', 'place_fips']\n"
     ]
    }
   ],
   "source": [
    "## Append ##\n",
    "educ_schl_acs_10_20 = pd.concat([cnty_df, csubd_df, place_df], sort=False, ignore_index=True)\n",
    "\n",
    "print('educ_schl_acs_10_20: ', educ_schl_acs_10_20.shape[0])\n",
    "print(list(educ_schl_acs_10_20))"
   ]
  },
  {
   "cell_type": "markdown",
   "metadata": {},
   "source": [
    "### Rename Columns"
   ]
  },
  {
   "cell_type": "code",
   "execution_count": 163,
   "metadata": {},
   "outputs": [],
   "source": [
    "### Rename ###\n",
    "educ_schl_acs_10_20.rename({'B14001_002E':'schl_enrl_tot',\n",
    "                            'B14001_006E':'schl_enrl_grades_5_8',\n",
    "                            'B14001_007E':'schl_enrl_grades_9_12',\n",
    "                            'B14001_008E':'schl_enrl_ugrad',\n",
    "                            'B14001_009E':'schl_enrl_grad',\n",
    "                            'B14002_003E':'schl_enrl_m',\n",
    "                            'B14002_013E':'schl_enrl_grades_m_5_8',\n",
    "                            'B14002_016E':'schl_enrl_grades_m_9_12',\n",
    "                            'B14002_019E':'schl_enrl_m_ugrad',\n",
    "                            'B14002_022E':'schl_enrl_m_grad',\n",
    "                            'B14002_027E':'schl_enrl_f',\n",
    "                            'B14002_037E':'schl_enrl_grades_f_5_8',\n",
    "                            'B14002_040E':'schl_enrl_grades_f_9_12',\n",
    "                            'B14002_043E':'schl_enrl_f_ugrad',\n",
    "                            'B14002_046E':'schl_enrl_f_grad',\n",
    "                            'B15001_001E':'educ_atnmnt_18ao',\n",
    "                            'B15001_002E':'educ_atnmnt_18ao_m',\n",
    "                            'B15001_003E':'educ_atnmnt_18_24_m',\n",
    "                            'B15001_011E':'educ_atnmnt_25_34_m',\n",
    "                            'B15001_043E':'educ_atnmnt_18ao_f',\n",
    "                            'B15001_044E':'educ_atnmnt_18_24_f',\n",
    "                            'B15001_052E':'educ_atnmnt_25_34_f',\n",
    "                            'B15002_001E':'educ_atnmnt_25ao',\n",
    "                            'B15002_002E':'educ_atnmnt_25ao_m',\n",
    "                            'B15002_019E':'educ_atnmnt_25ao_f',\n",
    "                            'C15002B_001E':'educ_atnmnt_25ao_b',\n",
    "                            'C15002B_002E':'educ_atnmnt_25ao_b_m',\n",
    "                            'C15002B_007E':'educ_atnmnt_25ao_b_f',\n",
    "                            'C15002H_001E':'educ_atnmnt_25ao_w',\n",
    "                            'C15002H_002E':'educ_atnmnt25ao_w_m',\n",
    "                            'C15002H_007E':'educ_atnmnt_25ao_w_f',\n",
    "                            'C15002I_001E':'educ_atnmnt_25ao_h',\n",
    "                            'C15002I_002E':'educ_atnmnt_25ao_h_m',\n",
    "                            'C15002I_007E':'educ_atnmnt_25ao_h_f',\n",
    "                            'NAME': 'place_name',\n",
    "                            'state': 'state_fips',\n",
    "                            'county': 'county_fips'}, axis=1, inplace=True)\n",
    "\n",
    "educ_schl_acs_10_20.drop(['C15002A_001E','C15002A_002E','C15002A_007E'], axis=1, inplace=True)\n",
    "\n",
    "## column names appended with each new call since file was opened in append mode in data retriever.\n",
    "## dropping all instances of the column header\n",
    "\n",
    "#Using drop() to delete rows based on column value\n",
    "#df.drop(df[df['Fee'] >= 24000].index, inplace = True)\n",
    "\n",
    "educ_schl_acs_10_20 = educ_schl_acs_10_20.query('place_name != \"NAME\"')\n",
    "\n",
    "educ_schl_acs_10_20.to_csv('/Users/salma/Research/dissertation_work/data/educ_schl_acs/educ_schl_acs_10_20.csv', index=False)"
   ]
  },
  {
   "cell_type": "code",
   "execution_count": 164,
   "metadata": {},
   "outputs": [
    {
     "name": "stdout",
     "output_type": "stream",
     "text": [
      "741138\n"
     ]
    }
   ],
   "source": [
    "print(educ_schl_acs_10_20.shape[0])"
   ]
  },
  {
   "cell_type": "markdown",
   "metadata": {},
   "source": [
    "### ECON DATA"
   ]
  },
  {
   "cell_type": "markdown",
   "metadata": {},
   "source": [
    "### Consolidate by gtype"
   ]
  },
  {
   "cell_type": "code",
   "execution_count": 165,
   "metadata": {},
   "outputs": [],
   "source": [
    "## county_subd files\n",
    "read_create_yr_combine_files(ip_dir_path = '/Users/salma/Research/dissertation_work/data/economic/c_subd',\n",
    "                             gtype = 'csubd',\n",
    "                             fl_yr_idx = 3,\n",
    "                             op_dir_path = '/Users/salma/Research/dissertation_work/data/economic/all',\n",
    "                             op_fl_nme = 'econ_acs_10_20',\n",
    "                             cols_list = ['NAME', 'B23001_001E', 'B23001_002E', 'B23001_088E', 'C23002B_001E', \n",
    "                                   'C23002B_002E', 'C23002B_015E', 'C23002H_001E', 'C23002H_002E', 'C23002H_015E',\n",
    "                                   'C23002I_001E', 'C23002I_002E', 'C23002I_015E', 'B19301_001E', 'B19301B_001E',\n",
    "                                   'B19301H_001E', 'B19301I_001E', 'state', 'county', 'county subdivision'])"
   ]
  },
  {
   "cell_type": "code",
   "execution_count": 166,
   "metadata": {},
   "outputs": [],
   "source": [
    "## county files\n",
    "read_create_yr_combine_files(ip_dir_path = '/Users/salma/Research/dissertation_work/data/economic/cnty',\n",
    "                      gtype = 'county',\n",
    "                      fl_yr_idx = 2,\n",
    "                      op_dir_path = '/Users/salma/Research/dissertation_work/data/economic/all',\n",
    "                      op_fl_nme = 'econ_acs_10_20',                  \n",
    "                      cols_list = ['NAME', 'B23001_001E', 'B23001_002E', 'B23001_088E', 'C23002B_001E', \n",
    "                                   'C23002B_002E', 'C23002B_015E', 'C23002H_001E', 'C23002H_002E', 'C23002H_015E',\n",
    "                                   'C23002I_001E', 'C23002I_002E', 'C23002I_015E', 'B19301_001E', 'B19301B_001E',\n",
    "                                   'B19301H_001E', 'B19301I_001E', 'state', 'county'])"
   ]
  },
  {
   "cell_type": "code",
   "execution_count": 167,
   "metadata": {},
   "outputs": [],
   "source": [
    "## place files\n",
    "read_create_yr_combine_files(ip_dir_path = '/Users/salma/Research/dissertation_work/data/economic/place',\n",
    "                      gtype = 'place',\n",
    "                      fl_yr_idx = 3,\n",
    "                      op_dir_path = '/Users/salma/Research/dissertation_work/data/economic/all',\n",
    "                      op_fl_nme = 'econ_acs_10_20',\n",
    "                      cols_list = ['NAME', 'B23001_001E', 'B23001_002E', 'B23001_088E', 'C23002B_001E', \n",
    "                           'C23002B_002E', 'C23002B_015E', 'C23002H_001E', 'C23002H_002E', 'C23002H_015E',\n",
    "                           'C23002I_001E', 'C23002I_002E', 'C23002I_015E', 'B19301_001E', 'B19301B_001E',\n",
    "                           'B19301H_001E', 'B19301I_001E', 'state', 'place'])"
   ]
  },
  {
   "cell_type": "markdown",
   "metadata": {},
   "source": [
    "### Create FIPS columns for county and csubd files"
   ]
  },
  {
   "cell_type": "markdown",
   "metadata": {},
   "source": [
    "#### COUNTY"
   ]
  },
  {
   "cell_type": "code",
   "execution_count": 184,
   "metadata": {},
   "outputs": [
    {
     "name": "stdout",
     "output_type": "stream",
     "text": [
      "34567\n",
      "['NAME', 'B23001_001E', 'B23001_002E', 'B23001_088E', 'C23002B_001E', 'C23002B_002E', 'C23002B_015E', 'C23002H_001E', 'C23002H_002E', 'C23002H_015E', 'C23002I_001E', 'C23002I_002E', 'C23002I_015E', 'B19301_001E', 'B19301B_001E', 'B19301H_001E', 'B19301I_001E', 'state', 'county', 'year', 'place_fips']\n"
     ]
    }
   ],
   "source": [
    "cnty_df = pd.read_csv('/Users/salma/Research/dissertation_work/data/economic/all/econ_acs_10_20_county.csv')\n",
    "\n",
    "## county subdivision column in place fips. For now, we wil just create place fips and place under it.\n",
    "## Later after everything is appended, we will rename at once\n",
    "\n",
    "cnty_df['county'] = cnty_df['county'].astype(str).apply(update_fips_code_len, args=('county',))\n",
    "cnty_df['county subdivision'] = '99' + cnty_df['county']\n",
    "cnty_df.rename({'county subdivision': 'place_fips'}, axis=1, inplace=True)\n",
    "print(cnty_df.shape[0])\n",
    "print(list(cnty_df))"
   ]
  },
  {
   "cell_type": "markdown",
   "metadata": {},
   "source": [
    "#### C_SUBD"
   ]
  },
  {
   "cell_type": "code",
   "execution_count": 186,
   "metadata": {},
   "outputs": [
    {
     "name": "stdout",
     "output_type": "stream",
     "text": [
      "392567\n",
      "['NAME', 'B23001_001E', 'B23001_002E', 'B23001_088E', 'C23002B_001E', 'C23002B_002E', 'C23002B_015E', 'C23002H_001E', 'C23002H_002E', 'C23002H_015E', 'C23002I_001E', 'C23002I_002E', 'C23002I_015E', 'B19301_001E', 'B19301B_001E', 'B19301H_001E', 'B19301I_001E', 'state', 'county', 'place_fips', 'year']\n"
     ]
    }
   ],
   "source": [
    "csubd_df = pd.read_csv('/Users/salma/Research/dissertation_work/data/economic/all/econ_acs_10_20_csubd.csv')\n",
    "csubd_df.rename({'county subdivision': 'place_fips'}, axis=1, inplace=True)\n",
    "print(csubd_df.shape[0])\n",
    "print(list(csubd_df))"
   ]
  },
  {
   "cell_type": "markdown",
   "metadata": {},
   "source": [
    "#### PLACE"
   ]
  },
  {
   "cell_type": "code",
   "execution_count": 185,
   "metadata": {},
   "outputs": [
    {
     "name": "stdout",
     "output_type": "stream",
     "text": [
      "324554\n",
      "['NAME', 'B23001_001E', 'B23001_002E', 'B23001_088E', 'C23002B_001E', 'C23002B_002E', 'C23002B_015E', 'C23002H_001E', 'C23002H_002E', 'C23002H_015E', 'C23002I_001E', 'C23002I_002E', 'C23002I_015E', 'B19301_001E', 'B19301B_001E', 'B19301H_001E', 'B19301I_001E', 'state', 'place_fips', 'year']\n"
     ]
    }
   ],
   "source": [
    "place_df = pd.read_csv('/Users/salma/Research/dissertation_work/data/economic/all/econ_acs_10_20_place.csv')\n",
    "# place_df.drop(['county subdivision'], axis=1, inplace=True) not found\n",
    "place_df.rename({'place': 'place_fips'}, axis=1, inplace=True)\n",
    "print(place_df.shape[0])\n",
    "print(list(place_df))"
   ]
  },
  {
   "cell_type": "code",
   "execution_count": null,
   "metadata": {},
   "outputs": [],
   "source": []
  },
  {
   "cell_type": "markdown",
   "metadata": {},
   "source": [
    "### Append all three"
   ]
  },
  {
   "cell_type": "code",
   "execution_count": 187,
   "metadata": {},
   "outputs": [
    {
     "name": "stdout",
     "output_type": "stream",
     "text": [
      "751688\n",
      "['NAME', 'B23001_001E', 'B23001_002E', 'B23001_088E', 'C23002B_001E', 'C23002B_002E', 'C23002B_015E', 'C23002H_001E', 'C23002H_002E', 'C23002H_015E', 'C23002I_001E', 'C23002I_002E', 'C23002I_015E', 'B19301_001E', 'B19301B_001E', 'B19301H_001E', 'B19301I_001E', 'state', 'county', 'year', 'place_fips']\n"
     ]
    }
   ],
   "source": [
    "econ_acs_10_20 = pd.concat([cnty_df, csubd_df, place_df], sort=False, ignore_index=True)\n",
    "print(econ_acs_10_20.shape[0])\n",
    "print(list(econ_acs_10_20))"
   ]
  },
  {
   "cell_type": "markdown",
   "metadata": {},
   "source": [
    "### Rename Columns"
   ]
  },
  {
   "cell_type": "code",
   "execution_count": 189,
   "metadata": {},
   "outputs": [
    {
     "name": "stdout",
     "output_type": "stream",
     "text": [
      "751688\n"
     ]
    }
   ],
   "source": [
    "econ_acs_10_20.rename({'NAME': 'place_name',\n",
    "                       'state': 'state_fips',\n",
    "                       'county': 'county_fips',\n",
    "                        'B19301_001E': 'pci',\n",
    "                        'B19301B_001E': 'pci_black',\n",
    "                        'B19301H_001E': 'pci_white',\n",
    "\n",
    "                        'B23001_001E': 'emp_total',\n",
    "                        'B23001_002E': 'emp_total_male',\n",
    "                        'B23001_088E': 'emp_total_female',\n",
    "                       \n",
    "                        'C23002B_001E': 'emp_total_black',\n",
    "                       'C23002B_002E': 'emp_total_male_black',\n",
    "                       'C23002B_015E': 'emp_total_female_black',\n",
    "                       'C23002H_001E': 'emp_total_white',\n",
    "                       'C23002H_002E': 'emp_total_male_white',\n",
    "                       'C23002H_015E': 'emp_total_female_white'\n",
    "                      }, axis=1, inplace=True)\n",
    "\n",
    "econ_acs_10_20.drop(['B19301I_001E', 'C23002I_001E', 'C23002I_002E', 'C23002I_015E'], axis=1, inplace=True)\n",
    "econ_acs_10_20 = econ_acs_10_20.query('place_name != \"NAME\"')\n",
    "\n",
    "print(econ_acs_10_20.shape[0])\n",
    "econ_acs_10_20.to_csv('/Users/salma/Research/dissertation_work/data/economic/econ_acs_10_20.csv', index=False)"
   ]
  },
  {
   "cell_type": "code",
   "execution_count": null,
   "metadata": {},
   "outputs": [],
   "source": []
  },
  {
   "cell_type": "markdown",
   "metadata": {},
   "source": [
    "### DEMO DATA"
   ]
  },
  {
   "cell_type": "markdown",
   "metadata": {},
   "source": [
    "### Consolidate by gtype"
   ]
  },
  {
   "cell_type": "code",
   "execution_count": 173,
   "metadata": {},
   "outputs": [],
   "source": [
    "## county_subd files\n",
    "read_create_yr_combine_files(ip_dir_path = '/Users/salma/Research/dissertation_work/data/demo/c_subd',\n",
    "                             gtype = 'csubd',\n",
    "                             fl_yr_idx = 3,\n",
    "                             op_dir_path = '/Users/salma/Research/dissertation_work/data/demo/all',\n",
    "                             op_fl_nme = 'demo_acs_10_20',\n",
    "                             cols_list = ['NAME','B01001_001E','B01001_002E','B01001_004E','B01001_005E',\n",
    "                                          'B01001_006E','B01001_007E','B01001_008E','B01001_009E','B01001_010E',\n",
    "                                          'B01001_026E','B01001_030E','B01001_031E','B01001_032E','B01001_033E',\n",
    "                                          'B01001_034E','B01001B_001E','B01001B_002E','B01001B_006E','B01001B_007E',\n",
    "                                          'B01001B_008E','B01001B_017E','B01001B_021E','B01001B_022E','B01001B_023E',\n",
    "                                          'B01001H_001E','B01001H_002E','B01001H_006E','B01001H_007E','B01001H_008E',\n",
    "                                          'B01001H_017E','B01001H_021E','B01001H_022E','B01001H_023E','B01001I_001E',\n",
    "                                          'B01001I_002E','B01001I_006E','B01001I_007E','B01001I_008E','B01001I_017E',\n",
    "                                          'B01001I_021E','B01001I_022E','B01001I_023E','state', 'county', \n",
    "                                          'county subdivision'])\n",
    "\n",
    "## county files\n",
    "read_create_yr_combine_files(ip_dir_path = '/Users/salma/Research/dissertation_work/data/demo/county',\n",
    "                      gtype = 'county',\n",
    "                      fl_yr_idx = 3,\n",
    "                      op_dir_path = '/Users/salma/Research/dissertation_work/data/demo/all',\n",
    "                      op_fl_nme = 'demo_acs_10_20',                  \n",
    "                      cols_list = ['NAME','B01001_001E','B01001_002E','B01001_004E','B01001_005E',\n",
    "                                          'B01001_006E','B01001_007E','B01001_008E','B01001_009E','B01001_010E',\n",
    "                                          'B01001_026E','B01001_030E','B01001_031E','B01001_032E','B01001_033E',\n",
    "                                          'B01001_034E','B01001B_001E','B01001B_002E','B01001B_006E','B01001B_007E',\n",
    "                                          'B01001B_008E','B01001B_017E','B01001B_021E','B01001B_022E','B01001B_023E',\n",
    "                                          'B01001H_001E','B01001H_002E','B01001H_006E','B01001H_007E','B01001H_008E',\n",
    "                                          'B01001H_017E','B01001H_021E','B01001H_022E','B01001H_023E','B01001I_001E',\n",
    "                                          'B01001I_002E','B01001I_006E','B01001I_007E','B01001I_008E','B01001I_017E',\n",
    "                                          'B01001I_021E','B01001I_022E','B01001I_023E','state', 'county'])\n",
    "\n",
    "## place files\n",
    "read_create_yr_combine_files(ip_dir_path = '/Users/salma/Research/dissertation_work/data/demo/place',\n",
    "                      gtype = 'place',\n",
    "                      fl_yr_idx = 3,\n",
    "                      op_dir_path = '/Users/salma/Research/dissertation_work/data/demo/all',\n",
    "                      op_fl_nme = 'demo_acs_10_20',\n",
    "                      cols_list = ['NAME','B01001_001E','B01001_002E','B01001_004E','B01001_005E',\n",
    "                                          'B01001_006E','B01001_007E','B01001_008E','B01001_009E','B01001_010E',\n",
    "                                          'B01001_026E','B01001_030E','B01001_031E','B01001_032E','B01001_033E',\n",
    "                                          'B01001_034E','B01001B_001E','B01001B_002E','B01001B_006E','B01001B_007E',\n",
    "                                          'B01001B_008E','B01001B_017E','B01001B_021E','B01001B_022E','B01001B_023E',\n",
    "                                          'B01001H_001E','B01001H_002E','B01001H_006E','B01001H_007E','B01001H_008E',\n",
    "                                          'B01001H_017E','B01001H_021E','B01001H_022E','B01001H_023E','B01001I_001E',\n",
    "                                          'B01001I_002E','B01001I_006E','B01001I_007E','B01001I_008E','B01001I_017E',\n",
    "                                          'B01001I_021E','B01001I_022E','B01001I_023E', 'state','place'])"
   ]
  },
  {
   "cell_type": "code",
   "execution_count": null,
   "metadata": {},
   "outputs": [],
   "source": []
  },
  {
   "cell_type": "markdown",
   "metadata": {},
   "source": [
    "### Create FIPS columns for county and csubd files"
   ]
  },
  {
   "cell_type": "markdown",
   "metadata": {},
   "source": [
    "#### COUNTY"
   ]
  },
  {
   "cell_type": "code",
   "execution_count": 174,
   "metadata": {},
   "outputs": [
    {
     "name": "stdout",
     "output_type": "stream",
     "text": [
      "34567\n"
     ]
    }
   ],
   "source": [
    "cnty_df = pd.read_csv('/Users/salma/Research/dissertation_work/data/demo/all/demo_acs_10_20_county.csv')\n",
    "\n",
    "## county subdivision column in place fips. For now, we wil just create place fips and place under it.\n",
    "## Later after everything is appended, we will rename at once\n",
    "\n",
    "cnty_df['county'] = cnty_df['county'].astype(str).apply(update_fips_code_len, args=('county',))\n",
    "cnty_df['county subdivision'] = '99' + cnty_df['county']\n",
    "cnty_df.rename({'county subdivision': 'place_fips'}, axis=1, inplace=True)\n",
    "print(cnty_df.shape[0])"
   ]
  },
  {
   "cell_type": "markdown",
   "metadata": {},
   "source": [
    "#### C_SUBD"
   ]
  },
  {
   "cell_type": "code",
   "execution_count": 175,
   "metadata": {},
   "outputs": [
    {
     "name": "stdout",
     "output_type": "stream",
     "text": [
      "392567\n"
     ]
    }
   ],
   "source": [
    "csubd_df = pd.read_csv('/Users/salma/Research/dissertation_work/data/demo/all/demo_acs_10_20_csubd.csv')\n",
    "csubd_df.rename({'county subdivision': 'place_fips'}, axis=1, inplace=True)\n",
    "print(csubd_df.shape[0])"
   ]
  },
  {
   "cell_type": "markdown",
   "metadata": {},
   "source": [
    "#### PLACE"
   ]
  },
  {
   "cell_type": "code",
   "execution_count": 176,
   "metadata": {},
   "outputs": [
    {
     "name": "stdout",
     "output_type": "stream",
     "text": [
      "324554\n"
     ]
    }
   ],
   "source": [
    "place_df = pd.read_csv('/Users/salma/Research/dissertation_work/data/demo/all/demo_acs_10_20_place.csv')\n",
    "# place_df.drop(['county subdivision'], axis=1, inplace=True) not found\n",
    "place_df.rename({'place': 'place_fips'}, axis=1, inplace=True)\n",
    "print(place_df.shape[0])"
   ]
  },
  {
   "cell_type": "markdown",
   "metadata": {},
   "source": [
    "### Append all three"
   ]
  },
  {
   "cell_type": "code",
   "execution_count": 177,
   "metadata": {},
   "outputs": [
    {
     "name": "stdout",
     "output_type": "stream",
     "text": [
      "751688\n",
      "['NAME', 'B01001_001E', 'B01001_002E', 'B01001_004E', 'B01001_005E', 'B01001_006E', 'B01001_007E', 'B01001_008E', 'B01001_009E', 'B01001_010E', 'B01001_026E', 'B01001_030E', 'B01001_031E', 'B01001_032E', 'B01001_033E', 'B01001_034E', 'B01001B_001E', 'B01001B_002E', 'B01001B_006E', 'B01001B_007E', 'B01001B_008E', 'B01001B_017E', 'B01001B_021E', 'B01001B_022E', 'B01001B_023E', 'B01001H_001E', 'B01001H_002E', 'B01001H_006E', 'B01001H_007E', 'B01001H_008E', 'B01001H_017E', 'B01001H_021E', 'B01001H_022E', 'B01001H_023E', 'B01001I_001E', 'B01001I_002E', 'B01001I_006E', 'B01001I_007E', 'B01001I_008E', 'B01001I_017E', 'B01001I_021E', 'B01001I_022E', 'B01001I_023E', 'state', 'county', 'year', 'place_fips']\n"
     ]
    }
   ],
   "source": [
    "demo_acs_10_20 = pd.concat([cnty_df, csubd_df, place_df], sort=False, ignore_index=True)\n",
    "print(demo_acs_10_20.shape[0])\n",
    "print(list(demo_acs_10_20))"
   ]
  },
  {
   "cell_type": "markdown",
   "metadata": {},
   "source": [
    "### Create New Columns/Vars"
   ]
  },
  {
   "cell_type": "code",
   "execution_count": 178,
   "metadata": {},
   "outputs": [],
   "source": [
    "demo_acs_10_20['males_15_24'] = demo_acs_10_20['B01001_006E']+ demo_acs_10_20['B01001_007E']+ demo_acs_10_20['B01001_008E']+ demo_acs_10_20['B01001_009E']+ demo_acs_10_20['B01001_010E']\n",
    "demo_acs_10_20['females_15_24'] = demo_acs_10_20['B01001_030E']+ demo_acs_10_20['B01001_031E']+ demo_acs_10_20['B01001_032E']+ demo_acs_10_20['B01001_033E']+ demo_acs_10_20['B01001_034E']\n",
    "\n",
    "demo_acs_10_20['black_15_24_m'] = demo_acs_10_20['B01001B_006E']+ demo_acs_10_20['B01001B_007E']+ demo_acs_10_20['B01001B_008E']\n",
    "demo_acs_10_20['black_15_24_f'] = demo_acs_10_20['B01001B_021E']+ demo_acs_10_20['B01001B_022E']+ demo_acs_10_20['B01001B_023E']\n",
    "\n",
    "demo_acs_10_20['white_15_24_m'] = demo_acs_10_20['B01001H_006E']+ demo_acs_10_20['B01001H_007E']+ demo_acs_10_20['B01001H_008E']\n",
    "demo_acs_10_20['white_15_24_f'] = demo_acs_10_20['B01001H_021E']+ demo_acs_10_20['B01001H_022E']+ demo_acs_10_20['B01001H_023E']\n",
    "\n",
    "demo_acs_10_20['hisp_15_24_m'] = demo_acs_10_20['B01001I_006E']+ demo_acs_10_20['B01001I_007E']+ demo_acs_10_20['B01001I_008E']\n",
    "demo_acs_10_20['hisp_15_24_f'] = demo_acs_10_20['B01001I_021E']+ demo_acs_10_20['B01001I_022E']+ demo_acs_10_20['B01001I_023E']"
   ]
  },
  {
   "cell_type": "markdown",
   "metadata": {},
   "source": []
  },
  {
   "cell_type": "markdown",
   "metadata": {},
   "source": [
    "### Rename Columns"
   ]
  },
  {
   "cell_type": "code",
   "execution_count": 179,
   "metadata": {},
   "outputs": [
    {
     "name": "stdout",
     "output_type": "stream",
     "text": [
      "751688\n"
     ]
    }
   ],
   "source": [
    "demo_acs_10_20.rename({'NAME': 'place_name',\n",
    "                       'state': 'state_fips',\n",
    "                       'cnty': 'county_fips',\n",
    "                      'B01001_001E': 'census_pop',\n",
    "                      'B01001_002E': 'male_total',\n",
    "                      'B01001_026E': 'female_total',\n",
    "                      'B01001B_001E': 'black_total',\n",
    "                      'B01001B_002E': 'black_m_total',\n",
    "                      'B01001B_017E': 'black_f_total',\n",
    "                      'B01001H_001E': 'white_total',\n",
    "                      'B01001H_002E': 'white_m_total',\n",
    "                      'B01001H_017E': 'white_f_total',\n",
    "                      'B01001I_001E': 'hispanic_total',\n",
    "                      'B01001I_002E': 'hispanic_m_total',\n",
    "                      'B01001I_017E': 'hispanic_f_total',\n",
    "                      }, axis=1, inplace=True)\n",
    "\n",
    "demo_acs_10_20.drop(['B01001_004E','B01001_005E','B01001_006E','B01001_007E','B01001_008E','B01001_009E',\n",
    "                     'B01001_010E', 'B01001_030E','B01001_031E','B01001_032E','B01001_033E','B01001_034E', \n",
    "                     'B01001B_006E','B01001B_007E','B01001B_008E','B01001B_021E','B01001B_022E','B01001B_023E', \n",
    "                     'B01001H_006E','B01001H_007E','B01001H_008E','B01001H_021E','B01001H_022E','B01001H_023E', \n",
    "                     'B01001I_006E','B01001I_007E','B01001I_008E', 'B01001I_021E','B01001I_022E','B01001I_023E'],\n",
    "                   axis=1, inplace=True)\n",
    "\n",
    "print(demo_acs_10_20.shape[0])\n",
    "demo_acs_10_20.to_csv('/Users/salma/Research/dissertation_work/data/demo/demo_acs_10_20.csv', index=False)"
   ]
  },
  {
   "cell_type": "code",
   "execution_count": null,
   "metadata": {},
   "outputs": [],
   "source": []
  },
  {
   "cell_type": "code",
   "execution_count": null,
   "metadata": {},
   "outputs": [],
   "source": []
  }
 ],
 "metadata": {
  "kernelspec": {
   "display_name": "us_crime_data_analysis",
   "language": "python",
   "name": "us_crime_data_analysis"
  },
  "language_info": {
   "codemirror_mode": {
    "name": "ipython",
    "version": 3
   },
   "file_extension": ".py",
   "mimetype": "text/x-python",
   "name": "python",
   "nbconvert_exporter": "python",
   "pygments_lexer": "ipython3",
   "version": "3.8.1"
  }
 },
 "nbformat": 4,
 "nbformat_minor": 4
}
