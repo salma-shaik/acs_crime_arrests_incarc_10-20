{
 "cells": [
  {
   "cell_type": "code",
   "execution_count": 70,
   "metadata": {},
   "outputs": [],
   "source": [
    "import pandas as pd\n",
    "import os"
   ]
  },
  {
   "cell_type": "code",
   "execution_count": 71,
   "metadata": {},
   "outputs": [],
   "source": [
    "def read_and_combine_files(ip_dir_path, gtype, op_dir_path):\n",
    "    os.chdir(ip_dir_path)\n",
    "    final_df = pd.DataFrame(columns=['NAME', 'B14001_002E', 'B14001_006E', 'B14001_007E', 'B14001_008E', 'B14001_009E', 'B14002_003E', 'B14002_013E', 'B14002_016E', 'B14002_019E', 'B14002_022E', 'B14002_027E', 'B14002_037E', 'B14002_040E', 'B14002_043E', 'B14002_046E', 'B15001_001E', 'B15001_002E', 'B15001_003E', 'B15001_011E', 'B15001_043E', 'B15001_044E', 'B15001_052E', 'B15002_001E', 'B15002_002E', 'B15002_019E', 'C15002A_001E', 'C15002A_002E', 'C15002A_007E', 'C15002B_001E', 'C15002B_002E', 'C15002B_007E', 'C15002H_001E', 'C15002H_002E', 'C15002H_007E', 'C15002I_001E', 'C15002I_002E', 'C15002I_007E', 'state', 'county', 'county subdivision', 'year'])\n",
    "    for fl in os.listdir():\n",
    "        if fl != '.DS_Store':\n",
    "            fl_df = pd.read_csv(f'{ip_dir_path}/{fl}')\n",
    "            year = fl.split('_')[4]\n",
    "            js_year = year.split('.')[0]\n",
    "            fl_df['year'] = js_year\n",
    "            final_df = final_df.append(fl_df)\n",
    "            \n",
    "    final_df.to_csv(f'{op_dir_path}/educ_schl_10_20_{gtype}.csv', index=False)"
   ]
  },
  {
   "cell_type": "code",
   "execution_count": 72,
   "metadata": {},
   "outputs": [],
   "source": [
    "## county_subd files\n",
    "read_and_combine_files(ip_dir_path = '/Users/salma/Research/dissertation_work/data/educ_schl_acs/c_subd',\n",
    "                      gtype = 'csubd',\n",
    "                      op_dir_path = '/Users/salma/Research/dissertation_work/data/educ_schl_acs/all')"
   ]
  },
  {
   "cell_type": "code",
   "execution_count": 73,
   "metadata": {},
   "outputs": [],
   "source": [
    "## county files\n",
    "read_and_combine_files(ip_dir_path = '/Users/salma/Research/dissertation_work/data/educ_schl_acs/cnty',\n",
    "                      gtype = 'county',\n",
    "                      op_dir_path = '/Users/salma/Research/dissertation_work/data/educ_schl_acs/all')"
   ]
  },
  {
   "cell_type": "code",
   "execution_count": 74,
   "metadata": {},
   "outputs": [],
   "source": [
    "## place files\n",
    "read_and_combine_files(ip_dir_path = '/Users/salma/Research/dissertation_work/data/educ_schl_acs/place',\n",
    "                      gtype = 'place',\n",
    "                      op_dir_path = '/Users/salma/Research/dissertation_work/data/educ_schl_acs/all')"
   ]
  },
  {
   "cell_type": "code",
   "execution_count": null,
   "metadata": {},
   "outputs": [],
   "source": []
  },
  {
   "cell_type": "markdown",
   "metadata": {},
   "source": [
    "### Create FIPS columns for county and csubd files"
   ]
  },
  {
   "cell_type": "code",
   "execution_count": 78,
   "metadata": {},
   "outputs": [],
   "source": [
    "# utility function to update fips column values as per the required length\n",
    "def update_fips_code_len(fips_code, fp_type):\n",
    "    \n",
    "    # placeholder to assign required code length based on whether it is a city, county or state fips code.\n",
    "    # For now cnty and placefips ar of reqd len coz considered as strings. but can have below code for future use\n",
    "    \n",
    "    req_code_len = 0  \n",
    "\n",
    "    fp_code_len = fips_code.__len__()\n",
    "\n",
    "    if fp_type == 'city':\n",
    "        req_code_len = 5\n",
    "    elif fp_type == 'county':\n",
    "        req_code_len = 3\n",
    "    elif fp_type == 'state':\n",
    "        req_code_len = 2\n",
    "\n",
    "    if fp_code_len < req_code_len:\n",
    "        while fips_code.__len__() < req_code_len:\n",
    "            fips_code = '0'*(req_code_len-fp_code_len) + fips_code\n",
    "            return fips_code\n",
    "    else:\n",
    "        return fips_code\n"
   ]
  },
  {
   "cell_type": "markdown",
   "metadata": {},
   "source": [
    "#### County file"
   ]
  },
  {
   "cell_type": "code",
   "execution_count": 89,
   "metadata": {},
   "outputs": [
    {
     "name": "stdout",
     "output_type": "stream",
     "text": [
      "34589\n"
     ]
    }
   ],
   "source": [
    "cnty_df = pd.read_csv('/Users/salma/Research/dissertation_work/data/educ_schl_acs/all/educ_schl_10_20_county.csv')\n",
    "\n",
    "## county subdivision column in place fips. For now, we wil just create place fips and place under it.\n",
    "## Later after everything is appended, we will rename at once\n",
    "\n",
    "cnty_df['county'] = cnty_df['county'].astype(str).apply(update_fips_code_len, args=('county',))\n",
    "cnty_df['county subdivision'] = '99' + cnty_df['county']\n",
    "cnty_df.rename({'county subdivision': 'place_fips'}, axis=1, inplace=True)\n",
    "print(cnty_df.shape[0])"
   ]
  },
  {
   "cell_type": "code",
   "execution_count": null,
   "metadata": {},
   "outputs": [],
   "source": []
  },
  {
   "cell_type": "markdown",
   "metadata": {},
   "source": [
    "### Append all three"
   ]
  },
  {
   "cell_type": "code",
   "execution_count": 90,
   "metadata": {},
   "outputs": [
    {
     "name": "stdout",
     "output_type": "stream",
     "text": [
      "405263\n",
      "321995\n"
     ]
    }
   ],
   "source": [
    "## Read csubd and place ##\n",
    "csubd_df = pd.read_csv('/Users/salma/Research/dissertation_work/data/educ_schl_acs/all/educ_schl_10_20_csubd.csv')\n",
    "csubd_df.rename({'county subdivision': 'place_fips'}, axis=1, inplace=True)\n",
    "print(csubd_df.shape[0])\n",
    "\n",
    "place_df = pd.read_csv('/Users/salma/Research/dissertation_work/data/educ_schl_acs/all/educ_schl_10_20_place.csv')\n",
    "place_df.drop(['county subdivision'], axis=1, inplace=True)\n",
    "place_df.rename({'place': 'place_fips'}, axis=1, inplace=True)\n",
    "print(place_df.shape[0])"
   ]
  },
  {
   "cell_type": "code",
   "execution_count": 92,
   "metadata": {},
   "outputs": [
    {
     "name": "stdout",
     "output_type": "stream",
     "text": [
      "761847\n"
     ]
    }
   ],
   "source": [
    "## Append ##\n",
    "educ_schl_acs_10_20 = pd.concat([cnty_df, csubd_df, place_df], sort=False, ignore_index=True)\n",
    "print(educ_schl_acs_10_20.shape[0])"
   ]
  },
  {
   "cell_type": "code",
   "execution_count": 93,
   "metadata": {},
   "outputs": [],
   "source": [
    "### Rename ###\n",
    "educ_schl_acs_10_20.rename({'B14001_002E':'schl_enrl_tot',\n",
    "                            'B14001_006E':'schl_enrl_grades_5_8',\n",
    "                            'B14001_007E':'schl_enrl_grades_9_12',\n",
    "                            'B14001_008E':'schl_enrl_ugrad',\n",
    "                            'B14001_009E':'schl_enrl_grad',\n",
    "                            'B14002_003E':'schl_enrl_m',\n",
    "                            'B14002_013E':'schl_enrl_grades_m_5_8',\n",
    "                            'B14002_016E':'schl_enrl_grades_m_9_12',\n",
    "                            'B14002_019E':'schl_enrl_m_ugrad',\n",
    "                            'B14002_022E':'schl_enrl_m_grad',\n",
    "                            'B14002_027E':'schl_enrl_f',\n",
    "                            'B14002_037E':'schl_enrl_grades_f_5_8',\n",
    "                            'B14002_040E':'schl_enrl_grades_f_9_12',\n",
    "                            'B14002_043E':'schl_enrl_f_ugrad',\n",
    "                            'B14002_046E':'schl_enrl_f_grad',\n",
    "                            'B15001_001E':'educ_atnmnt_18ao',\n",
    "                            'B15001_002E':'educ_atnmnt_18ao_m',\n",
    "                            'B15001_003E':'educ_atnmnt_18_24_m',\n",
    "                            'B15001_011E':'educ_atnmnt_25_34_m',\n",
    "                            'B15001_043E':'educ_atnmnt_18ao_f',\n",
    "                            'B15001_044E':'educ_atnmnt_18_24_f',\n",
    "                            'B15001_052E':'educ_atnmnt_25_34_f',\n",
    "                            'B15002_001E':'educ_atnmnt_25ao',\n",
    "                            'B15002_002E':'educ_atnmnt_25ao_m',\n",
    "                            'B15002_019E':'educ_atnmnt_25ao_f',\n",
    "                            'C15002B_001E':'educ_atnmnt_25ao_b',\n",
    "                            'C15002B_002E':'educ_atnmnt_25ao_b',\n",
    "                            'C15002B_007E':'educ_atnmnt_25ao_b',\n",
    "                            'C15002H_001E':'educ_atnmnt_25ao_w',\n",
    "                            'C15002H_002E':'educ_atnmnt25ao_m_w',\n",
    "                            'C15002H_007E':'educ_atnmnt_25ao_f_w',\n",
    "                            'C15002I_001E':'educ_atnmnt_25ao_h',\n",
    "                            'C15002I_002E':'educ_atnmnt_25ao_h',\n",
    "                            'C15002I_007E':'educ_atnmnt_25ao_h',\n",
    "                            'state': 'STATEFP',\n",
    "                            'county': 'CNTY'}, axis=1, inplace=True)\n",
    "\n",
    "educ_schl_acs_10_20.to_csv('/Users/salma/Research/dissertation_work/data/educ_schl_acs/educ_schl_acs_10_20.csv', index=False)"
   ]
  },
  {
   "cell_type": "code",
   "execution_count": 95,
   "metadata": {},
   "outputs": [
    {
     "data": {
      "text/plain": [
       "NAME                            0\n",
       "schl_enrl_tot                   0\n",
       "schl_enrl_grades_5_8            0\n",
       "schl_enrl_grades_9_12           0\n",
       "schl_enrl_ugrad                 0\n",
       "schl_enrl_grad                  0\n",
       "schl_enrl_m                     0\n",
       "schl_enrl_grades_m_5_8          0\n",
       "schl_enrl_grades_m_9_12         0\n",
       "schl_enrl_m_ugrad               0\n",
       "schl_enrl_m_grad                0\n",
       "schl_enrl_f                     0\n",
       "schl_enrl_grades_f_5_8          0\n",
       "schl_enrl_grades_f_9_12         0\n",
       "schl_enrl_f_ugrad               0\n",
       "schl_enrl_f_grad                0\n",
       "educ_atnmnt_18ao                0\n",
       "educ_atnmnt_18ao_m              0\n",
       "educ_atnmnt_18_24_m             0\n",
       "educ_atnmnt_25_34_m             0\n",
       "educ_atnmnt_18ao_f              0\n",
       "educ_atnmnt_18_24_f             0\n",
       "educ_atnmnt_25_34_f             0\n",
       "educ_atnmnt_25ao                0\n",
       "educ_atnmnt_25ao_m              0\n",
       "educ_atnmnt_25ao_f              0\n",
       "C15002A_001E                    0\n",
       "C15002A_002E                    0\n",
       "C15002A_007E                    0\n",
       "educ_atnmnt_25ao_b              0\n",
       "educ_atnmnt_25ao_b              0\n",
       "educ_atnmnt_25ao_b              0\n",
       "educ_atnmnt_25ao_w              0\n",
       "educ_atnmnt25ao_m_w             0\n",
       "educ_atnmnt_25ao_f_w            0\n",
       "educ_atnmnt_25ao_h              0\n",
       "educ_atnmnt_25ao_h              0\n",
       "educ_atnmnt_25ao_h              0\n",
       "STATEFP                         0\n",
       "CNTY                       321995\n",
       "place_fips                      0\n",
       "year                            0\n",
       "dtype: int64"
      ]
     },
     "execution_count": 95,
     "metadata": {},
     "output_type": "execute_result"
    }
   ],
   "source": [
    "educ_schl_acs_10_20.isnull().sum()"
   ]
  },
  {
   "cell_type": "code",
   "execution_count": null,
   "metadata": {},
   "outputs": [],
   "source": []
  }
 ],
 "metadata": {
  "kernelspec": {
   "display_name": "us_crime_data_analysis",
   "language": "python",
   "name": "us_crime_data_analysis"
  },
  "language_info": {
   "codemirror_mode": {
    "name": "ipython",
    "version": 3
   },
   "file_extension": ".py",
   "mimetype": "text/x-python",
   "name": "python",
   "nbconvert_exporter": "python",
   "pygments_lexer": "ipython3",
   "version": "3.8.1"
  }
 },
 "nbformat": 4,
 "nbformat_minor": 4
}
