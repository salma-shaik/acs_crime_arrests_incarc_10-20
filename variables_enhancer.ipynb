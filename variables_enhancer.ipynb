{
 "cells": [
  {
   "cell_type": "code",
   "execution_count": 11,
   "metadata": {},
   "outputs": [],
   "source": [
    "import pandas as pd\n",
    "import numpy as np"
   ]
  },
  {
   "cell_type": "code",
   "execution_count": 12,
   "metadata": {},
   "outputs": [],
   "source": [
    "pd.set_option('display.max_columns', 100)\n",
    "pd.set_option('display.max_colwidth', 500)\n",
    "pd.set_option('display.width', 5000)\n",
    "pd.set_option('display.max_rows', 100)"
   ]
  },
  {
   "cell_type": "markdown",
   "metadata": {},
   "source": [
    "### Rates Calculator\n",
    "\n",
    "Check rates later in research to see in what other ways being calculated"
   ]
  },
  {
   "cell_type": "code",
   "execution_count": 23,
   "metadata": {},
   "outputs": [],
   "source": [
    "import pandas as pd\n",
    "import  numpy as np\n",
    "\n",
    "\n",
    "def create_rates(df, var_list, pop_var=None, var_group=None):\n",
    "    rate_multiplier = 10000\n",
    "    if var_group == 'crime':\n",
    "        rate_multiplier = 100000\n",
    "\n",
    "    for rate_var in var_list:\n",
    "        df[f'{rate_var}_rate'] = (df[f'{rate_var}']/df[f'{pop_var}'])*rate_multiplier\n",
    "\n",
    "    return df\n",
    "        \n",
    "def get_all_rates(fl_path):    \n",
    "    main_df = pd.read_csv(fl_path)\n",
    "\n",
    "    \"\"\"\n",
    "    Create crime rates\n",
    "    \"\"\"\n",
    "    crime_vars = ['rape','robbery','simple_assault','burglary','larceny','motor_vehicle_theft',\n",
    "                  'agg_assault','murder', 'violent_crime', 'property_crime', 'total_crime']\n",
    "\n",
    "    main_df = create_rates(main_df, var_list=crime_vars, pop_var='population', var_group='crime')\n",
    "\n",
    "   \n",
    "    \"\"\"\n",
    "    Create arrest, schl, emp rates\n",
    "    \n",
    "    \"\"\"\n",
    "    arrests_total_vars = ['agg_assault_tot_arrests', 'burglary_tot_arrests', \n",
    "                          'mtr_veh_theft_tot_arrests', 'murder_tot_arrests','rape_tot_arrests', \n",
    "                          'robbery_tot_arrests', 'drug_tot_arrests', 'sale_drug_tot_arrests', \n",
    "                          'poss_drug_tot_arrests', 'larceny_theft_tot_arrests', \n",
    "                          'disorder_tot_arrests', 'violent_tot_arrests', 'property_tot_arrests',\n",
    "                          'total_crime_tot_arrests', 'schl_enrl_tot', 'schl_enrl_ugrad', \n",
    "                          'schl_enrl_grad', 'emp_total']\n",
    "\n",
    "    main_df = create_rates(main_df, var_list=arrests_total_vars, pop_var='population')\n",
    "\n",
    "\n",
    "    \"\"\"\n",
    "    Create black (arrests' and others) rates\n",
    "    \n",
    "    \"\"\"   \n",
    "    arrests_black_vars = ['agg_assault_tot_arrests_black', 'burglary_tot_arrests_black', 'mtr_veh_theft_tot_arrests_black',\n",
    "                          'murder_tot_arrests_black', 'rape_tot_arrests_black', \n",
    "                          'robbery_tot_arrests_black', 'drug_tot_arrests_black', \n",
    "                          'sale_drug_tot_arrests_black', 'poss_drug_tot_arrests_black', \n",
    "                          'larceny_theft_tot_arrests_black', 'disorder_tot_arrests_black',\n",
    "                          'violent_tot_arrests_black', 'property_tot_arrests_black', \n",
    "                          'total_crime_tot_arrests_black', 'emp_total_black']\n",
    "\n",
    "    main_df = create_rates(main_df, var_list=arrests_black_vars, pop_var='black_total')\n",
    "\n",
    "\n",
    "    \"\"\"\n",
    "    Create white (arresrs' and others) rates\n",
    "    \"\"\"\n",
    "    arrests_white_vars = ['burglary_tot_arrests_white', 'agg_assault_tot_arrests_white', \n",
    "                          'mtr_veh_theft_tot_arrests_white', 'murder_tot_arrests_white',  \n",
    "                          'rape_tot_arrests_white', 'robbery_tot_arrests_white', \n",
    "                          'drug_tot_arrests_white', 'sale_drug_tot_arrests_white', \n",
    "                          'poss_drug_tot_arrests_white', 'larceny_theft_tot_arrests_white',\n",
    "                          'disorder_tot_arrests_white', 'violent_tot_arrests_white', \n",
    "                          'property_tot_arrests_white', 'total_crime_tot_arrests_white',\n",
    "                          'emp_total_white']\n",
    "\n",
    "    main_df = create_rates(main_df, var_list=arrests_white_vars, pop_var='white_total')\n",
    "\n",
    "\n",
    "    \"\"\"\n",
    "    Create the below educational attainment rate\n",
    "    \"\"\"\n",
    "    \n",
    "    educ_vars = ['educ_atnmnt_18_24_total']\n",
    "    \n",
    "    main_df = create_rates(main_df, var_list=educ_vars, pop_var='total_15_24')\n",
    "\n",
    "    \n",
    "    \"\"\"\n",
    "    Create rates for the below incarceration variables\n",
    "    \"\"\"\n",
    "    incarc_vars = ['prison_occupancy_count', 'jail_occupancy_count']\n",
    "    main_df = create_rates(main_df, incarc_vars, pop_var='population')\n",
    "\n",
    "    # some populations are zero so divide by zero gets infinity so replace them with 0\n",
    "    main_df.replace(np.inf, 0, inplace=True)\n",
    "    \n",
    "    return main_df"
   ]
  },
  {
   "cell_type": "markdown",
   "metadata": {},
   "source": [
    "### Perc Change Calculator"
   ]
  },
  {
   "cell_type": "code",
   "execution_count": 32,
   "metadata": {},
   "outputs": [],
   "source": [
    "def calc_perc_change(df):\n",
    "    #df = pd.read_csv(fl_path, engine='python')\n",
    "\n",
    "    # lets sort the df by ori and year so that each ori has data starting from lowest year to highest\n",
    "    df.sort_values(['ORI', 'year'], ascending=[True, True], inplace=True)\n",
    "\n",
    "    df_num = df.loc[:, ['ORI', 'population', 'male_total', 'female_total', 'black_total', 'black_m_total', \n",
    "                        'black_f_total', 'white_total', 'white_m_total', 'white_f_total', 'males_15_24', \n",
    "                        'females_15_24', 'black_15_24_m', 'black_15_24_f', 'white_15_24_m', 'white_15_24_f', \n",
    "                        'rape', 'robbery', 'simple_assault', 'burglary', 'larceny', 'motor_vehicle_theft', \n",
    "                        'agg_assault', 'arson', 'murder', 'schl_enrl_tot', 'schl_enrl_ugrad', 'schl_enrl_grad', \n",
    "                        'educ_atnmnt_25ao_b', 'educ_atnmnt_25ao_w', 'emp_total', 'emp_total_black', \n",
    "                        'emp_total_white', 'pci', 'pci_black', 'pci_white', 'agg_assault_tot_arrests', \n",
    "                        'agg_assault_tot_arrests_black', 'agg_assault_tot_arrests_white', 'burglary_tot_arrests', \n",
    "                        'burglary_tot_arrests_black', 'burglary_tot_arrests_white', 'mtr_veh_theft_tot_arrests', \n",
    "                        'mtr_veh_theft_tot_arrests_black', 'mtr_veh_theft_tot_arrests_white', 'murder_tot_arrests',\n",
    "                        'murder_tot_arrests_black', 'murder_tot_arrests_white', 'rape_tot_arrests', \n",
    "                        'rape_tot_arrests_black', 'rape_tot_arrests_white', 'robbery_tot_arrests', \n",
    "                        'robbery_tot_arrests_black', 'robbery_tot_arrests_white', 'drug_tot_arrests', \n",
    "                        'drug_tot_arrests_black', 'drug_tot_arrests_white', 'sale_drug_tot_arrests', \n",
    "                        'sale_drug_tot_arrests_black', 'sale_drug_tot_arrests_white', 'poss_drug_tot_arrests', \n",
    "                        'poss_drug_tot_arrests_black', 'poss_drug_tot_arrests_white', 'larceny_theft_tot_arrests', \n",
    "                        'larceny_theft_tot_arrests_black', 'larceny_theft_tot_arrests_white', 'disorder_tot_arrests',\n",
    "                        'disorder_tot_arrests_black', 'disorder_tot_arrests_white', 'white_15_24', 'black_15_24', \n",
    "                        'total_15_24', 'educ_atnmnt_18_24_total', 'tot_felonies_agency', 'tot_misdemeanors_agency', \n",
    "                        'tot_felonies_cnty', 'tot_misdemeanors_cnty', 'tot_major_offenses_cnty', 'perc_felonies', \n",
    "                        'perc_misdemeanors', 'total_jail_pop', 'total_prison_pop', 'prison_occupancy_count', \n",
    "                        'jail_occupancy_count', 'violent_crime', 'property_crime', 'total_crime', 'violent_tot_arrests',\n",
    "                        'property_tot_arrests', 'total_crime_tot_arrests', 'violent_tot_arrests_black', \n",
    "                        'property_tot_arrests_black', 'total_crime_tot_arrests_black', 'violent_tot_arrests_white', \n",
    "                        'property_tot_arrests_white', 'total_crime_tot_arrests_white']]\n",
    "    \n",
    "    \n",
    "   # ((x-x[0])/x[0]) * 100\n",
    "    df_grpd_pct = df_num.groupby('ORI').transform(lambda x: x.div(x.iloc[0]).subtract(1).mul(100))\n",
    "\n",
    "    \n",
    "    # drop YEAR and Govt_level col so that it isn't demeaned.\n",
    "    # df_grpd_pct.drop(['YEAR', 'Govt_level'], inplace=True, axis=1)\n",
    "\n",
    "    # append _pc to the perc change columns\n",
    "    df_grpd_pct.columns = ['pc_' + str(col) for col in df_grpd_pct.columns]\n",
    "\n",
    "    # get id columns from original df\n",
    "    df_id = df.loc[:, ['ORI', 'year']]\n",
    "\n",
    "    df_pc = pd.concat([df_id, df_grpd_pct], axis=1)\n",
    "\n",
    "    return df_pc"
   ]
  },
  {
   "cell_type": "code",
   "execution_count": null,
   "metadata": {},
   "outputs": [],
   "source": []
  },
  {
   "cell_type": "markdown",
   "metadata": {},
   "source": [
    "https://www3.nd.edu/~rwilliam/stats2/Panel.pdf\n",
    "\n",
    "If the xtreg command did not exist, we could estimate a fixed effects model by using OLS\n",
    "regression with the demeaning approach. \n",
    "\n",
    "xtreg does demeaning procedure by default"
   ]
  },
  {
   "cell_type": "markdown",
   "metadata": {},
   "source": [
    "### Agency Categorizer"
   ]
  },
  {
   "cell_type": "code",
   "execution_count": 36,
   "metadata": {},
   "outputs": [],
   "source": [
    "def categorize_agencies_by_pop_mean(fl_path, op_path, fl_name):\n",
    "    fnl_main = pd.read_csv(fl_path)\n",
    "\n",
    "    # groupby ORI and calculate mean of population values from 90-15\n",
    "    fnl_main_ORI_grpd = fnl_main.groupby('ORI').agg({'population': np.mean}).reset_index()\n",
    "    fnl_main_ORI_grpd.rename({'population': 'population_mean'}, axis=1, inplace=True)\n",
    "\n",
    "    # merge fnl_main_ORI_grpd with fnl_main so that population mean for a given ORI will be associated with that ORI for 90-15\n",
    "    fnl_main_population_mn = fnl_main.merge(fnl_main_ORI_grpd, on ='ORI')\n",
    "\n",
    "    fnl_main_population_mn.to_csv(f'{op_path}/{fl_name}_pop_mean.csv', index=False)\n",
    "\n",
    "    small_size_cities = fnl_main_population_mn.query('population_mean >= 10000 & population_mean < 50000').reset_index(drop=True)\n",
    "    print('small_size_cities: ', small_size_cities['ORI'].nunique())\n",
    "    small_size_cities.to_csv(f'{op_path}/{fl_name}_small_cities.csv', index=False)\n",
    "\n",
    "    med_size_cities = fnl_main_population_mn.query('population_mean >= 50000 & population_mean < 100000').reset_index(drop=True)\n",
    "    print('med_size_cities: ', med_size_cities['ORI'].nunique())\n",
    "    med_size_cities.to_csv(f'{op_path}/{fl_name}_medium_cities.csv', index=False)\n",
    "\n",
    "    large_size_cities = fnl_main_population_mn.query('population_mean >= 100000').reset_index(drop=True)\n",
    "    print('large_size_cities: ', large_size_cities['ORI'].nunique())\n",
    "    large_size_cities.to_csv(f'{op_path}/{fl_name}_large_cities.csv', index=False)\n",
    "    "
   ]
  },
  {
   "cell_type": "markdown",
   "metadata": {},
   "source": []
  },
  {
   "cell_type": "markdown",
   "metadata": {},
   "source": [
    "### 10_20 "
   ]
  },
  {
   "cell_type": "markdown",
   "metadata": {},
   "source": [
    "### pc"
   ]
  },
  {
   "cell_type": "code",
   "execution_count": 33,
   "metadata": {
    "collapsed": true
   },
   "outputs": [
    {
     "name": "stdout",
     "output_type": "stream",
     "text": [
      "48928\n",
      "['ORI', 'agency_name', 'state', 'year', 'state_fips', 'longitude', 'latitude', 'county_fips', 'place_fips', 'population', 'male_total', 'female_total', 'black_total', 'black_m_total', 'black_f_total', 'white_total', 'white_m_total', 'white_f_total', 'males_15_24', 'females_15_24', 'black_15_24_m', 'black_15_24_f', 'white_15_24_m', 'white_15_24_f', 'rape', 'robbery', 'simple_assault', 'burglary', 'larceny', 'motor_vehicle_theft', 'agg_assault', 'arson', 'murder', 'schl_enrl_tot', 'schl_enrl_ugrad', 'schl_enrl_grad', 'educ_atnmnt_25ao_b', 'educ_atnmnt_25ao_w', 'emp_total', 'emp_total_black', 'emp_total_white', 'pci', 'pci_black', 'pci_white', 'agg_assault_tot_arrests', 'agg_assault_tot_arrests_black', 'agg_assault_tot_arrests_white', 'burglary_tot_arrests', 'burglary_tot_arrests_black', 'burglary_tot_arrests_white', 'mtr_veh_theft_tot_arrests', 'mtr_veh_theft_tot_arrests_black', 'mtr_veh_theft_tot_arrests_white', 'murder_tot_arrests', 'murder_tot_arrests_black', 'murder_tot_arrests_white', 'rape_tot_arrests', 'rape_tot_arrests_black', 'rape_tot_arrests_white', 'robbery_tot_arrests', 'robbery_tot_arrests_black', 'robbery_tot_arrests_white', 'drug_tot_arrests', 'drug_tot_arrests_black', 'drug_tot_arrests_white', 'sale_drug_tot_arrests', 'sale_drug_tot_arrests_black', 'sale_drug_tot_arrests_white', 'poss_drug_tot_arrests', 'poss_drug_tot_arrests_black', 'poss_drug_tot_arrests_white', 'larceny_theft_tot_arrests', 'larceny_theft_tot_arrests_black', 'larceny_theft_tot_arrests_white', 'disorder_tot_arrests', 'disorder_tot_arrests_black', 'disorder_tot_arrests_white', 'white_15_24', 'black_15_24', 'total_15_24', 'educ_atnmnt_18_24_total', 'tot_felonies_agency', 'tot_misdemeanors_agency', 'tot_felonies_cnty', 'tot_misdemeanors_cnty', 'tot_major_offenses_cnty', 'perc_felonies', 'perc_misdemeanors', 'total_jail_pop', 'total_prison_pop', 'prison_occupancy_count', 'jail_occupancy_count', 'violent_crime', 'property_crime', 'total_crime', 'violent_tot_arrests', 'property_tot_arrests', 'total_crime_tot_arrests', 'violent_tot_arrests_black', 'property_tot_arrests_black', 'total_crime_tot_arrests_black', 'violent_tot_arrests_white', 'property_tot_arrests_white', 'total_crime_tot_arrests_white', 'pc_population', 'pc_male_total', 'pc_female_total', 'pc_black_total', 'pc_black_m_total', 'pc_black_f_total', 'pc_white_total', 'pc_white_m_total', 'pc_white_f_total', 'pc_males_15_24', 'pc_females_15_24', 'pc_black_15_24_m', 'pc_black_15_24_f', 'pc_white_15_24_m', 'pc_white_15_24_f', 'pc_rape', 'pc_robbery', 'pc_simple_assault', 'pc_burglary', 'pc_larceny', 'pc_motor_vehicle_theft', 'pc_agg_assault', 'pc_arson', 'pc_murder', 'pc_schl_enrl_tot', 'pc_schl_enrl_ugrad', 'pc_schl_enrl_grad', 'pc_educ_atnmnt_25ao_b', 'pc_educ_atnmnt_25ao_w', 'pc_emp_total', 'pc_emp_total_black', 'pc_emp_total_white', 'pc_pci', 'pc_pci_black', 'pc_pci_white', 'pc_agg_assault_tot_arrests', 'pc_agg_assault_tot_arrests_black', 'pc_agg_assault_tot_arrests_white', 'pc_burglary_tot_arrests', 'pc_burglary_tot_arrests_black', 'pc_burglary_tot_arrests_white', 'pc_mtr_veh_theft_tot_arrests', 'pc_mtr_veh_theft_tot_arrests_black', 'pc_mtr_veh_theft_tot_arrests_white', 'pc_murder_tot_arrests', 'pc_murder_tot_arrests_black', 'pc_murder_tot_arrests_white', 'pc_rape_tot_arrests', 'pc_rape_tot_arrests_black', 'pc_rape_tot_arrests_white', 'pc_robbery_tot_arrests', 'pc_robbery_tot_arrests_black', 'pc_robbery_tot_arrests_white', 'pc_drug_tot_arrests', 'pc_drug_tot_arrests_black', 'pc_drug_tot_arrests_white', 'pc_sale_drug_tot_arrests', 'pc_sale_drug_tot_arrests_black', 'pc_sale_drug_tot_arrests_white', 'pc_poss_drug_tot_arrests', 'pc_poss_drug_tot_arrests_black', 'pc_poss_drug_tot_arrests_white', 'pc_larceny_theft_tot_arrests', 'pc_larceny_theft_tot_arrests_black', 'pc_larceny_theft_tot_arrests_white', 'pc_disorder_tot_arrests', 'pc_disorder_tot_arrests_black', 'pc_disorder_tot_arrests_white', 'pc_white_15_24', 'pc_black_15_24', 'pc_total_15_24', 'pc_educ_atnmnt_18_24_total', 'pc_tot_felonies_agency', 'pc_tot_misdemeanors_agency', 'pc_tot_felonies_cnty', 'pc_tot_misdemeanors_cnty', 'pc_tot_major_offenses_cnty', 'pc_perc_felonies', 'pc_perc_misdemeanors', 'pc_total_jail_pop', 'pc_total_prison_pop', 'pc_prison_occupancy_count', 'pc_jail_occupancy_count', 'pc_violent_crime', 'pc_property_crime', 'pc_total_crime', 'pc_violent_tot_arrests', 'pc_property_tot_arrests', 'pc_total_crime_tot_arrests', 'pc_violent_tot_arrests_black', 'pc_property_tot_arrests_black', 'pc_total_crime_tot_arrests_black', 'pc_violent_tot_arrests_white', 'pc_property_tot_arrests_white', 'pc_total_crime_tot_arrests_white']\n"
     ]
    }
   ],
   "source": [
    "df = pd.read_csv('/Users/salma/Research/dissertation_work/data/final/final_10_20_all_rep_oris_gte_10k_core.csv')\n",
    "\n",
    "df_pc = calc_perc_change(df)\n",
    "\n",
    "df_pc_merged = df.merge(df_pc, on=['ORI', 'year'], how='left')\n",
    "df_pc_merged.to_csv('/Users/salma/Research/dissertation_work/data/final/10_20/final_10_20_all_rep_oris_core_counts_pc.csv', index=False)\n",
    "print(df_pc_merged.shape[0])\n",
    "print(list(df_pc_merged))"
   ]
  },
  {
   "cell_type": "markdown",
   "metadata": {},
   "source": [
    "### rates"
   ]
  },
  {
   "cell_type": "code",
   "execution_count": 34,
   "metadata": {
    "collapsed": true
   },
   "outputs": [
    {
     "name": "stdout",
     "output_type": "stream",
     "text": [
      "48928\n",
      "['ORI', 'agency_name', 'state', 'year', 'state_fips', 'longitude', 'latitude', 'county_fips', 'place_fips', 'population', 'male_total', 'female_total', 'black_total', 'black_m_total', 'black_f_total', 'white_total', 'white_m_total', 'white_f_total', 'males_15_24', 'females_15_24', 'black_15_24_m', 'black_15_24_f', 'white_15_24_m', 'white_15_24_f', 'rape', 'robbery', 'simple_assault', 'burglary', 'larceny', 'motor_vehicle_theft', 'agg_assault', 'arson', 'murder', 'schl_enrl_tot', 'schl_enrl_ugrad', 'schl_enrl_grad', 'educ_atnmnt_25ao_b', 'educ_atnmnt_25ao_w', 'emp_total', 'emp_total_black', 'emp_total_white', 'pci', 'pci_black', 'pci_white', 'agg_assault_tot_arrests', 'agg_assault_tot_arrests_black', 'agg_assault_tot_arrests_white', 'burglary_tot_arrests', 'burglary_tot_arrests_black', 'burglary_tot_arrests_white', 'mtr_veh_theft_tot_arrests', 'mtr_veh_theft_tot_arrests_black', 'mtr_veh_theft_tot_arrests_white', 'murder_tot_arrests', 'murder_tot_arrests_black', 'murder_tot_arrests_white', 'rape_tot_arrests', 'rape_tot_arrests_black', 'rape_tot_arrests_white', 'robbery_tot_arrests', 'robbery_tot_arrests_black', 'robbery_tot_arrests_white', 'drug_tot_arrests', 'drug_tot_arrests_black', 'drug_tot_arrests_white', 'sale_drug_tot_arrests', 'sale_drug_tot_arrests_black', 'sale_drug_tot_arrests_white', 'poss_drug_tot_arrests', 'poss_drug_tot_arrests_black', 'poss_drug_tot_arrests_white', 'larceny_theft_tot_arrests', 'larceny_theft_tot_arrests_black', 'larceny_theft_tot_arrests_white', 'disorder_tot_arrests', 'disorder_tot_arrests_black', 'disorder_tot_arrests_white', 'white_15_24', 'black_15_24', 'total_15_24', 'educ_atnmnt_18_24_total', 'tot_felonies_agency', 'tot_misdemeanors_agency', 'tot_felonies_cnty', 'tot_misdemeanors_cnty', 'tot_major_offenses_cnty', 'perc_felonies', 'perc_misdemeanors', 'total_jail_pop', 'total_prison_pop', 'prison_occupancy_count', 'jail_occupancy_count', 'violent_crime', 'property_crime', 'total_crime', 'violent_tot_arrests', 'property_tot_arrests', 'total_crime_tot_arrests', 'violent_tot_arrests_black', 'property_tot_arrests_black', 'total_crime_tot_arrests_black', 'violent_tot_arrests_white', 'property_tot_arrests_white', 'total_crime_tot_arrests_white', 'pc_population', 'pc_male_total', 'pc_female_total', 'pc_black_total', 'pc_black_m_total', 'pc_black_f_total', 'pc_white_total', 'pc_white_m_total', 'pc_white_f_total', 'pc_males_15_24', 'pc_females_15_24', 'pc_black_15_24_m', 'pc_black_15_24_f', 'pc_white_15_24_m', 'pc_white_15_24_f', 'pc_rape', 'pc_robbery', 'pc_simple_assault', 'pc_burglary', 'pc_larceny', 'pc_motor_vehicle_theft', 'pc_agg_assault', 'pc_arson', 'pc_murder', 'pc_schl_enrl_tot', 'pc_schl_enrl_ugrad', 'pc_schl_enrl_grad', 'pc_educ_atnmnt_25ao_b', 'pc_educ_atnmnt_25ao_w', 'pc_emp_total', 'pc_emp_total_black', 'pc_emp_total_white', 'pc_pci', 'pc_pci_black', 'pc_pci_white', 'pc_agg_assault_tot_arrests', 'pc_agg_assault_tot_arrests_black', 'pc_agg_assault_tot_arrests_white', 'pc_burglary_tot_arrests', 'pc_burglary_tot_arrests_black', 'pc_burglary_tot_arrests_white', 'pc_mtr_veh_theft_tot_arrests', 'pc_mtr_veh_theft_tot_arrests_black', 'pc_mtr_veh_theft_tot_arrests_white', 'pc_murder_tot_arrests', 'pc_murder_tot_arrests_black', 'pc_murder_tot_arrests_white', 'pc_rape_tot_arrests', 'pc_rape_tot_arrests_black', 'pc_rape_tot_arrests_white', 'pc_robbery_tot_arrests', 'pc_robbery_tot_arrests_black', 'pc_robbery_tot_arrests_white', 'pc_drug_tot_arrests', 'pc_drug_tot_arrests_black', 'pc_drug_tot_arrests_white', 'pc_sale_drug_tot_arrests', 'pc_sale_drug_tot_arrests_black', 'pc_sale_drug_tot_arrests_white', 'pc_poss_drug_tot_arrests', 'pc_poss_drug_tot_arrests_black', 'pc_poss_drug_tot_arrests_white', 'pc_larceny_theft_tot_arrests', 'pc_larceny_theft_tot_arrests_black', 'pc_larceny_theft_tot_arrests_white', 'pc_disorder_tot_arrests', 'pc_disorder_tot_arrests_black', 'pc_disorder_tot_arrests_white', 'pc_white_15_24', 'pc_black_15_24', 'pc_total_15_24', 'pc_educ_atnmnt_18_24_total', 'pc_tot_felonies_agency', 'pc_tot_misdemeanors_agency', 'pc_tot_felonies_cnty', 'pc_tot_misdemeanors_cnty', 'pc_tot_major_offenses_cnty', 'pc_perc_felonies', 'pc_perc_misdemeanors', 'pc_total_jail_pop', 'pc_total_prison_pop', 'pc_prison_occupancy_count', 'pc_jail_occupancy_count', 'pc_violent_crime', 'pc_property_crime', 'pc_total_crime', 'pc_violent_tot_arrests', 'pc_property_tot_arrests', 'pc_total_crime_tot_arrests', 'pc_violent_tot_arrests_black', 'pc_property_tot_arrests_black', 'pc_total_crime_tot_arrests_black', 'pc_violent_tot_arrests_white', 'pc_property_tot_arrests_white', 'pc_total_crime_tot_arrests_white', 'rape_rate', 'robbery_rate', 'simple_assault_rate', 'burglary_rate', 'larceny_rate', 'motor_vehicle_theft_rate', 'agg_assault_rate', 'murder_rate', 'violent_crime_rate', 'property_crime_rate', 'total_crime_rate', 'agg_assault_tot_arrests_rate', 'burglary_tot_arrests_rate', 'mtr_veh_theft_tot_arrests_rate', 'murder_tot_arrests_rate', 'rape_tot_arrests_rate', 'robbery_tot_arrests_rate', 'drug_tot_arrests_rate', 'sale_drug_tot_arrests_rate', 'poss_drug_tot_arrests_rate', 'larceny_theft_tot_arrests_rate', 'disorder_tot_arrests_rate', 'violent_tot_arrests_rate', 'property_tot_arrests_rate', 'total_crime_tot_arrests_rate', 'schl_enrl_tot_rate', 'schl_enrl_ugrad_rate', 'schl_enrl_grad_rate', 'emp_total_rate', 'agg_assault_tot_arrests_black_rate', 'burglary_tot_arrests_black_rate', 'mtr_veh_theft_tot_arrests_black_rate', 'murder_tot_arrests_black_rate', 'rape_tot_arrests_black_rate', 'robbery_tot_arrests_black_rate', 'drug_tot_arrests_black_rate', 'sale_drug_tot_arrests_black_rate', 'poss_drug_tot_arrests_black_rate', 'larceny_theft_tot_arrests_black_rate', 'disorder_tot_arrests_black_rate', 'violent_tot_arrests_black_rate', 'property_tot_arrests_black_rate', 'total_crime_tot_arrests_black_rate', 'emp_total_black_rate', 'burglary_tot_arrests_white_rate', 'agg_assault_tot_arrests_white_rate', 'mtr_veh_theft_tot_arrests_white_rate', 'murder_tot_arrests_white_rate', 'rape_tot_arrests_white_rate', 'robbery_tot_arrests_white_rate', 'drug_tot_arrests_white_rate', 'sale_drug_tot_arrests_white_rate', 'poss_drug_tot_arrests_white_rate', 'larceny_theft_tot_arrests_white_rate', 'disorder_tot_arrests_white_rate', 'violent_tot_arrests_white_rate', 'property_tot_arrests_white_rate', 'total_crime_tot_arrests_white_rate', 'emp_total_white_rate', 'educ_atnmnt_18_24_total_rate', 'prison_occupancy_count_rate', 'jail_occupancy_count_rate']\n"
     ]
    }
   ],
   "source": [
    "df_rates = get_all_rates(fl_path = '/Users/salma/Research/dissertation_work/data/final/10_20/final_10_20_all_rep_oris_core_counts_pc.csv')\n",
    "df_rates.to_csv('/Users/salma/Research/dissertation_work/data/final/10_20/final_10_20_all_rep_oris_core_counts_pc_rates.csv', index=False)\n",
    "print(df_rates.shape[0])\n",
    "print(list(df_rates))"
   ]
  },
  {
   "cell_type": "markdown",
   "metadata": {},
   "source": [
    "### categories"
   ]
  },
  {
   "cell_type": "code",
   "execution_count": 37,
   "metadata": {},
   "outputs": [
    {
     "name": "stdout",
     "output_type": "stream",
     "text": [
      "small_size_cities:  3323\n",
      "med_size_cities:  680\n",
      "large_size_cities:  445\n"
     ]
    }
   ],
   "source": [
    "categorize_agencies_by_pop_mean(fl_path = '/Users/salma/Research/dissertation_work/data/final/10_20/final_10_20_all_rep_oris_core_counts_pc_rates.csv',\n",
    "                                op_path='/Users/salma/Research/dissertation_work/data/final/10_20',\n",
    "                                fl_name='final_10_20_all_rep_oris_core_counts_pc_rates')\n"
   ]
  },
  {
   "cell_type": "code",
   "execution_count": null,
   "metadata": {},
   "outputs": [],
   "source": []
  },
  {
   "cell_type": "code",
   "execution_count": null,
   "metadata": {},
   "outputs": [],
   "source": []
  },
  {
   "cell_type": "code",
   "execution_count": null,
   "metadata": {},
   "outputs": [],
   "source": []
  },
  {
   "cell_type": "code",
   "execution_count": null,
   "metadata": {},
   "outputs": [],
   "source": []
  },
  {
   "cell_type": "code",
   "execution_count": null,
   "metadata": {},
   "outputs": [],
   "source": []
  },
  {
   "cell_type": "code",
   "execution_count": null,
   "metadata": {},
   "outputs": [],
   "source": []
  }
 ],
 "metadata": {
  "kernelspec": {
   "display_name": "us_crime_data_analysis",
   "language": "python",
   "name": "us_crime_data_analysis"
  },
  "language_info": {
   "codemirror_mode": {
    "name": "ipython",
    "version": 3
   },
   "file_extension": ".py",
   "mimetype": "text/x-python",
   "name": "python",
   "nbconvert_exporter": "python",
   "pygments_lexer": "ipython3",
   "version": "3.8.1"
  }
 },
 "nbformat": 4,
 "nbformat_minor": 4
}
