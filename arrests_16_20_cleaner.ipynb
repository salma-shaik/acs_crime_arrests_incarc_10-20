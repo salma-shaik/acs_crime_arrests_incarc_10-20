{
 "cells": [
  {
   "cell_type": "code",
   "execution_count": 2,
   "metadata": {},
   "outputs": [],
   "source": [
    "import pandas as pd"
   ]
  },
  {
   "cell_type": "code",
   "execution_count": 5,
   "metadata": {
    "collapsed": true
   },
   "outputs": [
    {
     "name": "stdout",
     "output_type": "stream",
     "text": [
      "5106 \n",
      "\n",
      "47691\n",
      "['ori', 'ori9', 'population', 'agency_name', 'year', 'state', 'state_abb', 'population_group', 'country_division', 'fips_state_code', 'fips_county_code', 'fips_state_county_code', 'fips_place_code', 'longitude', 'latitude', 'covered_by', 'number_of_months_reported', 'num_months_murder', 'num_months_rape', 'num_months_robbery', 'num_months_agg_assault', 'num_months_burglary', 'num_months_theft', 'num_months_mtr_veh_theft', 'num_months_arson', 'num_months_forgery', 'num_months_fraud', 'num_months_stolen_prop', 'num_months_dui', 'num_months_liquor', 'num_months_drunkenness', 'num_months_embezzlement', 'num_months_gamble_total', 'num_months_gamble_other', 'num_months_gamble_bookmake', 'num_months_gamble_lottery', 'num_months_total_drug', 'num_months_sale_cannabis', 'num_months_sale_heroin_coke', 'num_months_sale_other_drug', 'num_months_sale_synth_narc', 'num_months_vandalism', 'num_months_disorder_cond', 'num_months_all_other', 'num_months_curfew_loiter', 'num_months_vagrancy', 'num_months_runaways', 'num_months_suspicion', 'num_months_prostitution', 'num_months_oth_sex_off', 'num_months_family_off', 'num_months_oth_assault', 'num_months_weapons', 'num_months_manslaught_neg', 'agg_assault_adult_amer_ind', 'agg_assault_adult_asian', 'agg_assault_adult_black', 'agg_assault_adult_hispanic', 'agg_assault_adult_non_hisp', 'agg_assault_adult_white', 'agg_assault_juv_amer_ind', 'agg_assault_juv_asian', 'agg_assault_juv_black', 'agg_assault_juv_hispanic', 'agg_assault_juv_non_hisp', 'agg_assault_juv_white', 'agg_assault_tot_adult', 'agg_assault_tot_amer_ind', 'agg_assault_tot_arrests', 'agg_assault_tot_asian', 'agg_assault_tot_black', 'agg_assault_tot_female', 'agg_assault_tot_female_adult', 'agg_assault_tot_female_juv', 'agg_assault_tot_hispanic', 'agg_assault_tot_juv', 'agg_assault_tot_male', 'agg_assault_tot_male_adult', 'agg_assault_tot_male_juv', 'agg_assault_tot_non_hisp', 'agg_assault_tot_white', 'all_other_adult_amer_ind', 'all_other_adult_asian', 'all_other_adult_black', 'all_other_adult_hispanic', 'all_other_adult_non_hisp', 'all_other_adult_white', 'all_other_juv_amer_ind', 'all_other_juv_asian', 'all_other_juv_black', 'all_other_juv_hispanic', 'all_other_juv_non_hisp', 'all_other_juv_white', 'all_other_tot_adult', 'all_other_tot_amer_ind', 'all_other_tot_arrests', 'all_other_tot_asian', 'all_other_tot_black', 'all_other_tot_female', 'all_other_tot_female_adult', 'all_other_tot_female_juv', 'all_other_tot_hispanic', 'all_other_tot_juv', 'all_other_tot_male', 'all_other_tot_male_adult', 'all_other_tot_male_juv', 'all_other_tot_non_hisp', 'all_other_tot_white', 'arson_adult_amer_ind', 'arson_adult_asian', 'arson_adult_black', 'arson_adult_hispanic', 'arson_adult_non_hisp', 'arson_adult_white', 'arson_juv_amer_ind', 'arson_juv_asian', 'arson_juv_black', 'arson_juv_hispanic', 'arson_juv_non_hisp', 'arson_juv_white', 'arson_tot_adult', 'arson_tot_amer_ind', 'arson_tot_arrests', 'arson_tot_asian', 'arson_tot_black', 'arson_tot_female', 'arson_tot_female_adult', 'arson_tot_female_juv', 'arson_tot_hispanic', 'arson_tot_juv', 'arson_tot_male', 'arson_tot_male_adult', 'arson_tot_male_juv', 'arson_tot_non_hisp', 'arson_tot_white', 'burglary_adult_amer_ind', 'burglary_adult_asian', 'burglary_adult_black', 'burglary_adult_hispanic', 'burglary_adult_non_hisp', 'burglary_adult_white', 'burglary_juv_amer_ind', 'burglary_juv_asian', 'burglary_juv_black', 'burglary_juv_hispanic', 'burglary_juv_non_hisp', 'burglary_juv_white', 'burglary_tot_adult', 'burglary_tot_amer_ind', 'burglary_tot_arrests', 'burglary_tot_asian', 'burglary_tot_black', 'burglary_tot_female', 'burglary_tot_female_adult', 'burglary_tot_female_juv', 'burglary_tot_hispanic', 'burglary_tot_juv', 'burglary_tot_male', 'burglary_tot_male_adult', 'burglary_tot_male_juv', 'burglary_tot_non_hisp', 'burglary_tot_white', 'curfew_loiter_adult_amer_ind', 'curfew_loiter_adult_asian', 'curfew_loiter_adult_black', 'curfew_loiter_adult_hispanic', 'curfew_loiter_adult_non_hisp', 'curfew_loiter_adult_white', 'curfew_loiter_juv_amer_ind', 'curfew_loiter_juv_asian', 'curfew_loiter_juv_black', 'curfew_loiter_juv_hispanic', 'curfew_loiter_juv_non_hisp', 'curfew_loiter_juv_white', 'curfew_loiter_tot_adult', 'curfew_loiter_tot_amer_ind', 'curfew_loiter_tot_arrests', 'curfew_loiter_tot_asian', 'curfew_loiter_tot_black', 'curfew_loiter_tot_female', 'curfew_loiter_tot_female_adult', 'curfew_loiter_tot_female_juv', 'curfew_loiter_tot_hispanic', 'curfew_loiter_tot_juv', 'curfew_loiter_tot_male', 'curfew_loiter_tot_male_adult', 'curfew_loiter_tot_male_juv', 'curfew_loiter_tot_non_hisp', 'curfew_loiter_tot_white', 'disorder_cond_adult_amer_ind', 'disorder_cond_adult_asian', 'disorder_cond_adult_black', 'disorder_cond_adult_hispanic', 'disorder_cond_adult_non_hisp', 'disorder_cond_adult_white', 'disorder_cond_juv_amer_ind', 'disorder_cond_juv_asian', 'disorder_cond_juv_black', 'disorder_cond_juv_hispanic', 'disorder_cond_juv_non_hisp', 'disorder_cond_juv_white', 'disorder_cond_tot_adult', 'disorder_cond_tot_amer_ind', 'disorder_cond_tot_arrests', 'disorder_cond_tot_asian', 'disorder_cond_tot_black', 'disorder_cond_tot_female', 'disorder_cond_tot_female_adult', 'disorder_cond_tot_female_juv', 'disorder_cond_tot_hispanic', 'disorder_cond_tot_juv', 'disorder_cond_tot_male', 'disorder_cond_tot_male_adult', 'disorder_cond_tot_male_juv', 'disorder_cond_tot_non_hisp', 'disorder_cond_tot_white', 'drunkenness_adult_amer_ind', 'drunkenness_adult_asian', 'drunkenness_adult_black', 'drunkenness_adult_hispanic', 'drunkenness_adult_non_hisp', 'drunkenness_adult_white', 'drunkenness_juv_amer_ind', 'drunkenness_juv_asian', 'drunkenness_juv_black', 'drunkenness_juv_hispanic', 'drunkenness_juv_non_hisp', 'drunkenness_juv_white', 'drunkenness_tot_adult', 'drunkenness_tot_amer_ind', 'drunkenness_tot_arrests', 'drunkenness_tot_asian', 'drunkenness_tot_black', 'drunkenness_tot_female', 'drunkenness_tot_female_adult', 'drunkenness_tot_female_juv', 'drunkenness_tot_hispanic', 'drunkenness_tot_juv', 'drunkenness_tot_male', 'drunkenness_tot_male_adult', 'drunkenness_tot_male_juv', 'drunkenness_tot_non_hisp', 'drunkenness_tot_white', 'dui_adult_amer_ind', 'dui_adult_asian', 'dui_adult_black', 'dui_adult_hispanic', 'dui_adult_non_hisp', 'dui_adult_white', 'dui_juv_amer_ind', 'dui_juv_asian', 'dui_juv_black', 'dui_juv_hispanic', 'dui_juv_non_hisp', 'dui_juv_white', 'dui_tot_adult', 'dui_tot_amer_ind', 'dui_tot_arrests', 'dui_tot_asian', 'dui_tot_black', 'dui_tot_female', 'dui_tot_female_adult', 'dui_tot_female_juv', 'dui_tot_hispanic', 'dui_tot_juv', 'dui_tot_male', 'dui_tot_male_adult', 'dui_tot_male_juv', 'dui_tot_non_hisp', 'dui_tot_white', 'embezzlement_adult_amer_ind', 'embezzlement_adult_asian', 'embezzlement_adult_black', 'embezzlement_adult_hispanic', 'embezzlement_adult_non_hisp', 'embezzlement_adult_white', 'embezzlement_juv_amer_ind', 'embezzlement_juv_asian', 'embezzlement_juv_black', 'embezzlement_juv_hispanic', 'embezzlement_juv_non_hisp', 'embezzlement_juv_white', 'embezzlement_tot_adult', 'embezzlement_tot_amer_ind', 'embezzlement_tot_arrests', 'embezzlement_tot_asian', 'embezzlement_tot_black', 'embezzlement_tot_female', 'embezzlement_tot_female_adult', 'embezzlement_tot_female_juv', 'embezzlement_tot_hispanic', 'embezzlement_tot_juv', 'embezzlement_tot_male', 'embezzlement_tot_male_adult', 'embezzlement_tot_male_juv', 'embezzlement_tot_non_hisp', 'embezzlement_tot_white', 'family_off_adult_amer_ind', 'family_off_adult_asian', 'family_off_adult_black', 'family_off_adult_hispanic', 'family_off_adult_non_hisp', 'family_off_adult_white', 'family_off_juv_amer_ind', 'family_off_juv_asian', 'family_off_juv_black', 'family_off_juv_hispanic', 'family_off_juv_non_hisp', 'family_off_juv_white', 'family_off_tot_adult', 'family_off_tot_amer_ind', 'family_off_tot_arrests', 'family_off_tot_asian', 'family_off_tot_black', 'family_off_tot_female', 'family_off_tot_female_adult', 'family_off_tot_female_juv', 'family_off_tot_hispanic', 'family_off_tot_juv', 'family_off_tot_male', 'family_off_tot_male_adult', 'family_off_tot_male_juv', 'family_off_tot_non_hisp', 'family_off_tot_white', 'forgery_adult_amer_ind', 'forgery_adult_asian', 'forgery_adult_black', 'forgery_adult_hispanic', 'forgery_adult_non_hisp', 'forgery_adult_white', 'forgery_juv_amer_ind', 'forgery_juv_asian', 'forgery_juv_black', 'forgery_juv_hispanic', 'forgery_juv_non_hisp', 'forgery_juv_white', 'forgery_tot_adult', 'forgery_tot_amer_ind', 'forgery_tot_arrests', 'forgery_tot_asian', 'forgery_tot_black', 'forgery_tot_female', 'forgery_tot_female_adult', 'forgery_tot_female_juv', 'forgery_tot_hispanic', 'forgery_tot_juv', 'forgery_tot_male', 'forgery_tot_male_adult', 'forgery_tot_male_juv', 'forgery_tot_non_hisp', 'forgery_tot_white', 'fraud_adult_amer_ind', 'fraud_adult_asian', 'fraud_adult_black', 'fraud_adult_hispanic', 'fraud_adult_non_hisp', 'fraud_adult_white', 'fraud_juv_amer_ind', 'fraud_juv_asian', 'fraud_juv_black', 'fraud_juv_hispanic', 'fraud_juv_non_hisp', 'fraud_juv_white', 'fraud_tot_adult', 'fraud_tot_amer_ind', 'fraud_tot_arrests', 'fraud_tot_asian', 'fraud_tot_black', 'fraud_tot_female', 'fraud_tot_female_adult', 'fraud_tot_female_juv', 'fraud_tot_hispanic', 'fraud_tot_juv', 'fraud_tot_male', 'fraud_tot_male_adult', 'fraud_tot_male_juv', 'fraud_tot_non_hisp', 'fraud_tot_white', 'gamble_bookmake_adult_amer_ind', 'gamble_bookmake_adult_asian', 'gamble_bookmake_adult_black', 'gamble_bookmake_adult_hispanic', 'gamble_bookmake_adult_non_hisp', 'gamble_bookmake_adult_white', 'gamble_bookmake_juv_amer_ind', 'gamble_bookmake_juv_asian', 'gamble_bookmake_juv_black', 'gamble_bookmake_juv_hispanic', 'gamble_bookmake_juv_non_hisp', 'gamble_bookmake_juv_white', 'gamble_bookmake_tot_adult', 'gamble_bookmake_tot_amer_ind', 'gamble_bookmake_tot_arrests', 'gamble_bookmake_tot_asian', 'gamble_bookmake_tot_black', 'gamble_bookmake_tot_female', 'gamble_bookmake_tot_female_adul', 'gamble_bookmake_tot_female_juv', 'gamble_bookmake_tot_hispanic', 'gamble_bookmake_tot_juv', 'gamble_bookmake_tot_male', 'gamble_bookmake_tot_male_adult', 'gamble_bookmake_tot_male_juv', 'gamble_bookmake_tot_non_hisp', 'gamble_bookmake_tot_white', 'gamble_lottery_adult_amer_ind', 'gamble_lottery_adult_asian', 'gamble_lottery_adult_black', 'gamble_lottery_adult_hispanic', 'gamble_lottery_adult_non_hisp', 'gamble_lottery_adult_white', 'gamble_lottery_juv_amer_ind', 'gamble_lottery_juv_asian', 'gamble_lottery_juv_black', 'gamble_lottery_juv_hispanic', 'gamble_lottery_juv_non_hisp', 'gamble_lottery_juv_white', 'gamble_lottery_tot_adult', 'gamble_lottery_tot_amer_ind', 'gamble_lottery_tot_arrests', 'gamble_lottery_tot_asian', 'gamble_lottery_tot_black', 'gamble_lottery_tot_female', 'gamble_lottery_tot_female_adult', 'gamble_lottery_tot_female_juv', 'gamble_lottery_tot_hispanic', 'gamble_lottery_tot_juv', 'gamble_lottery_tot_male', 'gamble_lottery_tot_male_adult', 'gamble_lottery_tot_male_juv', 'gamble_lottery_tot_non_hisp', 'gamble_lottery_tot_white', 'gamble_other_adult_amer_ind', 'gamble_other_adult_asian', 'gamble_other_adult_black', 'gamble_other_adult_hispanic', 'gamble_other_adult_non_hisp', 'gamble_other_adult_white', 'gamble_other_juv_amer_ind', 'gamble_other_juv_asian', 'gamble_other_juv_black', 'gamble_other_juv_hispanic', 'gamble_other_juv_non_hisp', 'gamble_other_juv_white', 'gamble_other_tot_adult', 'gamble_other_tot_amer_ind', 'gamble_other_tot_arrests', 'gamble_other_tot_asian', 'gamble_other_tot_black', 'gamble_other_tot_female', 'gamble_other_tot_female_adult', 'gamble_other_tot_female_juv', 'gamble_other_tot_hispanic', 'gamble_other_tot_juv', 'gamble_other_tot_male', 'gamble_other_tot_male_adult', 'gamble_other_tot_male_juv', 'gamble_other_tot_non_hisp', 'gamble_other_tot_white', 'gamble_total_adult_amer_ind', 'gamble_total_adult_asian', 'gamble_total_adult_black', 'gamble_total_adult_hispanic', 'gamble_total_adult_non_hisp', 'gamble_total_adult_white', 'gamble_total_juv_amer_ind', 'gamble_total_juv_asian', 'gamble_total_juv_black', 'gamble_total_juv_hispanic', 'gamble_total_juv_non_hisp', 'gamble_total_juv_white', 'gamble_total_tot_adult', 'gamble_total_tot_amer_ind', 'gamble_total_tot_arrests', 'gamble_total_tot_asian', 'gamble_total_tot_black', 'gamble_total_tot_female', 'gamble_total_tot_female_adult', 'gamble_total_tot_female_juv', 'gamble_total_tot_hispanic', 'gamble_total_tot_juv', 'gamble_total_tot_male', 'gamble_total_tot_male_adult', 'gamble_total_tot_male_juv', 'gamble_total_tot_non_hisp', 'gamble_total_tot_white', 'liquor_adult_amer_ind', 'liquor_adult_asian', 'liquor_adult_black', 'liquor_adult_hispanic', 'liquor_adult_non_hisp', 'liquor_adult_white', 'liquor_juv_amer_ind', 'liquor_juv_asian', 'liquor_juv_black', 'liquor_juv_hispanic', 'liquor_juv_non_hisp', 'liquor_juv_white', 'liquor_tot_adult', 'liquor_tot_amer_ind', 'liquor_tot_arrests', 'liquor_tot_asian', 'liquor_tot_black', 'liquor_tot_female', 'liquor_tot_female_adult', 'liquor_tot_female_juv', 'liquor_tot_hispanic', 'liquor_tot_juv', 'liquor_tot_male', 'liquor_tot_male_adult', 'liquor_tot_male_juv', 'liquor_tot_non_hisp', 'liquor_tot_white', 'manslaught_neg_adult_amer_ind', 'manslaught_neg_adult_asian', 'manslaught_neg_adult_black', 'manslaught_neg_adult_hispanic', 'manslaught_neg_adult_non_hisp', 'manslaught_neg_adult_white', 'manslaught_neg_juv_amer_ind', 'manslaught_neg_juv_asian', 'manslaught_neg_juv_black', 'manslaught_neg_juv_hispanic', 'manslaught_neg_juv_non_hisp', 'manslaught_neg_juv_white', 'manslaught_neg_tot_adult', 'manslaught_neg_tot_amer_ind', 'manslaught_neg_tot_arrests', 'manslaught_neg_tot_asian', 'manslaught_neg_tot_black', 'manslaught_neg_tot_female', 'manslaught_neg_tot_female_adult', 'manslaught_neg_tot_female_juv', 'manslaught_neg_tot_hispanic', 'manslaught_neg_tot_juv', 'manslaught_neg_tot_male', 'manslaught_neg_tot_male_adult', 'manslaught_neg_tot_male_juv', 'manslaught_neg_tot_non_hisp', 'manslaught_neg_tot_white', 'mtr_veh_theft_adult_amer_ind', 'mtr_veh_theft_adult_asian', 'mtr_veh_theft_adult_black', 'mtr_veh_theft_adult_hispanic', 'mtr_veh_theft_adult_non_hisp', 'mtr_veh_theft_adult_white', 'mtr_veh_theft_juv_amer_ind', 'mtr_veh_theft_juv_asian', 'mtr_veh_theft_juv_black', 'mtr_veh_theft_juv_hispanic', 'mtr_veh_theft_juv_non_hisp', 'mtr_veh_theft_juv_white', 'mtr_veh_theft_tot_adult', 'mtr_veh_theft_tot_amer_ind', 'mtr_veh_theft_tot_arrests', 'mtr_veh_theft_tot_asian', 'mtr_veh_theft_tot_black', 'mtr_veh_theft_tot_female', 'mtr_veh_theft_tot_female_adult', 'mtr_veh_theft_tot_female_juv', 'mtr_veh_theft_tot_hispanic', 'mtr_veh_theft_tot_juv', 'mtr_veh_theft_tot_male', 'mtr_veh_theft_tot_male_adult', 'mtr_veh_theft_tot_male_juv', 'mtr_veh_theft_tot_non_hisp', 'mtr_veh_theft_tot_white', 'murder_adult_amer_ind', 'murder_adult_asian', 'murder_adult_black', 'murder_adult_hispanic', 'murder_adult_non_hisp', 'murder_adult_white', 'murder_juv_amer_ind', 'murder_juv_asian', 'murder_juv_black', 'murder_juv_hispanic', 'murder_juv_non_hisp', 'murder_juv_white', 'murder_tot_adult', 'murder_tot_amer_ind', 'murder_tot_arrests', 'murder_tot_asian', 'murder_tot_black', 'murder_tot_female', 'murder_tot_female_adult', 'murder_tot_female_juv', 'murder_tot_hispanic', 'murder_tot_juv', 'murder_tot_male', 'murder_tot_male_adult', 'murder_tot_male_juv', 'murder_tot_non_hisp', 'murder_tot_white', 'oth_assault_adult_amer_ind', 'oth_assault_adult_asian', 'oth_assault_adult_black', 'oth_assault_adult_hispanic', 'oth_assault_adult_non_hisp', 'oth_assault_adult_white', 'oth_assault_juv_amer_ind', 'oth_assault_juv_asian', 'oth_assault_juv_black', 'oth_assault_juv_hispanic', 'oth_assault_juv_non_hisp', 'oth_assault_juv_white', 'oth_assault_tot_adult', 'oth_assault_tot_amer_ind', 'oth_assault_tot_arrests', 'oth_assault_tot_asian', 'oth_assault_tot_black', 'oth_assault_tot_female', 'oth_assault_tot_female_adult', 'oth_assault_tot_female_juv', 'oth_assault_tot_hispanic', 'oth_assault_tot_juv', 'oth_assault_tot_male', 'oth_assault_tot_male_adult', 'oth_assault_tot_male_juv', 'oth_assault_tot_non_hisp', 'oth_assault_tot_white', 'oth_sex_off_adult_amer_ind', 'oth_sex_off_adult_asian', 'oth_sex_off_adult_black', 'oth_sex_off_adult_hispanic', 'oth_sex_off_adult_non_hisp', 'oth_sex_off_adult_white', 'oth_sex_off_juv_amer_ind', 'oth_sex_off_juv_asian', 'oth_sex_off_juv_black', 'oth_sex_off_juv_hispanic', 'oth_sex_off_juv_non_hisp', 'oth_sex_off_juv_white', 'oth_sex_off_tot_adult', 'oth_sex_off_tot_amer_ind', 'oth_sex_off_tot_arrests', 'oth_sex_off_tot_asian', 'oth_sex_off_tot_black', 'oth_sex_off_tot_female', 'oth_sex_off_tot_female_adult', 'oth_sex_off_tot_female_juv', 'oth_sex_off_tot_hispanic', 'oth_sex_off_tot_juv', 'oth_sex_off_tot_male', 'oth_sex_off_tot_male_adult', 'oth_sex_off_tot_male_juv', 'oth_sex_off_tot_non_hisp', 'oth_sex_off_tot_white', 'prostitution_adult_amer_ind', 'prostitution_adult_asian', 'prostitution_adult_black', 'prostitution_adult_hispanic', 'prostitution_adult_non_hisp', 'prostitution_adult_white', 'prostitution_juv_amer_ind', 'prostitution_juv_asian', 'prostitution_juv_black', 'prostitution_juv_hispanic', 'prostitution_juv_non_hisp', 'prostitution_juv_white', 'prostitution_tot_adult', 'prostitution_tot_amer_ind', 'prostitution_tot_arrests', 'prostitution_tot_asian', 'prostitution_tot_black', 'prostitution_tot_female', 'prostitution_tot_female_adult', 'prostitution_tot_female_juv', 'prostitution_tot_hispanic', 'prostitution_tot_juv', 'prostitution_tot_male', 'prostitution_tot_male_adult', 'prostitution_tot_male_juv', 'prostitution_tot_non_hisp', 'prostitution_tot_white', 'rape_adult_amer_ind', 'rape_adult_asian', 'rape_adult_black', 'rape_adult_hispanic', 'rape_adult_non_hisp', 'rape_adult_white', 'rape_juv_amer_ind', 'rape_juv_asian', 'rape_juv_black', 'rape_juv_hispanic', 'rape_juv_non_hisp', 'rape_juv_white', 'rape_tot_adult', 'rape_tot_amer_ind', 'rape_tot_arrests', 'rape_tot_asian', 'rape_tot_black', 'rape_tot_female', 'rape_tot_female_adult', 'rape_tot_female_juv', 'rape_tot_hispanic', 'rape_tot_juv', 'rape_tot_male', 'rape_tot_male_adult', 'rape_tot_male_juv', 'rape_tot_non_hisp', 'rape_tot_white', 'robbery_adult_amer_ind', 'robbery_adult_asian', 'robbery_adult_black', 'robbery_adult_hispanic', 'robbery_adult_non_hisp', 'robbery_adult_white', 'robbery_juv_amer_ind', 'robbery_juv_asian', 'robbery_juv_black', 'robbery_juv_hispanic', 'robbery_juv_non_hisp', 'robbery_juv_white', 'robbery_tot_adult', 'robbery_tot_amer_ind', 'robbery_tot_arrests', 'robbery_tot_asian', 'robbery_tot_black', 'robbery_tot_female', 'robbery_tot_female_adult', 'robbery_tot_female_juv', 'robbery_tot_hispanic', 'robbery_tot_juv', 'robbery_tot_male', 'robbery_tot_male_adult', 'robbery_tot_male_juv', 'robbery_tot_non_hisp', 'robbery_tot_white', 'runaways_adult_amer_ind', 'runaways_adult_asian', 'runaways_adult_black', 'runaways_adult_hispanic', 'runaways_adult_non_hisp', 'runaways_adult_white', 'runaways_juv_amer_ind', 'runaways_juv_asian', 'runaways_juv_black', 'runaways_juv_hispanic', 'runaways_juv_non_hisp', 'runaways_juv_white', 'runaways_tot_adult', 'runaways_tot_amer_ind', 'runaways_tot_arrests', 'runaways_tot_asian', 'runaways_tot_black', 'runaways_tot_female', 'runaways_tot_female_adult', 'runaways_tot_female_juv', 'runaways_tot_hispanic', 'runaways_tot_juv', 'runaways_tot_male', 'runaways_tot_male_adult', 'runaways_tot_male_juv', 'runaways_tot_non_hisp', 'runaways_tot_white', 'sale_cannabis_adult_amer_ind', 'sale_cannabis_adult_asian', 'sale_cannabis_adult_black', 'sale_cannabis_adult_hispanic', 'sale_cannabis_adult_non_hisp', 'sale_cannabis_adult_white', 'sale_cannabis_juv_amer_ind', 'sale_cannabis_juv_asian', 'sale_cannabis_juv_black', 'sale_cannabis_juv_hispanic', 'sale_cannabis_juv_non_hisp', 'sale_cannabis_juv_white', 'sale_cannabis_tot_adult', 'sale_cannabis_tot_amer_ind', 'sale_cannabis_tot_arrests', 'sale_cannabis_tot_asian', 'sale_cannabis_tot_black', 'sale_cannabis_tot_female', 'sale_cannabis_tot_female_adult', 'sale_cannabis_tot_female_juv', 'sale_cannabis_tot_hispanic', 'sale_cannabis_tot_juv', 'sale_cannabis_tot_male', 'sale_cannabis_tot_male_adult', 'sale_cannabis_tot_male_juv', 'sale_cannabis_tot_non_hisp', 'sale_cannabis_tot_white', 'sale_heroin_coke_adult_amer_ind', 'sale_heroin_coke_adult_asian', 'sale_heroin_coke_adult_black', 'sale_heroin_coke_adult_hispanic', 'sale_heroin_coke_adult_non_hisp', 'sale_heroin_coke_adult_white', 'sale_heroin_coke_juv_amer_ind', 'sale_heroin_coke_juv_asian', 'sale_heroin_coke_juv_black', 'sale_heroin_coke_juv_hispanic', 'sale_heroin_coke_juv_non_hisp', 'sale_heroin_coke_juv_white', 'sale_heroin_coke_tot_adult', 'sale_heroin_coke_tot_amer_ind', 'sale_heroin_coke_tot_arrests', 'sale_heroin_coke_tot_asian', 'sale_heroin_coke_tot_black', 'sale_heroin_coke_tot_female', 'sale_heroin_coke_tot_female_adu', 'sale_heroin_coke_tot_female_juv', 'sale_heroin_coke_tot_hispanic', 'sale_heroin_coke_tot_juv', 'sale_heroin_coke_tot_male', 'sale_heroin_coke_tot_male_adult', 'sale_heroin_coke_tot_male_juv', 'sale_heroin_coke_tot_non_hisp', 'sale_heroin_coke_tot_white', 'sale_other_drug_adult_amer_ind', 'sale_other_drug_adult_asian', 'sale_other_drug_adult_black', 'sale_other_drug_adult_hispanic', 'sale_other_drug_adult_non_hisp', 'sale_other_drug_adult_white', 'sale_other_drug_juv_amer_ind', 'sale_other_drug_juv_asian', 'sale_other_drug_juv_black', 'sale_other_drug_juv_hispanic', 'sale_other_drug_juv_non_hisp', 'sale_other_drug_juv_white', 'sale_other_drug_tot_adult', 'sale_other_drug_tot_amer_ind', 'sale_other_drug_tot_arrests', 'sale_other_drug_tot_asian', 'sale_other_drug_tot_black', 'sale_other_drug_tot_female', 'sale_other_drug_tot_female_adul', 'sale_other_drug_tot_female_juv', 'sale_other_drug_tot_hispanic', 'sale_other_drug_tot_juv', 'sale_other_drug_tot_male', 'sale_other_drug_tot_male_adult', 'sale_other_drug_tot_male_juv', 'sale_other_drug_tot_non_hisp', 'sale_other_drug_tot_white', 'sale_synth_narc_adult_amer_ind', 'sale_synth_narc_adult_asian', 'sale_synth_narc_adult_black', 'sale_synth_narc_adult_hispanic', 'sale_synth_narc_adult_non_hisp', 'sale_synth_narc_adult_white', 'sale_synth_narc_juv_amer_ind', 'sale_synth_narc_juv_asian', 'sale_synth_narc_juv_black', 'sale_synth_narc_juv_hispanic', 'sale_synth_narc_juv_non_hisp', 'sale_synth_narc_juv_white', 'sale_synth_narc_tot_adult', 'sale_synth_narc_tot_amer_ind', 'sale_synth_narc_tot_arrests', 'sale_synth_narc_tot_asian', 'sale_synth_narc_tot_black', 'sale_synth_narc_tot_female', 'sale_synth_narc_tot_female_adul', 'sale_synth_narc_tot_female_juv', 'sale_synth_narc_tot_hispanic', 'sale_synth_narc_tot_juv', 'sale_synth_narc_tot_male', 'sale_synth_narc_tot_male_adult', 'sale_synth_narc_tot_male_juv', 'sale_synth_narc_tot_non_hisp', 'sale_synth_narc_tot_white', 'stolen_prop_adult_amer_ind', 'stolen_prop_adult_asian', 'stolen_prop_adult_black', 'stolen_prop_adult_hispanic', 'stolen_prop_adult_non_hisp', 'stolen_prop_adult_white', 'stolen_prop_juv_amer_ind', 'stolen_prop_juv_asian', 'stolen_prop_juv_black', 'stolen_prop_juv_hispanic', 'stolen_prop_juv_non_hisp', 'stolen_prop_juv_white', 'stolen_prop_tot_adult', 'stolen_prop_tot_amer_ind', 'stolen_prop_tot_arrests', 'stolen_prop_tot_asian', 'stolen_prop_tot_black', 'stolen_prop_tot_female', 'stolen_prop_tot_female_adult', 'stolen_prop_tot_female_juv', 'stolen_prop_tot_hispanic', 'stolen_prop_tot_juv', 'stolen_prop_tot_male', 'stolen_prop_tot_male_adult', 'stolen_prop_tot_male_juv', 'stolen_prop_tot_non_hisp', 'stolen_prop_tot_white', 'suspicion_adult_amer_ind', 'suspicion_adult_asian', 'suspicion_adult_black', 'suspicion_adult_hispanic', 'suspicion_adult_non_hisp', 'suspicion_adult_white', 'suspicion_juv_amer_ind', 'suspicion_juv_asian', 'suspicion_juv_black', 'suspicion_juv_hispanic', 'suspicion_juv_non_hisp', 'suspicion_juv_white', 'suspicion_tot_adult', 'suspicion_tot_amer_ind', 'suspicion_tot_arrests', 'suspicion_tot_asian', 'suspicion_tot_black', 'suspicion_tot_female', 'suspicion_tot_female_adult', 'suspicion_tot_female_juv', 'suspicion_tot_hispanic', 'suspicion_tot_juv', 'suspicion_tot_male', 'suspicion_tot_male_adult', 'suspicion_tot_male_juv', 'suspicion_tot_non_hisp', 'suspicion_tot_white', 'theft_adult_amer_ind', 'theft_adult_asian', 'theft_adult_black', 'theft_adult_hispanic', 'theft_adult_non_hisp', 'theft_adult_white', 'theft_juv_amer_ind', 'theft_juv_asian', 'theft_juv_black', 'theft_juv_hispanic', 'theft_juv_non_hisp', 'theft_juv_white', 'theft_tot_adult', 'theft_tot_amer_ind', 'theft_tot_arrests', 'theft_tot_asian', 'theft_tot_black', 'theft_tot_female', 'theft_tot_female_adult', 'theft_tot_female_juv', 'theft_tot_hispanic', 'theft_tot_juv', 'theft_tot_male', 'theft_tot_male_adult', 'theft_tot_male_juv', 'theft_tot_non_hisp', 'theft_tot_white', 'total_drug_adult_amer_ind', 'total_drug_adult_asian', 'total_drug_adult_black', 'total_drug_adult_hispanic', 'total_drug_adult_non_hisp', 'total_drug_adult_white', 'total_drug_juv_amer_ind', 'total_drug_juv_asian', 'total_drug_juv_black', 'total_drug_juv_hispanic', 'total_drug_juv_non_hisp', 'total_drug_juv_white', 'total_drug_tot_adult', 'total_drug_tot_amer_ind', 'total_drug_tot_arrests', 'total_drug_tot_asian', 'total_drug_tot_black', 'total_drug_tot_female', 'total_drug_tot_female_adult', 'total_drug_tot_female_juv', 'total_drug_tot_hispanic', 'total_drug_tot_juv', 'total_drug_tot_male', 'total_drug_tot_male_adult', 'total_drug_tot_male_juv', 'total_drug_tot_non_hisp', 'total_drug_tot_white', 'vagrancy_adult_amer_ind', 'vagrancy_adult_asian', 'vagrancy_adult_black', 'vagrancy_adult_hispanic', 'vagrancy_adult_non_hisp', 'vagrancy_adult_white', 'vagrancy_juv_amer_ind', 'vagrancy_juv_asian', 'vagrancy_juv_black', 'vagrancy_juv_hispanic', 'vagrancy_juv_non_hisp', 'vagrancy_juv_white', 'vagrancy_tot_adult', 'vagrancy_tot_amer_ind', 'vagrancy_tot_arrests', 'vagrancy_tot_asian', 'vagrancy_tot_black', 'vagrancy_tot_female', 'vagrancy_tot_female_adult', 'vagrancy_tot_female_juv', 'vagrancy_tot_hispanic', 'vagrancy_tot_juv', 'vagrancy_tot_male', 'vagrancy_tot_male_adult', 'vagrancy_tot_male_juv', 'vagrancy_tot_non_hisp', 'vagrancy_tot_white', 'vandalism_adult_amer_ind', 'vandalism_adult_asian', 'vandalism_adult_black', 'vandalism_adult_hispanic', 'vandalism_adult_non_hisp', 'vandalism_adult_white', 'vandalism_juv_amer_ind', 'vandalism_juv_asian', 'vandalism_juv_black', 'vandalism_juv_hispanic', 'vandalism_juv_non_hisp', 'vandalism_juv_white', 'vandalism_tot_adult', 'vandalism_tot_amer_ind', 'vandalism_tot_arrests', 'vandalism_tot_asian', 'vandalism_tot_black', 'vandalism_tot_female', 'vandalism_tot_female_adult', 'vandalism_tot_female_juv', 'vandalism_tot_hispanic', 'vandalism_tot_juv', 'vandalism_tot_male', 'vandalism_tot_male_adult', 'vandalism_tot_male_juv', 'vandalism_tot_non_hisp', 'vandalism_tot_white', 'weapons_adult_amer_ind', 'weapons_adult_asian', 'weapons_adult_black', 'weapons_adult_hispanic', 'weapons_adult_non_hisp', 'weapons_adult_white', 'weapons_juv_amer_ind', 'weapons_juv_asian', 'weapons_juv_black', 'weapons_juv_hispanic', 'weapons_juv_non_hisp', 'weapons_juv_white', 'weapons_tot_adult', 'weapons_tot_amer_ind', 'weapons_tot_arrests', 'weapons_tot_asian', 'weapons_tot_black', 'weapons_tot_female', 'weapons_tot_female_adult', 'weapons_tot_female_juv', 'weapons_tot_hispanic', 'weapons_tot_juv', 'weapons_tot_male', 'weapons_tot_male_adult', 'weapons_tot_male_juv', 'weapons_tot_non_hisp', 'weapons_tot_white', 'juv_handled_within_department', 'juv_referred_to_juv_court', 'juv_referred_to_welfare', 'juv_referred_to_police', 'juv_referred_to_crim_court', 'num_months_sale_drug_total', 'num_months_poss_drug_total', 'num_months_poss_cannabis', 'num_months_poss_heroin_coke', 'num_months_poss_other_drug', 'num_months_poss_synth_narc', 'poss_cannabis_adult_amer_ind', 'poss_cannabis_adult_asian', 'poss_cannabis_adult_black', 'poss_cannabis_adult_hispanic', 'poss_cannabis_adult_non_hisp', 'poss_cannabis_adult_white', 'poss_cannabis_juv_amer_ind', 'poss_cannabis_juv_asian', 'poss_cannabis_juv_black', 'poss_cannabis_juv_hispanic', 'poss_cannabis_juv_non_hisp', 'poss_cannabis_juv_white', 'poss_cannabis_tot_adult', 'poss_cannabis_tot_amer_ind', 'poss_cannabis_tot_arrests', 'poss_cannabis_tot_asian', 'poss_cannabis_tot_black', 'poss_cannabis_tot_female', 'poss_cannabis_tot_female_adult', 'poss_cannabis_tot_female_juv', 'poss_cannabis_tot_hispanic', 'poss_cannabis_tot_juv', 'poss_cannabis_tot_male', 'poss_cannabis_tot_male_adult', 'poss_cannabis_tot_male_juv', 'poss_cannabis_tot_non_hisp', 'poss_cannabis_tot_white', 'poss_drug_total_adult_amer_ind', 'poss_drug_total_adult_asian', 'poss_drug_total_adult_black', 'poss_drug_total_adult_hispanic', 'poss_drug_total_adult_non_hisp', 'poss_drug_total_adult_white', 'poss_drug_total_juv_amer_ind', 'poss_drug_total_juv_asian', 'poss_drug_total_juv_black', 'poss_drug_total_juv_hispanic', 'poss_drug_total_juv_non_hisp', 'poss_drug_total_juv_white', 'poss_drug_total_tot_adult', 'poss_drug_total_tot_amer_ind', 'poss_drug_total_tot_arrests', 'poss_drug_total_tot_asian', 'poss_drug_total_tot_black', 'poss_drug_total_tot_female', 'poss_drug_total_tot_female_adul', 'poss_drug_total_tot_female_juv', 'poss_drug_total_tot_hispanic', 'poss_drug_total_tot_juv', 'poss_drug_total_tot_male', 'poss_drug_total_tot_male_adult', 'poss_drug_total_tot_male_juv', 'poss_drug_total_tot_non_hisp', 'poss_drug_total_tot_white', 'poss_heroin_coke_adult_amer_ind', 'poss_heroin_coke_adult_asian', 'poss_heroin_coke_adult_black', 'poss_heroin_coke_adult_hispanic', 'poss_heroin_coke_adult_non_hisp', 'poss_heroin_coke_adult_white', 'poss_heroin_coke_juv_amer_ind', 'poss_heroin_coke_juv_asian', 'poss_heroin_coke_juv_black', 'poss_heroin_coke_juv_hispanic', 'poss_heroin_coke_juv_non_hisp', 'poss_heroin_coke_juv_white', 'poss_heroin_coke_tot_adult', 'poss_heroin_coke_tot_amer_ind', 'poss_heroin_coke_tot_arrests', 'poss_heroin_coke_tot_asian', 'poss_heroin_coke_tot_black', 'poss_heroin_coke_tot_female', 'poss_heroin_coke_tot_female_adu', 'poss_heroin_coke_tot_female_juv', 'poss_heroin_coke_tot_hispanic', 'poss_heroin_coke_tot_juv', 'poss_heroin_coke_tot_male', 'poss_heroin_coke_tot_male_adult', 'poss_heroin_coke_tot_male_juv', 'poss_heroin_coke_tot_non_hisp', 'poss_heroin_coke_tot_white', 'poss_other_drug_adult_amer_ind', 'poss_other_drug_adult_asian', 'poss_other_drug_adult_black', 'poss_other_drug_adult_hispanic', 'poss_other_drug_adult_non_hisp', 'poss_other_drug_adult_white', 'poss_other_drug_juv_amer_ind', 'poss_other_drug_juv_asian', 'poss_other_drug_juv_black', 'poss_other_drug_juv_hispanic', 'poss_other_drug_juv_non_hisp', 'poss_other_drug_juv_white', 'poss_other_drug_tot_adult', 'poss_other_drug_tot_amer_ind', 'poss_other_drug_tot_arrests', 'poss_other_drug_tot_asian', 'poss_other_drug_tot_black', 'poss_other_drug_tot_female', 'poss_other_drug_tot_female_adul', 'poss_other_drug_tot_female_juv', 'poss_other_drug_tot_hispanic', 'poss_other_drug_tot_juv', 'poss_other_drug_tot_male', 'poss_other_drug_tot_male_adult', 'poss_other_drug_tot_male_juv', 'poss_other_drug_tot_non_hisp', 'poss_other_drug_tot_white', 'poss_synth_narc_adult_amer_ind', 'poss_synth_narc_adult_asian', 'poss_synth_narc_adult_black', 'poss_synth_narc_adult_hispanic', 'poss_synth_narc_adult_non_hisp', 'poss_synth_narc_adult_white', 'poss_synth_narc_juv_amer_ind', 'poss_synth_narc_juv_asian', 'poss_synth_narc_juv_black', 'poss_synth_narc_juv_hispanic', 'poss_synth_narc_juv_non_hisp', 'poss_synth_narc_juv_white', 'poss_synth_narc_tot_adult', 'poss_synth_narc_tot_amer_ind', 'poss_synth_narc_tot_arrests', 'poss_synth_narc_tot_asian', 'poss_synth_narc_tot_black', 'poss_synth_narc_tot_female', 'poss_synth_narc_tot_female_adul', 'poss_synth_narc_tot_female_juv', 'poss_synth_narc_tot_hispanic', 'poss_synth_narc_tot_juv', 'poss_synth_narc_tot_male', 'poss_synth_narc_tot_male_adult', 'poss_synth_narc_tot_male_juv', 'poss_synth_narc_tot_non_hisp', 'poss_synth_narc_tot_white', 'sale_drug_total_adult_amer_ind', 'sale_drug_total_adult_asian', 'sale_drug_total_adult_black', 'sale_drug_total_adult_hispanic', 'sale_drug_total_adult_non_hisp', 'sale_drug_total_adult_white', 'sale_drug_total_juv_amer_ind', 'sale_drug_total_juv_asian', 'sale_drug_total_juv_black', 'sale_drug_total_juv_hispanic', 'sale_drug_total_juv_non_hisp', 'sale_drug_total_juv_white', 'sale_drug_total_tot_adult', 'sale_drug_total_tot_amer_ind', 'sale_drug_total_tot_arrests', 'sale_drug_total_tot_asian', 'sale_drug_total_tot_black', 'sale_drug_total_tot_female', 'sale_drug_total_tot_female_adul', 'sale_drug_total_tot_female_juv', 'sale_drug_total_tot_hispanic', 'sale_drug_total_tot_juv', 'sale_drug_total_tot_male', 'sale_drug_total_tot_male_adult', 'sale_drug_total_tot_male_juv', 'sale_drug_total_tot_non_hisp', 'sale_drug_total_tot_white', 'address_name', 'address_street_line_1', 'address_street_line_2', 'address_city', 'address_state', 'address_zip_code']\n"
     ]
    }
   ],
   "source": [
    "arrests_df = pd.read_stata('/Users/salma/Research/dissertation_work/data/arrests_jkap/ucr_arrests_yearly_data_1974_2020_dta/ucr_arrests_yearly_all_crimes_race_sex_1974_2020.dta')\n",
    "\n",
    "## Get the data after 2010 for agencies with pop > 10,000 and reported data for all months\n",
    "arrests_df_10_20  = arrests_df.query('year > 2009 and population > 10000 and number_of_months_reported == 12')\n",
    "\n",
    "print(arrests_df_10_20['ori'].nunique(), '\\n')\n",
    "print(arrests_df_10_20.shape[0])\n",
    "print(list(arrests_df_10_20))"
   ]
  },
  {
   "cell_type": "code",
   "execution_count": null,
   "metadata": {},
   "outputs": [],
   "source": []
  },
  {
   "cell_type": "markdown",
   "metadata": {},
   "source": [
    "### Getting Required Arrest Vars\n",
    "\n"
   ]
  },
  {
   "cell_type": "code",
   "execution_count": 23,
   "metadata": {},
   "outputs": [
    {
     "data": {
      "text/plain": [
       "47691"
      ]
     },
     "execution_count": 23,
     "metadata": {},
     "output_type": "execute_result"
    }
   ],
   "source": [
    "arrests_df_10_20_req = arrests_df_10_20.loc[:, ['ori', 'population', 'agency_name', 'year', 'state', \n",
    "                                                'fips_state_code', 'fips_county_code', 'fips_place_code', \n",
    "                                                'longitude', 'latitude', \n",
    "                                                \n",
    "                                                'agg_assault_tot_arrests',\n",
    "                                                'agg_assault_tot_male', \n",
    "                                                'agg_assault_tot_female', \n",
    "                                                'agg_assault_tot_black', \n",
    "                                                'agg_assault_tot_white',\n",
    "                                               \n",
    "                                                'oth_assault_tot_arrests',\n",
    "                                                'oth_assault_tot_male', \n",
    "                                                'oth_assault_tot_female', \n",
    "                                                'oth_assault_tot_black', \n",
    "                                                'oth_assault_tot_white',\n",
    "                                               \n",
    "                                                'arson_tot_arrests',\n",
    "                                                'arson_tot_female',\n",
    "                                                'arson_tot_black',\n",
    "                                                'arson_tot_male',\n",
    "                                                'arson_tot_white',\n",
    "                                                \n",
    "                                                'burglary_tot_arrests',\n",
    "                                                'burglary_tot_female',\n",
    "                                                'burglary_tot_black',\n",
    "                                                'burglary_tot_male',\n",
    "                                                'burglary_tot_white',\n",
    "                                                \n",
    "                                                'mtr_veh_theft_tot_arrests',\n",
    "                                                'mtr_veh_theft_tot_female',\n",
    "                                                'mtr_veh_theft_tot_black',\n",
    "                                                'mtr_veh_theft_tot_male',\n",
    "                                                'mtr_veh_theft_tot_white',\n",
    "                                                \n",
    "                                                'murder_tot_arrests',\n",
    "                                                'murder_tot_female',\n",
    "                                                'murder_tot_black',\n",
    "                                                'murder_tot_male',\n",
    "                                                'murder_tot_white',\n",
    "\n",
    "                                                'rape_tot_arrests',\n",
    "                                                'rape_tot_female',\n",
    "                                                'rape_tot_black',\n",
    "                                                'rape_tot_male',\n",
    "                                                'rape_tot_white',\n",
    "\n",
    "                                                'robbery_tot_arrests',\n",
    "                                                'robbery_tot_female',\n",
    "                                                'robbery_tot_black',\n",
    "                                                'robbery_tot_male',\n",
    "                                                'robbery_tot_white',\n",
    "                                                \n",
    "                                                'total_drug_tot_arrests',\n",
    "                                                'total_drug_tot_female',\n",
    "                                                'total_drug_tot_black',\n",
    "                                                'total_drug_tot_male',\n",
    "                                                'total_drug_tot_white',\n",
    "\n",
    "                                                'sale_drug_total_tot_arrests',\n",
    "                                                'sale_drug_total_tot_female',\n",
    "                                                'sale_drug_total_tot_black',\n",
    "                                                'sale_drug_total_tot_male',\n",
    "                                                'sale_drug_total_tot_white',\n",
    "\n",
    "                                                'poss_drug_total_tot_arrests',\n",
    "                                                'poss_drug_total_tot_female',\n",
    "                                                'poss_drug_total_tot_black',\n",
    "                                                'poss_drug_total_tot_male',\n",
    "                                                'poss_drug_total_tot_white',\n",
    "                                                \n",
    "                                                'stolen_prop_tot_arrests',\n",
    "                                                'stolen_prop_tot_male', \n",
    "                                                'stolen_prop_tot_female', \n",
    "                                                'stolen_prop_tot_black', \n",
    "                                                'stolen_prop_tot_white',\n",
    "\n",
    "                                                'theft_tot_arrests',\n",
    "                                                'theft_tot_male', \n",
    "                                                'theft_tot_female', \n",
    "                                                'theft_tot_black', \n",
    "                                                'theft_tot_white',\n",
    "\n",
    "                                                'curfew_loiter_tot_arrests',\n",
    "                                                'curfew_loiter_tot_male', \n",
    "                                                'curfew_loiter_tot_female', \n",
    "                                                'curfew_loiter_tot_black', \n",
    "                                                'curfew_loiter_tot_white',\n",
    "\n",
    "                                                'disorder_cond_tot_arrests',\n",
    "                                                'disorder_cond_tot_male', \n",
    "                                                'disorder_cond_tot_female', \n",
    "                                                'disorder_cond_tot_black', \n",
    "                                                'disorder_cond_tot_white',\n",
    "\n",
    "                                                'drunkenness_tot_arrests',\n",
    "                                                'drunkenness_tot_male', \n",
    "                                                'drunkenness_tot_female', \n",
    "                                                'drunkenness_tot_black', \n",
    "                                                'drunkenness_tot_white',\n",
    "\n",
    "                                                'runaways_tot_arrests',\n",
    "                                                'runaways_tot_male', \n",
    "                                                'runaways_tot_female', \n",
    "                                                'runaways_tot_black', \n",
    "                                                'runaways_tot_white',\n",
    "\n",
    "                                                'prostitution_tot_arrests',\n",
    "                                                'prostitution_tot_male', \n",
    "                                                'prostitution_tot_female', \n",
    "                                                'prostitution_tot_black', \n",
    "                                                'prostitution_tot_white',\n",
    "\n",
    "                                                'vagrancy_tot_arrests',\n",
    "                                                'vagrancy_tot_male', \n",
    "                                                'vagrancy_tot_female', \n",
    "                                                'vagrancy_tot_black', \n",
    "                                                'vagrancy_tot_white',\n",
    "\n",
    "                                                'vandalism_tot_arrests',\n",
    "                                                'vandalism_tot_male', \n",
    "                                                'vandalism_tot_female', \n",
    "                                                'vandalism_tot_black', \n",
    "                                                'vandalism_tot_white'\n",
    "                                                ]]\n",
    "\n",
    "arrests_df_10_20_req.shape[0]"
   ]
  },
  {
   "cell_type": "markdown",
   "metadata": {},
   "source": [
    "### Create Required New Vars"
   ]
  },
  {
   "cell_type": "code",
   "execution_count": 24,
   "metadata": {},
   "outputs": [],
   "source": [
    "arrests_df_10_20_req['larceny_theft_arrests_tot'] = arrests_df_10_20_req['stolen_prop_tot_arrests'] + arrests_df_10_20_req['theft_tot_arrests']\n",
    "\n",
    "arrests_df_10_20_req['larceny_theft_arrests_tot_male'] = arrests_df_10_20_req['stolen_prop_tot_male'] + arrests_df_10_20_req['theft_tot_male']\n",
    "\n",
    "arrests_df_10_20_req['larceny_theft_arrests_tot_female'] = arrests_df_10_20_req['stolen_prop_tot_female'] + arrests_df_10_20_req['theft_tot_female']\n",
    "\n",
    "arrests_df_10_20_req['larceny_theft_arrests_tot_black'] = arrests_df_10_20_req['stolen_prop_tot_black'] + arrests_df_10_20_req['theft_tot_black']\n",
    "\n",
    "arrests_df_10_20_req['larceny_theft_arrests_tot_white'] = arrests_df_10_20_req['stolen_prop_tot_white'] + arrests_df_10_20_req['theft_tot_white']    \n",
    "\n",
    "\n",
    "arrests_df_10_20_req.drop(['stolen_prop_tot_arrests',\n",
    "                            'stolen_prop_tot_male', \n",
    "                            'stolen_prop_tot_female', \n",
    "                            'stolen_prop_tot_black', \n",
    "                            'stolen_prop_tot_white',\n",
    "\n",
    "                            'theft_tot_arrests',\n",
    "                            'theft_tot_male', \n",
    "                            'theft_tot_female', \n",
    "                            'theft_tot_black', \n",
    "                            'theft_tot_white'], axis=1, inplace=True)"
   ]
  },
  {
   "cell_type": "code",
   "execution_count": 27,
   "metadata": {},
   "outputs": [],
   "source": [
    "arrests_df_10_20_req['disorder_arrests_tot'] = arrests_df_10_20_req['curfew_loiter_tot_arrests'] + arrests_df_10_20_req['disorder_cond_tot_arrests']+arrests_df_10_20_req['drunkenness_tot_arrests'] + arrests_df_10_20_req['runaways_tot_arrests']+arrests_df_10_20_req['prostitution_tot_arrests'] + arrests_df_10_20_req['vagrancy_tot_arrests']+arrests_df_10_20_req['vandalism_tot_arrests']\n",
    "            \n",
    "arrests_df_10_20_req['disorder_male_tot_male'] = arrests_df_10_20_req['curfew_loiter_tot_male'] + arrests_df_10_20_req['disorder_cond_tot_male']+arrests_df_10_20_req['drunkenness_tot_male'] + arrests_df_10_20_req['runaways_tot_male']+arrests_df_10_20_req['prostitution_tot_male'] + arrests_df_10_20_req['vagrancy_tot_male']+arrests_df_10_20_req['vandalism_tot_male']\n",
    "            \n",
    "arrests_df_10_20_req['disorder_female_tot_female'] = arrests_df_10_20_req['curfew_loiter_tot_female'] + arrests_df_10_20_req['disorder_cond_tot_female']+arrests_df_10_20_req['drunkenness_tot_female'] + arrests_df_10_20_req['runaways_tot_female']+arrests_df_10_20_req['prostitution_tot_female'] + arrests_df_10_20_req['vagrancy_tot_female']+arrests_df_10_20_req['vandalism_tot_female']\n",
    "            \n",
    "arrests_df_10_20_req['disorder_black_tot_black'] = arrests_df_10_20_req['curfew_loiter_tot_black'] + arrests_df_10_20_req['disorder_cond_tot_black']+arrests_df_10_20_req['drunkenness_tot_black'] + arrests_df_10_20_req['runaways_tot_black']+arrests_df_10_20_req['prostitution_tot_black'] + arrests_df_10_20_req['vagrancy_tot_black']+arrests_df_10_20_req['vandalism_tot_black']\n",
    "            \n",
    "arrests_df_10_20_req['disorder_white_tot_white'] = arrests_df_10_20_req['curfew_loiter_tot_white'] + arrests_df_10_20_req['disorder_cond_tot_white']+arrests_df_10_20_req['drunkenness_tot_white'] + arrests_df_10_20_req['runaways_tot_white']+arrests_df_10_20_req['prostitution_tot_white'] + arrests_df_10_20_req['vagrancy_tot_white']+arrests_df_10_20_req['vandalism_tot_white']\n",
    "\n",
    "            \n",
    "arrests_df_10_20_req.drop(['curfew_loiter_tot_arrests',\n",
    "                            'curfew_loiter_tot_male', \n",
    "                            'curfew_loiter_tot_female', \n",
    "                            'curfew_loiter_tot_black', \n",
    "                            'curfew_loiter_tot_white',\n",
    "\n",
    "                            'disorder_cond_tot_arrests',\n",
    "                            'disorder_cond_tot_male', \n",
    "                            'disorder_cond_tot_female', \n",
    "                            'disorder_cond_tot_black', \n",
    "                            'disorder_cond_tot_white',\n",
    "\n",
    "                            'drunkenness_tot_arrests',\n",
    "                            'drunkenness_tot_male', \n",
    "                            'drunkenness_tot_female', \n",
    "                            'drunkenness_tot_black', \n",
    "                            'drunkenness_tot_white',\n",
    "\n",
    "                            'runaways_tot_arrests',\n",
    "                            'runaways_tot_male', \n",
    "                            'runaways_tot_female', \n",
    "                            'runaways_tot_black', \n",
    "                            'runaways_tot_white',\n",
    "\n",
    "                            'prostitution_tot_arrests',\n",
    "                            'prostitution_tot_male', \n",
    "                            'prostitution_tot_female', \n",
    "                            'prostitution_tot_black', \n",
    "                            'prostitution_tot_white',\n",
    "\n",
    "                            'vagrancy_tot_arrests',\n",
    "                            'vagrancy_tot_male', \n",
    "                            'vagrancy_tot_female', \n",
    "                            'vagrancy_tot_black', \n",
    "                            'vagrancy_tot_white',\n",
    "\n",
    "                            'vandalism_tot_arrests',\n",
    "                            'vandalism_tot_male', \n",
    "                            'vandalism_tot_female', \n",
    "                            'vandalism_tot_black', \n",
    "                            'vandalism_tot_white'], axis=1, inplace=True)"
   ]
  },
  {
   "cell_type": "code",
   "execution_count": 29,
   "metadata": {},
   "outputs": [],
   "source": [
    "arrests_df_10_20_req.drop(['oth_assault_tot_arrests',\n",
    "                            'oth_assault_tot_male', \n",
    "                            'oth_assault_tot_female', \n",
    "                            'oth_assault_tot_black', \n",
    "                            'oth_assault_tot_white',\n",
    "\n",
    "                            'arson_tot_arrests',\n",
    "                            'arson_tot_female',\n",
    "                            'arson_tot_black',\n",
    "                            'arson_tot_male',\n",
    "                            'arson_tot_white'], axis=1, inplace=True)"
   ]
  },
  {
   "cell_type": "code",
   "execution_count": 30,
   "metadata": {},
   "outputs": [
    {
     "name": "stdout",
     "output_type": "stream",
     "text": [
      "['ori', 'population', 'agency_name', 'year', 'state', 'fips_state_code', 'fips_county_code', 'fips_place_code', 'longitude', 'latitude', 'agg_assault_tot_arrests', 'agg_assault_tot_male', 'agg_assault_tot_female', 'agg_assault_tot_black', 'agg_assault_tot_white', 'burglary_tot_arrests', 'burglary_tot_female', 'burglary_tot_black', 'burglary_tot_male', 'burglary_tot_white', 'mtr_veh_theft_tot_arrests', 'mtr_veh_theft_tot_female', 'mtr_veh_theft_tot_black', 'mtr_veh_theft_tot_male', 'mtr_veh_theft_tot_white', 'murder_tot_arrests', 'murder_tot_female', 'murder_tot_black', 'murder_tot_male', 'murder_tot_white', 'rape_tot_arrests', 'rape_tot_female', 'rape_tot_black', 'rape_tot_male', 'rape_tot_white', 'robbery_tot_arrests', 'robbery_tot_female', 'robbery_tot_black', 'robbery_tot_male', 'robbery_tot_white', 'total_drug_tot_arrests', 'total_drug_tot_female', 'total_drug_tot_black', 'total_drug_tot_male', 'total_drug_tot_white', 'sale_drug_total_tot_arrests', 'sale_drug_total_tot_female', 'sale_drug_total_tot_black', 'sale_drug_total_tot_male', 'sale_drug_total_tot_white', 'poss_drug_total_tot_arrests', 'poss_drug_total_tot_female', 'poss_drug_total_tot_black', 'poss_drug_total_tot_male', 'poss_drug_total_tot_white', 'larceny_theft_arrests_tot', 'larceny_theft_arrests_tot_male', 'larceny_theft_arrests_tot_female', 'larceny_theft_arrests_tot_black', 'larceny_theft_arrests_tot_white', 'disorder_arrests_tot', 'disorder_male_tot_male', 'disorder_female_tot_female', 'disorder_black_tot_black', 'disorder_white_tot_white']\n"
     ]
    }
   ],
   "source": [
    "print(list(arrests_df_10_20_req))"
   ]
  },
  {
   "cell_type": "markdown",
   "metadata": {},
   "source": [
    "### Rename Columns"
   ]
  },
  {
   "cell_type": "code",
   "execution_count": 31,
   "metadata": {},
   "outputs": [],
   "source": [
    "arrests_df_10_20_req.rename({'ori': 'ORI','fips_state_code': 'state_fips',\n",
    "                             'fips_county_code': 'county_fips', 'fips_place_code': 'place_fips',\n",
    "                             'agg_assault_tot_male': 'agg_assault_tot_arrests_male',  \n",
    "                             'agg_assault_tot_female': 'agg_assault_tot_arrests_female',\n",
    "                             'agg_assault_tot_black': 'agg_assault_tot_arrests_black',\n",
    "                             'agg_assault_tot_white': 'agg_assault_tot_arrests_white',\n",
    "                             'burglary_tot_male': 'burglary_tot_arrests_male',\n",
    "                             'burglary_tot_female': 'burglary_tot_arrests_female',\n",
    "                             'burglary_tot_black': 'burglary_tot_arrests_black',\n",
    "                             'burglary_tot_white': 'burglary_tot_arrests_white',\n",
    "                             'mtr_veh_theft_tot_male': 'mtr_veh_theft_tot_arrests_male',\n",
    "                             'mtr_veh_theft_tot_female': 'mtr_veh_theft_tot_arrests_female',\n",
    "                             'mtr_veh_theft_tot_black': 'mtr_veh_theft_tot_arrests_black',\n",
    "                             'mtr_veh_theft_tot_white': 'mtr_veh_theft_tot_arrests_white',\n",
    "                             'murder_tot_male': 'murder_tot_arrests_male',\n",
    "                             'murder_tot_female': 'murder_tot_arrests_female',\n",
    "                             'murder_tot_black': 'murder_tot_arrests_black',\n",
    "                             'murder_tot_white': 'murder_tot_arrests_white',\n",
    "                             'rape_tot_male': 'rape_tot_arrests_male',\n",
    "                             'rape_tot_female': 'rape_tot_arrests_female',\n",
    "                             'rape_tot_black': 'rape_tot_arrests_black',\n",
    "                             'rape_tot_white': 'rape_tot_arrests_white',\n",
    "                             'robbery_tot_female': 'robbery_tot_arrests_female',\n",
    "                             'robbery_tot_male': 'robbery_tot_arrests_male',\n",
    "                             'robbery_tot_black': 'robbery_tot_arrests_black',\n",
    "                             'robbery_tot_white': 'robbery_tot_arrests_white',\n",
    "                             'total_drug_tot_arrests': 'drug_tot_arrests',\n",
    "                             'total_drug_tot_female': 'drug_tot_arrests_female',\n",
    "                             'total_drug_tot_black': 'drug_tot_arrests_black',\n",
    "                             'total_drug_tot_male': 'drug_tot_arrests_male',\n",
    "                             'total_drug_tot_white':'drug_tot_arrests_white',\n",
    "                             'sale_drug_total_tot_arrests': 'sale_drug_tot_arrests',\n",
    "                             'sale_drug_total_tot_female': 'sale_drug_tot_arrests_female',\n",
    "                             'sale_drug_total_tot_black': 'sale_drug_tot_arrests_black',\n",
    "                             'sale_drug_total_tot_male': 'sale_drug_tot_arrests_male',\n",
    "                             'sale_drug_total_tot_white': 'sale_drug_tot_arrests_white',\n",
    "                             'poss_drug_total_tot_arrests': 'poss_drug_tot_arrests',\n",
    "                             'poss_drug_total_tot_female': 'poss_drug_tot_arrests_female',\n",
    "                             'poss_drug_total_tot_black': 'poss_drug_tot_arrests_black',\n",
    "                             'poss_drug_total_tot_male': 'poss_drug_tot_arrests_male',\n",
    "                             'poss_drug_total_tot_white': 'poss_drug_tot_arrests_white',\n",
    "                             'larceny_theft_arrests_tot': 'larceny_theft_tot_arrests',\n",
    "                             'larceny_theft_arrests_tot_male': 'larceny_theft_tot_arrests_male',\n",
    "                             'larceny_theft_arrests_tot_female': 'larceny_theft_tot_arrests_female',\n",
    "                             'larceny_theft_arrests_tot_black': 'larceny_theft_tot_arrests_black',\n",
    "                             'larceny_theft_arrests_tot_white': 'larceny_theft_tot_arrests_white',\n",
    "                             'disorder_arrests_tot': 'disorder_tot_arrests',\n",
    "                             'disorder_male_tot_male': 'disorder_tot_arrests_male',\n",
    "                             'disorder_female_tot_female': 'disorder_tot_arrests_female',\n",
    "                             'disorder_black_tot_black': 'disorder_tot_arrests_black',\n",
    "                             'disorder_white_tot_white': 'disorder_tot_arrests_white'}, axis=1, inplace=True)"
   ]
  },
  {
   "cell_type": "code",
   "execution_count": null,
   "metadata": {},
   "outputs": [],
   "source": []
  },
  {
   "cell_type": "code",
   "execution_count": null,
   "metadata": {},
   "outputs": [],
   "source": []
  },
  {
   "cell_type": "markdown",
   "metadata": {},
   "source": [
    "### Getting the ORIs which have data for all years from 2010 - 2020 ##"
   ]
  },
  {
   "cell_type": "code",
   "execution_count": 33,
   "metadata": {},
   "outputs": [
    {
     "name": "stdout",
     "output_type": "stream",
     "text": [
      "2560\n",
      "28160\n"
     ]
    }
   ],
   "source": [
    "years = [2010, 2011, 2012, 2013, 2014, 2015, 2016, 2017, 2018, 2019, 2020]\n",
    "\n",
    "all_rptd_oris = []\n",
    "\n",
    "for ori in arrests_df_10_20_req['ORI'].unique():\n",
    "    ori_years = arrests_df_10_20_req.query(f'ORI == \"{ori}\"')['year'].tolist()\n",
    "    ori_years.sort()\n",
    "    \n",
    "    if ori_years == years:\n",
    "        all_rptd_oris.append(ori)\n",
    "        \n",
    "## Now get only those records for ORIs which are in all_rptd_oris ##\n",
    "arrests_df_10_20_req_all_rept_oris = arrests_df_10_20_req.loc[arrests_df_10_20_req['ORI'].isin(all_rptd_oris)]\n",
    "\n",
    "print(arrests_df_10_20_req_all_rept_oris['ORI'].nunique())\n",
    "print(arrests_df_10_20_req_all_rept_oris.shape[0])\n",
    "\n",
    "arrests_df_10_20_req_all_rept_oris.to_csv('/Users/salma/Research/dissertation_work/data/arrests_jkap/arrests_10_20_req_all_rept_oris.csv',\n",
    "                                       index = False)"
   ]
  },
  {
   "cell_type": "code",
   "execution_count": null,
   "metadata": {},
   "outputs": [],
   "source": []
  },
  {
   "cell_type": "code",
   "execution_count": null,
   "metadata": {},
   "outputs": [],
   "source": []
  },
  {
   "cell_type": "code",
   "execution_count": null,
   "metadata": {},
   "outputs": [],
   "source": []
  },
  {
   "cell_type": "code",
   "execution_count": null,
   "metadata": {},
   "outputs": [],
   "source": []
  }
 ],
 "metadata": {
  "kernelspec": {
   "display_name": "us_crime_data_analysis",
   "language": "python",
   "name": "us_crime_data_analysis"
  },
  "language_info": {
   "codemirror_mode": {
    "name": "ipython",
    "version": 3
   },
   "file_extension": ".py",
   "mimetype": "text/x-python",
   "name": "python",
   "nbconvert_exporter": "python",
   "pygments_lexer": "ipython3",
   "version": "3.8.1"
  }
 },
 "nbformat": 4,
 "nbformat_minor": 4
}
